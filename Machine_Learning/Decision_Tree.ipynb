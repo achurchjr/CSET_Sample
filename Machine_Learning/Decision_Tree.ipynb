{
 "cells": [
  {
   "cell_type": "markdown",
   "metadata": {},
   "source": [
    "# HMDA Decision Tree Classifier\n",
    "## Allen Church\n",
    "### PPOL 565\n",
    "#### May 4, 2020"
   ]
  },
  {
   "cell_type": "code",
   "execution_count": 21,
   "metadata": {},
   "outputs": [],
   "source": [
    "import pandas as pd\n",
    "import numpy as np\n",
    "from sklearn.preprocessing import LabelEncoder\n",
    "from sklearn import preprocessing, tree\n",
    "from sklearn.model_selection import cross_val_score, validation_curve, train_test_split\n",
    "from sklearn.metrics import classification_report, confusion_matrix, accuracy_score\n",
    "import graphviz"
   ]
  },
  {
   "cell_type": "code",
   "execution_count": 22,
   "metadata": {},
   "outputs": [
    {
     "data": {
      "text/plain": [
       "state_code                             727\n",
       "derived_race                             0\n",
       "derived_sex                              0\n",
       "action_taken                             0\n",
       "loan_amount                              0\n",
       "loan_term                              736\n",
       "income                                5852\n",
       "debt_to_income_ratio                 16815\n",
       "applicant_age                            0\n",
       "tract_minority_population_percent        0\n",
       "ffiec_msa_md_median_family_income        0\n",
       "dtype: int64"
      ]
     },
     "execution_count": 22,
     "metadata": {},
     "output_type": "execute_result"
    }
   ],
   "source": [
    "df = pd.read_csv(\"hmda_2018_subset.csv\", usecols=['action_taken','state_code', 'derived_race', 'derived_sex', 'loan_amount', \n",
    "                                                 'loan_term', 'income', 'debt_to_income_ratio', 'applicant_age', 'tract_minority_population_percent', 'ffiec_msa_md_median_family_income'])\n",
    "df.isnull().sum()"
   ]
  },
  {
   "cell_type": "markdown",
   "metadata": {},
   "source": [
    "# Data Cleaning"
   ]
  },
  {
   "cell_type": "code",
   "execution_count": 23,
   "metadata": {},
   "outputs": [],
   "source": [
    "df = df.dropna()"
   ]
  },
  {
   "cell_type": "code",
   "execution_count": 24,
   "metadata": {},
   "outputs": [],
   "source": [
    "# action_taken equals 3 (denied) or 1 (approved)\n",
    "df_apr_deny = df.loc[(df.action_taken==3) | (df.action_taken==1)]\n",
    "\n",
    "# only selecting values for African American or White\n",
    "df_apr_deny = df_apr_deny.loc[(df_apr_deny.derived_race=='White') | (df_apr_deny.derived_race=='Black or African American')]"
   ]
  },
  {
   "cell_type": "code",
   "execution_count": 25,
   "metadata": {},
   "outputs": [],
   "source": [
    "# removing exempt value from debt_income ratio and loan_term, as these are esentially NAs\n",
    "df_apr_deny = df_apr_deny[df_apr_deny[\"debt_to_income_ratio\"].str.contains('Exempt')==False]\n",
    "df_apr_deny = df_apr_deny[df_apr_deny[\"loan_term\"].str.contains('Exempt')==False]"
   ]
  },
  {
   "cell_type": "code",
   "execution_count": 26,
   "metadata": {},
   "outputs": [
    {
     "data": {
      "text/plain": [
       "25540"
      ]
     },
     "execution_count": 26,
     "metadata": {},
     "output_type": "execute_result"
    }
   ],
   "source": [
    "len(df_apr_deny)"
   ]
  },
  {
   "cell_type": "markdown",
   "metadata": {},
   "source": [
    "## Label Encoding so that $0$ == Approved, $1$ == Denied"
   ]
  },
  {
   "cell_type": "code",
   "execution_count": 27,
   "metadata": {},
   "outputs": [
    {
     "name": "stdout",
     "output_type": "stream",
     "text": [
      "[1 3]\n"
     ]
    }
   ],
   "source": [
    "y = df_apr_deny['action_taken']\n",
    "lb = LabelEncoder()\n",
    "lb.fit(y)\n",
    "print(lb.classes_)\n",
    "y = lb.transform(y)"
   ]
  },
  {
   "cell_type": "markdown",
   "metadata": {},
   "source": [
    "## Creating Feature Matrix"
   ]
  },
  {
   "cell_type": "code",
   "execution_count": 28,
   "metadata": {},
   "outputs": [],
   "source": [
    "X = df_apr_deny.drop(['action_taken'], axis=1)"
   ]
  },
  {
   "cell_type": "code",
   "execution_count": 29,
   "metadata": {},
   "outputs": [],
   "source": [
    "# below transforms derived_race so that white = 1 and African American = 0\n",
    "lb.fit(X[\"derived_race\"])\n",
    "X[\"derived_race\"] = lb.transform(X[\"derived_race\"])"
   ]
  },
  {
   "cell_type": "code",
   "execution_count": 30,
   "metadata": {},
   "outputs": [
    {
     "data": {
      "text/html": [
       "<div>\n",
       "<style scoped>\n",
       "    .dataframe tbody tr th:only-of-type {\n",
       "        vertical-align: middle;\n",
       "    }\n",
       "\n",
       "    .dataframe tbody tr th {\n",
       "        vertical-align: top;\n",
       "    }\n",
       "\n",
       "    .dataframe thead th {\n",
       "        text-align: right;\n",
       "    }\n",
       "</style>\n",
       "<table border=\"1\" class=\"dataframe\">\n",
       "  <thead>\n",
       "    <tr style=\"text-align: right;\">\n",
       "      <th></th>\n",
       "      <th>derived_race</th>\n",
       "      <th>loan_amount</th>\n",
       "      <th>loan_term</th>\n",
       "      <th>income</th>\n",
       "      <th>debt_to_income_ratio</th>\n",
       "      <th>tract_minority_population_percent</th>\n",
       "      <th>ffiec_msa_md_median_family_income</th>\n",
       "      <th>state_code_AK</th>\n",
       "      <th>state_code_AL</th>\n",
       "      <th>state_code_AR</th>\n",
       "      <th>...</th>\n",
       "      <th>derived_sex_Male</th>\n",
       "      <th>derived_sex_Sex Not Available</th>\n",
       "      <th>applicant_age_25-34</th>\n",
       "      <th>applicant_age_35-44</th>\n",
       "      <th>applicant_age_45-54</th>\n",
       "      <th>applicant_age_55-64</th>\n",
       "      <th>applicant_age_65-74</th>\n",
       "      <th>applicant_age_8888</th>\n",
       "      <th>applicant_age_&lt;25</th>\n",
       "      <th>applicant_age_&gt;74</th>\n",
       "    </tr>\n",
       "  </thead>\n",
       "  <tbody>\n",
       "    <tr>\n",
       "      <th>0</th>\n",
       "      <td>1</td>\n",
       "      <td>195000</td>\n",
       "      <td>360</td>\n",
       "      <td>78.0</td>\n",
       "      <td>60</td>\n",
       "      <td>14.04</td>\n",
       "      <td>82400</td>\n",
       "      <td>0</td>\n",
       "      <td>0</td>\n",
       "      <td>0</td>\n",
       "      <td>...</td>\n",
       "      <td>1</td>\n",
       "      <td>0</td>\n",
       "      <td>0</td>\n",
       "      <td>0</td>\n",
       "      <td>1</td>\n",
       "      <td>0</td>\n",
       "      <td>0</td>\n",
       "      <td>0</td>\n",
       "      <td>0</td>\n",
       "      <td>0</td>\n",
       "    </tr>\n",
       "    <tr>\n",
       "      <th>1</th>\n",
       "      <td>1</td>\n",
       "      <td>205000</td>\n",
       "      <td>360</td>\n",
       "      <td>64.0</td>\n",
       "      <td>45</td>\n",
       "      <td>11.80</td>\n",
       "      <td>76600</td>\n",
       "      <td>0</td>\n",
       "      <td>0</td>\n",
       "      <td>0</td>\n",
       "      <td>...</td>\n",
       "      <td>1</td>\n",
       "      <td>0</td>\n",
       "      <td>1</td>\n",
       "      <td>0</td>\n",
       "      <td>0</td>\n",
       "      <td>0</td>\n",
       "      <td>0</td>\n",
       "      <td>0</td>\n",
       "      <td>0</td>\n",
       "      <td>0</td>\n",
       "    </tr>\n",
       "    <tr>\n",
       "      <th>2</th>\n",
       "      <td>1</td>\n",
       "      <td>105000</td>\n",
       "      <td>361</td>\n",
       "      <td>41.0</td>\n",
       "      <td>55</td>\n",
       "      <td>8.64</td>\n",
       "      <td>74800</td>\n",
       "      <td>0</td>\n",
       "      <td>0</td>\n",
       "      <td>0</td>\n",
       "      <td>...</td>\n",
       "      <td>0</td>\n",
       "      <td>0</td>\n",
       "      <td>0</td>\n",
       "      <td>0</td>\n",
       "      <td>0</td>\n",
       "      <td>0</td>\n",
       "      <td>0</td>\n",
       "      <td>0</td>\n",
       "      <td>0</td>\n",
       "      <td>1</td>\n",
       "    </tr>\n",
       "    <tr>\n",
       "      <th>3</th>\n",
       "      <td>1</td>\n",
       "      <td>125000</td>\n",
       "      <td>20</td>\n",
       "      <td>142.0</td>\n",
       "      <td>37</td>\n",
       "      <td>7.71</td>\n",
       "      <td>60500</td>\n",
       "      <td>0</td>\n",
       "      <td>0</td>\n",
       "      <td>0</td>\n",
       "      <td>...</td>\n",
       "      <td>1</td>\n",
       "      <td>0</td>\n",
       "      <td>0</td>\n",
       "      <td>1</td>\n",
       "      <td>0</td>\n",
       "      <td>0</td>\n",
       "      <td>0</td>\n",
       "      <td>0</td>\n",
       "      <td>0</td>\n",
       "      <td>0</td>\n",
       "    </tr>\n",
       "    <tr>\n",
       "      <th>4</th>\n",
       "      <td>0</td>\n",
       "      <td>275000</td>\n",
       "      <td>360</td>\n",
       "      <td>85.0</td>\n",
       "      <td>41</td>\n",
       "      <td>77.77</td>\n",
       "      <td>75600</td>\n",
       "      <td>0</td>\n",
       "      <td>0</td>\n",
       "      <td>0</td>\n",
       "      <td>...</td>\n",
       "      <td>0</td>\n",
       "      <td>0</td>\n",
       "      <td>0</td>\n",
       "      <td>0</td>\n",
       "      <td>1</td>\n",
       "      <td>0</td>\n",
       "      <td>0</td>\n",
       "      <td>0</td>\n",
       "      <td>0</td>\n",
       "      <td>0</td>\n",
       "    </tr>\n",
       "  </tbody>\n",
       "</table>\n",
       "<p>5 rows × 71 columns</p>\n",
       "</div>"
      ],
      "text/plain": [
       "   derived_race  loan_amount loan_term  income debt_to_income_ratio  \\\n",
       "0             1       195000       360    78.0                   60   \n",
       "1             1       205000       360    64.0                   45   \n",
       "2             1       105000       361    41.0                   55   \n",
       "3             1       125000        20   142.0                   37   \n",
       "4             0       275000       360    85.0                   41   \n",
       "\n",
       "   tract_minority_population_percent  ffiec_msa_md_median_family_income  \\\n",
       "0                              14.04                              82400   \n",
       "1                              11.80                              76600   \n",
       "2                               8.64                              74800   \n",
       "3                               7.71                              60500   \n",
       "4                              77.77                              75600   \n",
       "\n",
       "   state_code_AK  state_code_AL  state_code_AR        ...          \\\n",
       "0              0              0              0        ...           \n",
       "1              0              0              0        ...           \n",
       "2              0              0              0        ...           \n",
       "3              0              0              0        ...           \n",
       "4              0              0              0        ...           \n",
       "\n",
       "   derived_sex_Male  derived_sex_Sex Not Available  applicant_age_25-34  \\\n",
       "0                 1                              0                    0   \n",
       "1                 1                              0                    1   \n",
       "2                 0                              0                    0   \n",
       "3                 1                              0                    0   \n",
       "4                 0                              0                    0   \n",
       "\n",
       "   applicant_age_35-44  applicant_age_45-54  applicant_age_55-64  \\\n",
       "0                    0                    1                    0   \n",
       "1                    0                    0                    0   \n",
       "2                    0                    0                    0   \n",
       "3                    1                    0                    0   \n",
       "4                    0                    1                    0   \n",
       "\n",
       "   applicant_age_65-74  applicant_age_8888  applicant_age_<25  \\\n",
       "0                    0                   0                  0   \n",
       "1                    0                   0                  0   \n",
       "2                    0                   0                  0   \n",
       "3                    0                   0                  0   \n",
       "4                    0                   0                  0   \n",
       "\n",
       "   applicant_age_>74  \n",
       "0                  0  \n",
       "1                  0  \n",
       "2                  1  \n",
       "3                  0  \n",
       "4                  0  \n",
       "\n",
       "[5 rows x 71 columns]"
      ]
     },
     "execution_count": 30,
     "metadata": {},
     "output_type": "execute_result"
    }
   ],
   "source": [
    "# encoding multiple class variables into dummy variables\n",
    "X = pd.get_dummies(X, columns=[\"state_code\",\"derived_sex\",\"applicant_age\"])\n",
    "X.head()"
   ]
  },
  {
   "cell_type": "code",
   "execution_count": 31,
   "metadata": {},
   "outputs": [],
   "source": [
    "# renaming columns for clarity and visuals below\n",
    "X = X.rename(columns={'derived_race': 'Derived Race', 'loan_amount': 'Loan Amount',\n",
    "                 'loan_term':'Loan Term', 'income':'Income', 'debt_to_income_ratio':'Debt to Income Ratio',\n",
    "                  'tract_minority_population_percent':'Minority Population %',\n",
    "                 'ffiec_msa_md_median_family_income':'Median Family Income',\n",
    "                     'applicant_age_25-34':'Applicant Age: 25-34','state_code_NY':'State: NY',\n",
    "                     'state_code_WY':'State: WY', 'state_code_KY':'State: KY', 'derived_sex_Joint':\n",
    "                      'Sex: Joint'})"
   ]
  },
  {
   "cell_type": "markdown",
   "metadata": {},
   "source": [
    "# Splitting into Training/Testing Sets"
   ]
  },
  {
   "cell_type": "code",
   "execution_count": 32,
   "metadata": {},
   "outputs": [],
   "source": [
    "X_train, X_test, y_train, y_test = train_test_split(X, y, test_size=0.3, random_state=1) # 70% training and 30% test"
   ]
  },
  {
   "cell_type": "markdown",
   "metadata": {},
   "source": [
    "# Decision Tree Classifier"
   ]
  },
  {
   "cell_type": "code",
   "execution_count": 33,
   "metadata": {},
   "outputs": [
    {
     "data": {
      "text/plain": [
       "DecisionTreeClassifier(class_weight=None, criterion='gini', max_depth=5,\n",
       "                       max_features=None, max_leaf_nodes=None,\n",
       "                       min_impurity_decrease=0.0, min_impurity_split=None,\n",
       "                       min_samples_leaf=1, min_samples_split=2,\n",
       "                       min_weight_fraction_leaf=0.0, presort=False,\n",
       "                       random_state=None, splitter='best')"
      ]
     },
     "execution_count": 33,
     "metadata": {},
     "output_type": "execute_result"
    }
   ],
   "source": [
    "# max depth 5 produces best fit and most interpretable tree\n",
    "model = tree.DecisionTreeClassifier(max_depth=5)\n",
    "model.fit(X_train, y_train)"
   ]
  },
  {
   "cell_type": "code",
   "execution_count": 34,
   "metadata": {},
   "outputs": [],
   "source": [
    "# transposing feature_importances into top 5 for graphing below\n",
    "coef = pd.concat([pd.DataFrame(X.columns),pd.DataFrame(np.transpose(model.feature_importances_))], axis = 1)\n",
    "coef.columns = ['Variable', 'Proportion']\n",
    "coef = coef.nlargest(5, 'Proportion')\n",
    "coef = coef.round(3)"
   ]
  },
  {
   "cell_type": "markdown",
   "metadata": {},
   "source": [
    "# Decision Tree Graphic"
   ]
  },
  {
   "cell_type": "code",
   "execution_count": 35,
   "metadata": {},
   "outputs": [
    {
     "data": {
      "image/svg+xml": [
       "<?xml version=\"1.0\" encoding=\"UTF-8\" standalone=\"no\"?>\n",
       "<!DOCTYPE svg PUBLIC \"-//W3C//DTD SVG 1.1//EN\"\n",
       " \"http://www.w3.org/Graphics/SVG/1.1/DTD/svg11.dtd\">\n",
       "<!-- Generated by graphviz version 2.42.3 (20191010.1750)\n",
       " -->\n",
       "<!-- Title: Tree Pages: 1 -->\n",
       "<svg width=\"3088pt\" height=\"642pt\"\n",
       " viewBox=\"0.00 0.00 3088.43 642.00\" xmlns=\"http://www.w3.org/2000/svg\" xmlns:xlink=\"http://www.w3.org/1999/xlink\">\n",
       "<g id=\"graph0\" class=\"graph\" transform=\"scale(1 1) rotate(0) translate(4 638)\">\n",
       "<title>Tree</title>\n",
       "<polygon fill=\"white\" stroke=\"transparent\" points=\"-4,4 -4,-638 3084.43,-638 3084.43,4 -4,4\"/>\n",
       "<!-- 0 -->\n",
       "<g id=\"node1\" class=\"node\">\n",
       "<title>0</title>\n",
       "<polygon fill=\"none\" stroke=\"black\" points=\"1942.87,-634 1758.46,-634 1758.46,-556 1942.87,-556 1942.87,-634\"/>\n",
       "<text text-anchor=\"middle\" x=\"1850.67\" y=\"-618.8\" font-family=\"Times,serif\" font-size=\"14.00\">Debt to Income Ratio &lt;= 57.5</text>\n",
       "<text text-anchor=\"middle\" x=\"1850.67\" y=\"-604.8\" font-family=\"Times,serif\" font-size=\"14.00\">gini = 0.352</text>\n",
       "<text text-anchor=\"middle\" x=\"1850.67\" y=\"-590.8\" font-family=\"Times,serif\" font-size=\"14.00\">samples = 17878</text>\n",
       "<text text-anchor=\"middle\" x=\"1850.67\" y=\"-576.8\" font-family=\"Times,serif\" font-size=\"14.00\">value = [13802, 4076]</text>\n",
       "<text text-anchor=\"middle\" x=\"1850.67\" y=\"-562.8\" font-family=\"Times,serif\" font-size=\"14.00\">class = Approved</text>\n",
       "</g>\n",
       "<!-- 1 -->\n",
       "<g id=\"node2\" class=\"node\">\n",
       "<title>1</title>\n",
       "<polygon fill=\"none\" stroke=\"black\" points=\"1599.35,-520 1437.98,-520 1437.98,-442 1599.35,-442 1599.35,-520\"/>\n",
       "<text text-anchor=\"middle\" x=\"1518.67\" y=\"-504.8\" font-family=\"Times,serif\" font-size=\"14.00\">Loan Amount &lt;= 70000.0</text>\n",
       "<text text-anchor=\"middle\" x=\"1518.67\" y=\"-490.8\" font-family=\"Times,serif\" font-size=\"14.00\">gini = 0.299</text>\n",
       "<text text-anchor=\"middle\" x=\"1518.67\" y=\"-476.8\" font-family=\"Times,serif\" font-size=\"14.00\">samples = 16771</text>\n",
       "<text text-anchor=\"middle\" x=\"1518.67\" y=\"-462.8\" font-family=\"Times,serif\" font-size=\"14.00\">value = [13705, 3066]</text>\n",
       "<text text-anchor=\"middle\" x=\"1518.67\" y=\"-448.8\" font-family=\"Times,serif\" font-size=\"14.00\">class = Approved</text>\n",
       "</g>\n",
       "<!-- 0&#45;&gt;1 -->\n",
       "<g id=\"edge1\" class=\"edge\">\n",
       "<title>0&#45;&gt;1</title>\n",
       "<path fill=\"none\" stroke=\"black\" d=\"M1758.18,-562.8C1711.61,-547.09 1655.36,-528.12 1609.08,-512.5\"/>\n",
       "<polygon fill=\"black\" stroke=\"black\" points=\"1609.96,-509.1 1599.36,-509.22 1607.72,-515.74 1609.96,-509.1\"/>\n",
       "<text text-anchor=\"middle\" x=\"1610.46\" y=\"-527.42\" font-family=\"Times,serif\" font-size=\"14.00\">True</text>\n",
       "</g>\n",
       "<!-- 32 -->\n",
       "<g id=\"node33\" class=\"node\">\n",
       "<title>32</title>\n",
       "<polygon fill=\"none\" stroke=\"black\" points=\"2044.82,-520 1920.51,-520 1920.51,-442 2044.82,-442 2044.82,-520\"/>\n",
       "<text text-anchor=\"middle\" x=\"1982.67\" y=\"-504.8\" font-family=\"Times,serif\" font-size=\"14.00\">Loan Term &lt;= 16.0</text>\n",
       "<text text-anchor=\"middle\" x=\"1982.67\" y=\"-490.8\" font-family=\"Times,serif\" font-size=\"14.00\">gini = 0.16</text>\n",
       "<text text-anchor=\"middle\" x=\"1982.67\" y=\"-476.8\" font-family=\"Times,serif\" font-size=\"14.00\">samples = 1107</text>\n",
       "<text text-anchor=\"middle\" x=\"1982.67\" y=\"-462.8\" font-family=\"Times,serif\" font-size=\"14.00\">value = [97, 1010]</text>\n",
       "<text text-anchor=\"middle\" x=\"1982.67\" y=\"-448.8\" font-family=\"Times,serif\" font-size=\"14.00\">class = Denied</text>\n",
       "</g>\n",
       "<!-- 0&#45;&gt;32 -->\n",
       "<g id=\"edge32\" class=\"edge\">\n",
       "<title>0&#45;&gt;32</title>\n",
       "<path fill=\"none\" stroke=\"black\" d=\"M1895.72,-555.77C1906.77,-546.4 1918.68,-536.29 1930.05,-526.64\"/>\n",
       "<polygon fill=\"black\" stroke=\"black\" points=\"1932.45,-529.2 1937.81,-520.06 1927.92,-523.86 1932.45,-529.2\"/>\n",
       "<text text-anchor=\"middle\" x=\"1935.77\" y=\"-540.77\" font-family=\"Times,serif\" font-size=\"14.00\">False</text>\n",
       "</g>\n",
       "<!-- 2 -->\n",
       "<g id=\"node3\" class=\"node\">\n",
       "<title>2</title>\n",
       "<polygon fill=\"none\" stroke=\"black\" points=\"865.87,-406 681.46,-406 681.46,-328 865.87,-328 865.87,-406\"/>\n",
       "<text text-anchor=\"middle\" x=\"773.67\" y=\"-390.8\" font-family=\"Times,serif\" font-size=\"14.00\">Debt to Income Ratio &lt;= 52.0</text>\n",
       "<text text-anchor=\"middle\" x=\"773.67\" y=\"-376.8\" font-family=\"Times,serif\" font-size=\"14.00\">gini = 0.445</text>\n",
       "<text text-anchor=\"middle\" x=\"773.67\" y=\"-362.8\" font-family=\"Times,serif\" font-size=\"14.00\">samples = 3205</text>\n",
       "<text text-anchor=\"middle\" x=\"773.67\" y=\"-348.8\" font-family=\"Times,serif\" font-size=\"14.00\">value = [2132, 1073]</text>\n",
       "<text text-anchor=\"middle\" x=\"773.67\" y=\"-334.8\" font-family=\"Times,serif\" font-size=\"14.00\">class = Approved</text>\n",
       "</g>\n",
       "<!-- 1&#45;&gt;2 -->\n",
       "<g id=\"edge2\" class=\"edge\">\n",
       "<title>1&#45;&gt;2</title>\n",
       "<path fill=\"none\" stroke=\"black\" d=\"M1437.87,-467.85C1301.45,-447.34 1025.67,-405.89 875.96,-383.38\"/>\n",
       "<polygon fill=\"black\" stroke=\"black\" points=\"876.25,-379.88 865.84,-381.86 875.21,-386.8 876.25,-379.88\"/>\n",
       "</g>\n",
       "<!-- 17 -->\n",
       "<g id=\"node18\" class=\"node\">\n",
       "<title>17</title>\n",
       "<polygon fill=\"none\" stroke=\"black\" points=\"1610.87,-406 1426.46,-406 1426.46,-328 1610.87,-328 1610.87,-406\"/>\n",
       "<text text-anchor=\"middle\" x=\"1518.67\" y=\"-390.8\" font-family=\"Times,serif\" font-size=\"14.00\">Debt to Income Ratio &lt;= 52.0</text>\n",
       "<text text-anchor=\"middle\" x=\"1518.67\" y=\"-376.8\" font-family=\"Times,serif\" font-size=\"14.00\">gini = 0.251</text>\n",
       "<text text-anchor=\"middle\" x=\"1518.67\" y=\"-362.8\" font-family=\"Times,serif\" font-size=\"14.00\">samples = 13566</text>\n",
       "<text text-anchor=\"middle\" x=\"1518.67\" y=\"-348.8\" font-family=\"Times,serif\" font-size=\"14.00\">value = [11573, 1993]</text>\n",
       "<text text-anchor=\"middle\" x=\"1518.67\" y=\"-334.8\" font-family=\"Times,serif\" font-size=\"14.00\">class = Approved</text>\n",
       "</g>\n",
       "<!-- 1&#45;&gt;17 -->\n",
       "<g id=\"edge17\" class=\"edge\">\n",
       "<title>1&#45;&gt;17</title>\n",
       "<path fill=\"none\" stroke=\"black\" d=\"M1518.67,-441.77C1518.67,-433.57 1518.67,-424.8 1518.67,-416.28\"/>\n",
       "<polygon fill=\"black\" stroke=\"black\" points=\"1522.17,-416.06 1518.67,-406.06 1515.17,-416.06 1522.17,-416.06\"/>\n",
       "</g>\n",
       "<!-- 3 -->\n",
       "<g id=\"node4\" class=\"node\">\n",
       "<title>3</title>\n",
       "<polygon fill=\"none\" stroke=\"black\" points=\"487.32,-292 356.01,-292 356.01,-214 487.32,-214 487.32,-292\"/>\n",
       "<text text-anchor=\"middle\" x=\"421.67\" y=\"-276.8\" font-family=\"Times,serif\" font-size=\"14.00\">Loan Term &lt;= 150.0</text>\n",
       "<text text-anchor=\"middle\" x=\"421.67\" y=\"-262.8\" font-family=\"Times,serif\" font-size=\"14.00\">gini = 0.418</text>\n",
       "<text text-anchor=\"middle\" x=\"421.67\" y=\"-248.8\" font-family=\"Times,serif\" font-size=\"14.00\">samples = 2936</text>\n",
       "<text text-anchor=\"middle\" x=\"421.67\" y=\"-234.8\" font-family=\"Times,serif\" font-size=\"14.00\">value = [2063, 873]</text>\n",
       "<text text-anchor=\"middle\" x=\"421.67\" y=\"-220.8\" font-family=\"Times,serif\" font-size=\"14.00\">class = Approved</text>\n",
       "</g>\n",
       "<!-- 2&#45;&gt;3 -->\n",
       "<g id=\"edge3\" class=\"edge\">\n",
       "<title>2&#45;&gt;3</title>\n",
       "<path fill=\"none\" stroke=\"black\" d=\"M681.18,-336.57C623.85,-318.33 551.12,-295.19 497.25,-278.05\"/>\n",
       "<polygon fill=\"black\" stroke=\"black\" points=\"498.01,-274.62 487.42,-274.92 495.88,-281.29 498.01,-274.62\"/>\n",
       "</g>\n",
       "<!-- 10 -->\n",
       "<g id=\"node11\" class=\"node\">\n",
       "<title>10</title>\n",
       "<polygon fill=\"none\" stroke=\"black\" points=\"835.82,-292 711.51,-292 711.51,-214 835.82,-214 835.82,-292\"/>\n",
       "<text text-anchor=\"middle\" x=\"773.67\" y=\"-276.8\" font-family=\"Times,serif\" font-size=\"14.00\">Loan Term &lt;= 67.0</text>\n",
       "<text text-anchor=\"middle\" x=\"773.67\" y=\"-262.8\" font-family=\"Times,serif\" font-size=\"14.00\">gini = 0.381</text>\n",
       "<text text-anchor=\"middle\" x=\"773.67\" y=\"-248.8\" font-family=\"Times,serif\" font-size=\"14.00\">samples = 269</text>\n",
       "<text text-anchor=\"middle\" x=\"773.67\" y=\"-234.8\" font-family=\"Times,serif\" font-size=\"14.00\">value = [69, 200]</text>\n",
       "<text text-anchor=\"middle\" x=\"773.67\" y=\"-220.8\" font-family=\"Times,serif\" font-size=\"14.00\">class = Denied</text>\n",
       "</g>\n",
       "<!-- 2&#45;&gt;10 -->\n",
       "<g id=\"edge10\" class=\"edge\">\n",
       "<title>2&#45;&gt;10</title>\n",
       "<path fill=\"none\" stroke=\"black\" d=\"M773.67,-327.77C773.67,-319.57 773.67,-310.8 773.67,-302.28\"/>\n",
       "<polygon fill=\"black\" stroke=\"black\" points=\"777.17,-302.06 773.67,-292.06 770.17,-302.06 777.17,-302.06\"/>\n",
       "</g>\n",
       "<!-- 4 -->\n",
       "<g id=\"node5\" class=\"node\">\n",
       "<title>4</title>\n",
       "<polygon fill=\"none\" stroke=\"black\" points=\"279.87,-178 95.46,-178 95.46,-100 279.87,-100 279.87,-178\"/>\n",
       "<text text-anchor=\"middle\" x=\"187.67\" y=\"-162.8\" font-family=\"Times,serif\" font-size=\"14.00\">Debt to Income Ratio &lt;= 34.5</text>\n",
       "<text text-anchor=\"middle\" x=\"187.67\" y=\"-148.8\" font-family=\"Times,serif\" font-size=\"14.00\">gini = 0.273</text>\n",
       "<text text-anchor=\"middle\" x=\"187.67\" y=\"-134.8\" font-family=\"Times,serif\" font-size=\"14.00\">samples = 608</text>\n",
       "<text text-anchor=\"middle\" x=\"187.67\" y=\"-120.8\" font-family=\"Times,serif\" font-size=\"14.00\">value = [509, 99]</text>\n",
       "<text text-anchor=\"middle\" x=\"187.67\" y=\"-106.8\" font-family=\"Times,serif\" font-size=\"14.00\">class = Approved</text>\n",
       "</g>\n",
       "<!-- 3&#45;&gt;4 -->\n",
       "<g id=\"edge4\" class=\"edge\">\n",
       "<title>3&#45;&gt;4</title>\n",
       "<path fill=\"none\" stroke=\"black\" d=\"M355.86,-220.5C331.19,-208.7 302.74,-195.08 276.34,-182.44\"/>\n",
       "<polygon fill=\"black\" stroke=\"black\" points=\"277.63,-179.18 267.1,-178.02 274.6,-185.49 277.63,-179.18\"/>\n",
       "</g>\n",
       "<!-- 7 -->\n",
       "<g id=\"node8\" class=\"node\">\n",
       "<title>7</title>\n",
       "<polygon fill=\"none\" stroke=\"black\" points=\"518.07,-178 325.26,-178 325.26,-100 518.07,-100 518.07,-178\"/>\n",
       "<text text-anchor=\"middle\" x=\"421.67\" y=\"-162.8\" font-family=\"Times,serif\" font-size=\"14.00\">Minority Population % &lt;= 0.01</text>\n",
       "<text text-anchor=\"middle\" x=\"421.67\" y=\"-148.8\" font-family=\"Times,serif\" font-size=\"14.00\">gini = 0.444</text>\n",
       "<text text-anchor=\"middle\" x=\"421.67\" y=\"-134.8\" font-family=\"Times,serif\" font-size=\"14.00\">samples = 2328</text>\n",
       "<text text-anchor=\"middle\" x=\"421.67\" y=\"-120.8\" font-family=\"Times,serif\" font-size=\"14.00\">value = [1554, 774]</text>\n",
       "<text text-anchor=\"middle\" x=\"421.67\" y=\"-106.8\" font-family=\"Times,serif\" font-size=\"14.00\">class = Approved</text>\n",
       "</g>\n",
       "<!-- 3&#45;&gt;7 -->\n",
       "<g id=\"edge7\" class=\"edge\">\n",
       "<title>3&#45;&gt;7</title>\n",
       "<path fill=\"none\" stroke=\"black\" d=\"M421.67,-213.77C421.67,-205.57 421.67,-196.8 421.67,-188.28\"/>\n",
       "<polygon fill=\"black\" stroke=\"black\" points=\"425.17,-188.06 421.67,-178.06 418.17,-188.06 425.17,-188.06\"/>\n",
       "</g>\n",
       "<!-- 5 -->\n",
       "<g id=\"node6\" class=\"node\">\n",
       "<title>5</title>\n",
       "<polygon fill=\"none\" stroke=\"black\" points=\"113.5,-64 -0.17,-64 -0.17,0 113.5,0 113.5,-64\"/>\n",
       "<text text-anchor=\"middle\" x=\"56.67\" y=\"-48.8\" font-family=\"Times,serif\" font-size=\"14.00\">gini = 0.178</text>\n",
       "<text text-anchor=\"middle\" x=\"56.67\" y=\"-34.8\" font-family=\"Times,serif\" font-size=\"14.00\">samples = 396</text>\n",
       "<text text-anchor=\"middle\" x=\"56.67\" y=\"-20.8\" font-family=\"Times,serif\" font-size=\"14.00\">value = [357, 39]</text>\n",
       "<text text-anchor=\"middle\" x=\"56.67\" y=\"-6.8\" font-family=\"Times,serif\" font-size=\"14.00\">class = Approved</text>\n",
       "</g>\n",
       "<!-- 4&#45;&gt;5 -->\n",
       "<g id=\"edge5\" class=\"edge\">\n",
       "<title>4&#45;&gt;5</title>\n",
       "<path fill=\"none\" stroke=\"black\" d=\"M140,-99.8C128.11,-90.27 115.38,-80.06 103.53,-70.56\"/>\n",
       "<polygon fill=\"black\" stroke=\"black\" points=\"105.48,-67.64 95.49,-64.12 101.1,-73.1 105.48,-67.64\"/>\n",
       "</g>\n",
       "<!-- 6 -->\n",
       "<g id=\"node7\" class=\"node\">\n",
       "<title>6</title>\n",
       "<polygon fill=\"none\" stroke=\"black\" points=\"244.5,-64 130.83,-64 130.83,0 244.5,0 244.5,-64\"/>\n",
       "<text text-anchor=\"middle\" x=\"187.67\" y=\"-48.8\" font-family=\"Times,serif\" font-size=\"14.00\">gini = 0.406</text>\n",
       "<text text-anchor=\"middle\" x=\"187.67\" y=\"-34.8\" font-family=\"Times,serif\" font-size=\"14.00\">samples = 212</text>\n",
       "<text text-anchor=\"middle\" x=\"187.67\" y=\"-20.8\" font-family=\"Times,serif\" font-size=\"14.00\">value = [152, 60]</text>\n",
       "<text text-anchor=\"middle\" x=\"187.67\" y=\"-6.8\" font-family=\"Times,serif\" font-size=\"14.00\">class = Approved</text>\n",
       "</g>\n",
       "<!-- 4&#45;&gt;6 -->\n",
       "<g id=\"edge6\" class=\"edge\">\n",
       "<title>4&#45;&gt;6</title>\n",
       "<path fill=\"none\" stroke=\"black\" d=\"M187.67,-99.8C187.67,-91.46 187.67,-82.6 187.67,-74.15\"/>\n",
       "<polygon fill=\"black\" stroke=\"black\" points=\"191.17,-74.12 187.67,-64.12 184.17,-74.12 191.17,-74.12\"/>\n",
       "</g>\n",
       "<!-- 8 -->\n",
       "<g id=\"node9\" class=\"node\">\n",
       "<title>8</title>\n",
       "<polygon fill=\"none\" stroke=\"black\" points=\"367.2,-64 262.13,-64 262.13,0 367.2,0 367.2,-64\"/>\n",
       "<text text-anchor=\"middle\" x=\"314.67\" y=\"-48.8\" font-family=\"Times,serif\" font-size=\"14.00\">gini = 0.384</text>\n",
       "<text text-anchor=\"middle\" x=\"314.67\" y=\"-34.8\" font-family=\"Times,serif\" font-size=\"14.00\">samples = 54</text>\n",
       "<text text-anchor=\"middle\" x=\"314.67\" y=\"-20.8\" font-family=\"Times,serif\" font-size=\"14.00\">value = [14, 40]</text>\n",
       "<text text-anchor=\"middle\" x=\"314.67\" y=\"-6.8\" font-family=\"Times,serif\" font-size=\"14.00\">class = Denied</text>\n",
       "</g>\n",
       "<!-- 7&#45;&gt;8 -->\n",
       "<g id=\"edge8\" class=\"edge\">\n",
       "<title>7&#45;&gt;8</title>\n",
       "<path fill=\"none\" stroke=\"black\" d=\"M382.73,-99.8C373.3,-90.54 363.22,-80.65 353.78,-71.38\"/>\n",
       "<polygon fill=\"black\" stroke=\"black\" points=\"355.96,-68.62 346.37,-64.12 351.06,-73.62 355.96,-68.62\"/>\n",
       "</g>\n",
       "<!-- 9 -->\n",
       "<g id=\"node10\" class=\"node\">\n",
       "<title>9</title>\n",
       "<polygon fill=\"none\" stroke=\"black\" points=\"511.7,-64 385.63,-64 385.63,0 511.7,0 511.7,-64\"/>\n",
       "<text text-anchor=\"middle\" x=\"448.67\" y=\"-48.8\" font-family=\"Times,serif\" font-size=\"14.00\">gini = 0.437</text>\n",
       "<text text-anchor=\"middle\" x=\"448.67\" y=\"-34.8\" font-family=\"Times,serif\" font-size=\"14.00\">samples = 2274</text>\n",
       "<text text-anchor=\"middle\" x=\"448.67\" y=\"-20.8\" font-family=\"Times,serif\" font-size=\"14.00\">value = [1540, 734]</text>\n",
       "<text text-anchor=\"middle\" x=\"448.67\" y=\"-6.8\" font-family=\"Times,serif\" font-size=\"14.00\">class = Approved</text>\n",
       "</g>\n",
       "<!-- 7&#45;&gt;9 -->\n",
       "<g id=\"edge9\" class=\"edge\">\n",
       "<title>7&#45;&gt;9</title>\n",
       "<path fill=\"none\" stroke=\"black\" d=\"M431.49,-99.8C433.66,-91.37 435.96,-82.41 438.15,-73.88\"/>\n",
       "<polygon fill=\"black\" stroke=\"black\" points=\"441.56,-74.67 440.66,-64.12 434.78,-72.93 441.56,-74.67\"/>\n",
       "</g>\n",
       "<!-- 11 -->\n",
       "<g id=\"node12\" class=\"node\">\n",
       "<title>11</title>\n",
       "<polygon fill=\"none\" stroke=\"black\" points=\"764.5,-178 650.83,-178 650.83,-100 764.5,-100 764.5,-178\"/>\n",
       "<text text-anchor=\"middle\" x=\"707.67\" y=\"-162.8\" font-family=\"Times,serif\" font-size=\"14.00\">Income &lt;= 109.5</text>\n",
       "<text text-anchor=\"middle\" x=\"707.67\" y=\"-148.8\" font-family=\"Times,serif\" font-size=\"14.00\">gini = 0.495</text>\n",
       "<text text-anchor=\"middle\" x=\"707.67\" y=\"-134.8\" font-family=\"Times,serif\" font-size=\"14.00\">samples = 20</text>\n",
       "<text text-anchor=\"middle\" x=\"707.67\" y=\"-120.8\" font-family=\"Times,serif\" font-size=\"14.00\">value = [11, 9]</text>\n",
       "<text text-anchor=\"middle\" x=\"707.67\" y=\"-106.8\" font-family=\"Times,serif\" font-size=\"14.00\">class = Approved</text>\n",
       "</g>\n",
       "<!-- 10&#45;&gt;11 -->\n",
       "<g id=\"edge11\" class=\"edge\">\n",
       "<title>10&#45;&gt;11</title>\n",
       "<path fill=\"none\" stroke=\"black\" d=\"M751.14,-213.77C746.04,-205.12 740.57,-195.84 735.29,-186.88\"/>\n",
       "<polygon fill=\"black\" stroke=\"black\" points=\"738.18,-184.9 730.09,-178.06 732.15,-188.45 738.18,-184.9\"/>\n",
       "</g>\n",
       "<!-- 14 -->\n",
       "<g id=\"node15\" class=\"node\">\n",
       "<title>14</title>\n",
       "<polygon fill=\"none\" stroke=\"black\" points=\"894.7,-178 782.63,-178 782.63,-100 894.7,-100 894.7,-178\"/>\n",
       "<text text-anchor=\"middle\" x=\"838.67\" y=\"-162.8\" font-family=\"Times,serif\" font-size=\"14.00\">State: NY &lt;= 0.5</text>\n",
       "<text text-anchor=\"middle\" x=\"838.67\" y=\"-148.8\" font-family=\"Times,serif\" font-size=\"14.00\">gini = 0.357</text>\n",
       "<text text-anchor=\"middle\" x=\"838.67\" y=\"-134.8\" font-family=\"Times,serif\" font-size=\"14.00\">samples = 249</text>\n",
       "<text text-anchor=\"middle\" x=\"838.67\" y=\"-120.8\" font-family=\"Times,serif\" font-size=\"14.00\">value = [58, 191]</text>\n",
       "<text text-anchor=\"middle\" x=\"838.67\" y=\"-106.8\" font-family=\"Times,serif\" font-size=\"14.00\">class = Denied</text>\n",
       "</g>\n",
       "<!-- 10&#45;&gt;14 -->\n",
       "<g id=\"edge14\" class=\"edge\">\n",
       "<title>10&#45;&gt;14</title>\n",
       "<path fill=\"none\" stroke=\"black\" d=\"M795.85,-213.77C800.87,-205.12 806.26,-195.84 811.46,-186.88\"/>\n",
       "<polygon fill=\"black\" stroke=\"black\" points=\"814.59,-188.46 816.58,-178.06 808.53,-184.95 814.59,-188.46\"/>\n",
       "</g>\n",
       "<!-- 12 -->\n",
       "<g id=\"node13\" class=\"node\">\n",
       "<title>12</title>\n",
       "<polygon fill=\"none\" stroke=\"black\" points=\"643.5,-64 529.83,-64 529.83,0 643.5,0 643.5,-64\"/>\n",
       "<text text-anchor=\"middle\" x=\"586.67\" y=\"-48.8\" font-family=\"Times,serif\" font-size=\"14.00\">gini = 0.457</text>\n",
       "<text text-anchor=\"middle\" x=\"586.67\" y=\"-34.8\" font-family=\"Times,serif\" font-size=\"14.00\">samples = 17</text>\n",
       "<text text-anchor=\"middle\" x=\"586.67\" y=\"-20.8\" font-family=\"Times,serif\" font-size=\"14.00\">value = [11, 6]</text>\n",
       "<text text-anchor=\"middle\" x=\"586.67\" y=\"-6.8\" font-family=\"Times,serif\" font-size=\"14.00\">class = Approved</text>\n",
       "</g>\n",
       "<!-- 11&#45;&gt;12 -->\n",
       "<g id=\"edge12\" class=\"edge\">\n",
       "<title>11&#45;&gt;12</title>\n",
       "<path fill=\"none\" stroke=\"black\" d=\"M663.64,-99.8C652.76,-90.36 641.12,-80.25 630.27,-70.84\"/>\n",
       "<polygon fill=\"black\" stroke=\"black\" points=\"632.37,-68.03 622.52,-64.12 627.78,-73.31 632.37,-68.03\"/>\n",
       "</g>\n",
       "<!-- 13 -->\n",
       "<g id=\"node14\" class=\"node\">\n",
       "<title>13</title>\n",
       "<polygon fill=\"none\" stroke=\"black\" points=\"759.7,-64 661.63,-64 661.63,0 759.7,0 759.7,-64\"/>\n",
       "<text text-anchor=\"middle\" x=\"710.67\" y=\"-48.8\" font-family=\"Times,serif\" font-size=\"14.00\">gini = 0.0</text>\n",
       "<text text-anchor=\"middle\" x=\"710.67\" y=\"-34.8\" font-family=\"Times,serif\" font-size=\"14.00\">samples = 3</text>\n",
       "<text text-anchor=\"middle\" x=\"710.67\" y=\"-20.8\" font-family=\"Times,serif\" font-size=\"14.00\">value = [0, 3]</text>\n",
       "<text text-anchor=\"middle\" x=\"710.67\" y=\"-6.8\" font-family=\"Times,serif\" font-size=\"14.00\">class = Denied</text>\n",
       "</g>\n",
       "<!-- 11&#45;&gt;13 -->\n",
       "<g id=\"edge13\" class=\"edge\">\n",
       "<title>11&#45;&gt;13</title>\n",
       "<path fill=\"none\" stroke=\"black\" d=\"M708.76,-99.8C708.99,-91.46 709.25,-82.6 709.49,-74.15\"/>\n",
       "<polygon fill=\"black\" stroke=\"black\" points=\"712.99,-74.21 709.78,-64.12 705.99,-74.01 712.99,-74.21\"/>\n",
       "</g>\n",
       "<!-- 15 -->\n",
       "<g id=\"node16\" class=\"node\">\n",
       "<title>15</title>\n",
       "<polygon fill=\"none\" stroke=\"black\" points=\"890.7,-64 778.63,-64 778.63,0 890.7,0 890.7,-64\"/>\n",
       "<text text-anchor=\"middle\" x=\"834.67\" y=\"-48.8\" font-family=\"Times,serif\" font-size=\"14.00\">gini = 0.34</text>\n",
       "<text text-anchor=\"middle\" x=\"834.67\" y=\"-34.8\" font-family=\"Times,serif\" font-size=\"14.00\">samples = 239</text>\n",
       "<text text-anchor=\"middle\" x=\"834.67\" y=\"-20.8\" font-family=\"Times,serif\" font-size=\"14.00\">value = [52, 187]</text>\n",
       "<text text-anchor=\"middle\" x=\"834.67\" y=\"-6.8\" font-family=\"Times,serif\" font-size=\"14.00\">class = Denied</text>\n",
       "</g>\n",
       "<!-- 14&#45;&gt;15 -->\n",
       "<g id=\"edge15\" class=\"edge\">\n",
       "<title>14&#45;&gt;15</title>\n",
       "<path fill=\"none\" stroke=\"black\" d=\"M837.21,-99.8C836.89,-91.46 836.55,-82.6 836.23,-74.15\"/>\n",
       "<polygon fill=\"black\" stroke=\"black\" points=\"839.73,-73.98 835.85,-64.12 832.73,-74.24 839.73,-73.98\"/>\n",
       "</g>\n",
       "<!-- 16 -->\n",
       "<g id=\"node17\" class=\"node\">\n",
       "<title>16</title>\n",
       "<polygon fill=\"none\" stroke=\"black\" points=\"1022.5,-64 908.83,-64 908.83,0 1022.5,0 1022.5,-64\"/>\n",
       "<text text-anchor=\"middle\" x=\"965.67\" y=\"-48.8\" font-family=\"Times,serif\" font-size=\"14.00\">gini = 0.48</text>\n",
       "<text text-anchor=\"middle\" x=\"965.67\" y=\"-34.8\" font-family=\"Times,serif\" font-size=\"14.00\">samples = 10</text>\n",
       "<text text-anchor=\"middle\" x=\"965.67\" y=\"-20.8\" font-family=\"Times,serif\" font-size=\"14.00\">value = [6, 4]</text>\n",
       "<text text-anchor=\"middle\" x=\"965.67\" y=\"-6.8\" font-family=\"Times,serif\" font-size=\"14.00\">class = Approved</text>\n",
       "</g>\n",
       "<!-- 14&#45;&gt;16 -->\n",
       "<g id=\"edge16\" class=\"edge\">\n",
       "<title>14&#45;&gt;16</title>\n",
       "<path fill=\"none\" stroke=\"black\" d=\"M884.87,-99.8C896.4,-90.27 908.75,-80.06 920.23,-70.56\"/>\n",
       "<polygon fill=\"black\" stroke=\"black\" points=\"922.55,-73.19 928.03,-64.12 918.09,-67.79 922.55,-73.19\"/>\n",
       "</g>\n",
       "<!-- 18 -->\n",
       "<g id=\"node19\" class=\"node\">\n",
       "<title>18</title>\n",
       "<polygon fill=\"none\" stroke=\"black\" points=\"1533.87,-292 1325.46,-292 1325.46,-214 1533.87,-214 1533.87,-292\"/>\n",
       "<text text-anchor=\"middle\" x=\"1429.67\" y=\"-276.8\" font-family=\"Times,serif\" font-size=\"14.00\">Median Family Income &lt;= 9450.0</text>\n",
       "<text text-anchor=\"middle\" x=\"1429.67\" y=\"-262.8\" font-family=\"Times,serif\" font-size=\"14.00\">gini = 0.221</text>\n",
       "<text text-anchor=\"middle\" x=\"1429.67\" y=\"-248.8\" font-family=\"Times,serif\" font-size=\"14.00\">samples = 12281</text>\n",
       "<text text-anchor=\"middle\" x=\"1429.67\" y=\"-234.8\" font-family=\"Times,serif\" font-size=\"14.00\">value = [10725, 1556]</text>\n",
       "<text text-anchor=\"middle\" x=\"1429.67\" y=\"-220.8\" font-family=\"Times,serif\" font-size=\"14.00\">class = Approved</text>\n",
       "</g>\n",
       "<!-- 17&#45;&gt;18 -->\n",
       "<g id=\"edge18\" class=\"edge\">\n",
       "<title>17&#45;&gt;18</title>\n",
       "<path fill=\"none\" stroke=\"black\" d=\"M1488.29,-327.77C1481.2,-318.85 1473.57,-309.26 1466.25,-300.04\"/>\n",
       "<polygon fill=\"black\" stroke=\"black\" points=\"1468.87,-297.71 1459.91,-292.06 1463.39,-302.07 1468.87,-297.71\"/>\n",
       "</g>\n",
       "<!-- 25 -->\n",
       "<g id=\"node26\" class=\"node\">\n",
       "<title>25</title>\n",
       "<polygon fill=\"none\" stroke=\"black\" points=\"1717.32,-292 1586.01,-292 1586.01,-214 1717.32,-214 1717.32,-292\"/>\n",
       "<text text-anchor=\"middle\" x=\"1651.67\" y=\"-276.8\" font-family=\"Times,serif\" font-size=\"14.00\">Loan Term &lt;= 354.5</text>\n",
       "<text text-anchor=\"middle\" x=\"1651.67\" y=\"-262.8\" font-family=\"Times,serif\" font-size=\"14.00\">gini = 0.449</text>\n",
       "<text text-anchor=\"middle\" x=\"1651.67\" y=\"-248.8\" font-family=\"Times,serif\" font-size=\"14.00\">samples = 1285</text>\n",
       "<text text-anchor=\"middle\" x=\"1651.67\" y=\"-234.8\" font-family=\"Times,serif\" font-size=\"14.00\">value = [848, 437]</text>\n",
       "<text text-anchor=\"middle\" x=\"1651.67\" y=\"-220.8\" font-family=\"Times,serif\" font-size=\"14.00\">class = Approved</text>\n",
       "</g>\n",
       "<!-- 17&#45;&gt;25 -->\n",
       "<g id=\"edge25\" class=\"edge\">\n",
       "<title>17&#45;&gt;25</title>\n",
       "<path fill=\"none\" stroke=\"black\" d=\"M1564.06,-327.77C1575.19,-318.4 1587.2,-308.29 1598.65,-298.64\"/>\n",
       "<polygon fill=\"black\" stroke=\"black\" points=\"1601.08,-301.18 1606.47,-292.06 1596.57,-295.82 1601.08,-301.18\"/>\n",
       "</g>\n",
       "<!-- 19 -->\n",
       "<g id=\"node20\" class=\"node\">\n",
       "<title>19</title>\n",
       "<polygon fill=\"none\" stroke=\"black\" points=\"1279.32,-178 1148.01,-178 1148.01,-100 1279.32,-100 1279.32,-178\"/>\n",
       "<text text-anchor=\"middle\" x=\"1213.67\" y=\"-162.8\" font-family=\"Times,serif\" font-size=\"14.00\">Loan Term &lt;= 332.0</text>\n",
       "<text text-anchor=\"middle\" x=\"1213.67\" y=\"-148.8\" font-family=\"Times,serif\" font-size=\"14.00\">gini = 0.494</text>\n",
       "<text text-anchor=\"middle\" x=\"1213.67\" y=\"-134.8\" font-family=\"Times,serif\" font-size=\"14.00\">samples = 92</text>\n",
       "<text text-anchor=\"middle\" x=\"1213.67\" y=\"-120.8\" font-family=\"Times,serif\" font-size=\"14.00\">value = [41, 51]</text>\n",
       "<text text-anchor=\"middle\" x=\"1213.67\" y=\"-106.8\" font-family=\"Times,serif\" font-size=\"14.00\">class = Denied</text>\n",
       "</g>\n",
       "<!-- 18&#45;&gt;19 -->\n",
       "<g id=\"edge19\" class=\"edge\">\n",
       "<title>18&#45;&gt;19</title>\n",
       "<path fill=\"none\" stroke=\"black\" d=\"M1356.24,-213.93C1334.41,-202.61 1310.49,-190.21 1288.58,-178.84\"/>\n",
       "<polygon fill=\"black\" stroke=\"black\" points=\"1290.13,-175.71 1279.64,-174.21 1286.91,-181.92 1290.13,-175.71\"/>\n",
       "</g>\n",
       "<!-- 22 -->\n",
       "<g id=\"node23\" class=\"node\">\n",
       "<title>22</title>\n",
       "<polygon fill=\"none\" stroke=\"black\" points=\"1513.85,-178 1345.48,-178 1345.48,-100 1513.85,-100 1513.85,-178\"/>\n",
       "<text text-anchor=\"middle\" x=\"1429.67\" y=\"-162.8\" font-family=\"Times,serif\" font-size=\"14.00\">Loan Amount &lt;= 130000.0</text>\n",
       "<text text-anchor=\"middle\" x=\"1429.67\" y=\"-148.8\" font-family=\"Times,serif\" font-size=\"14.00\">gini = 0.216</text>\n",
       "<text text-anchor=\"middle\" x=\"1429.67\" y=\"-134.8\" font-family=\"Times,serif\" font-size=\"14.00\">samples = 12189</text>\n",
       "<text text-anchor=\"middle\" x=\"1429.67\" y=\"-120.8\" font-family=\"Times,serif\" font-size=\"14.00\">value = [10684, 1505]</text>\n",
       "<text text-anchor=\"middle\" x=\"1429.67\" y=\"-106.8\" font-family=\"Times,serif\" font-size=\"14.00\">class = Approved</text>\n",
       "</g>\n",
       "<!-- 18&#45;&gt;22 -->\n",
       "<g id=\"edge22\" class=\"edge\">\n",
       "<title>18&#45;&gt;22</title>\n",
       "<path fill=\"none\" stroke=\"black\" d=\"M1429.67,-213.77C1429.67,-205.57 1429.67,-196.8 1429.67,-188.28\"/>\n",
       "<polygon fill=\"black\" stroke=\"black\" points=\"1433.17,-188.06 1429.67,-178.06 1426.17,-188.06 1433.17,-188.06\"/>\n",
       "</g>\n",
       "<!-- 20 -->\n",
       "<g id=\"node21\" class=\"node\">\n",
       "<title>20</title>\n",
       "<polygon fill=\"none\" stroke=\"black\" points=\"1138.7,-64 1040.63,-64 1040.63,0 1138.7,0 1138.7,-64\"/>\n",
       "<text text-anchor=\"middle\" x=\"1089.67\" y=\"-48.8\" font-family=\"Times,serif\" font-size=\"14.00\">gini = 0.278</text>\n",
       "<text text-anchor=\"middle\" x=\"1089.67\" y=\"-34.8\" font-family=\"Times,serif\" font-size=\"14.00\">samples = 48</text>\n",
       "<text text-anchor=\"middle\" x=\"1089.67\" y=\"-20.8\" font-family=\"Times,serif\" font-size=\"14.00\">value = [8, 40]</text>\n",
       "<text text-anchor=\"middle\" x=\"1089.67\" y=\"-6.8\" font-family=\"Times,serif\" font-size=\"14.00\">class = Denied</text>\n",
       "</g>\n",
       "<!-- 19&#45;&gt;20 -->\n",
       "<g id=\"edge20\" class=\"edge\">\n",
       "<title>19&#45;&gt;20</title>\n",
       "<path fill=\"none\" stroke=\"black\" d=\"M1168.55,-99.8C1157.4,-90.36 1145.47,-80.25 1134.35,-70.84\"/>\n",
       "<polygon fill=\"black\" stroke=\"black\" points=\"1136.31,-67.91 1126.41,-64.12 1131.78,-73.25 1136.31,-67.91\"/>\n",
       "</g>\n",
       "<!-- 21 -->\n",
       "<g id=\"node22\" class=\"node\">\n",
       "<title>21</title>\n",
       "<polygon fill=\"none\" stroke=\"black\" points=\"1270.5,-64 1156.83,-64 1156.83,0 1270.5,0 1270.5,-64\"/>\n",
       "<text text-anchor=\"middle\" x=\"1213.67\" y=\"-48.8\" font-family=\"Times,serif\" font-size=\"14.00\">gini = 0.375</text>\n",
       "<text text-anchor=\"middle\" x=\"1213.67\" y=\"-34.8\" font-family=\"Times,serif\" font-size=\"14.00\">samples = 44</text>\n",
       "<text text-anchor=\"middle\" x=\"1213.67\" y=\"-20.8\" font-family=\"Times,serif\" font-size=\"14.00\">value = [33, 11]</text>\n",
       "<text text-anchor=\"middle\" x=\"1213.67\" y=\"-6.8\" font-family=\"Times,serif\" font-size=\"14.00\">class = Approved</text>\n",
       "</g>\n",
       "<!-- 19&#45;&gt;21 -->\n",
       "<g id=\"edge21\" class=\"edge\">\n",
       "<title>19&#45;&gt;21</title>\n",
       "<path fill=\"none\" stroke=\"black\" d=\"M1213.67,-99.8C1213.67,-91.46 1213.67,-82.6 1213.67,-74.15\"/>\n",
       "<polygon fill=\"black\" stroke=\"black\" points=\"1217.17,-74.12 1213.67,-64.12 1210.17,-74.12 1217.17,-74.12\"/>\n",
       "</g>\n",
       "<!-- 23 -->\n",
       "<g id=\"node24\" class=\"node\">\n",
       "<title>23</title>\n",
       "<polygon fill=\"none\" stroke=\"black\" points=\"1414.7,-64 1288.63,-64 1288.63,0 1414.7,0 1414.7,-64\"/>\n",
       "<text text-anchor=\"middle\" x=\"1351.67\" y=\"-48.8\" font-family=\"Times,serif\" font-size=\"14.00\">gini = 0.293</text>\n",
       "<text text-anchor=\"middle\" x=\"1351.67\" y=\"-34.8\" font-family=\"Times,serif\" font-size=\"14.00\">samples = 3095</text>\n",
       "<text text-anchor=\"middle\" x=\"1351.67\" y=\"-20.8\" font-family=\"Times,serif\" font-size=\"14.00\">value = [2543, 552]</text>\n",
       "<text text-anchor=\"middle\" x=\"1351.67\" y=\"-6.8\" font-family=\"Times,serif\" font-size=\"14.00\">class = Approved</text>\n",
       "</g>\n",
       "<!-- 22&#45;&gt;23 -->\n",
       "<g id=\"edge23\" class=\"edge\">\n",
       "<title>22&#45;&gt;23</title>\n",
       "<path fill=\"none\" stroke=\"black\" d=\"M1401.28,-99.8C1394.61,-90.82 1387.5,-81.23 1380.79,-72.21\"/>\n",
       "<polygon fill=\"black\" stroke=\"black\" points=\"1383.55,-70.06 1374.78,-64.12 1377.93,-74.23 1383.55,-70.06\"/>\n",
       "</g>\n",
       "<!-- 24 -->\n",
       "<g id=\"node25\" class=\"node\">\n",
       "<title>24</title>\n",
       "<polygon fill=\"none\" stroke=\"black\" points=\"1559.7,-64 1433.63,-64 1433.63,0 1559.7,0 1559.7,-64\"/>\n",
       "<text text-anchor=\"middle\" x=\"1496.67\" y=\"-48.8\" font-family=\"Times,serif\" font-size=\"14.00\">gini = 0.188</text>\n",
       "<text text-anchor=\"middle\" x=\"1496.67\" y=\"-34.8\" font-family=\"Times,serif\" font-size=\"14.00\">samples = 9094</text>\n",
       "<text text-anchor=\"middle\" x=\"1496.67\" y=\"-20.8\" font-family=\"Times,serif\" font-size=\"14.00\">value = [8141, 953]</text>\n",
       "<text text-anchor=\"middle\" x=\"1496.67\" y=\"-6.8\" font-family=\"Times,serif\" font-size=\"14.00\">class = Approved</text>\n",
       "</g>\n",
       "<!-- 22&#45;&gt;24 -->\n",
       "<g id=\"edge24\" class=\"edge\">\n",
       "<title>22&#45;&gt;24</title>\n",
       "<path fill=\"none\" stroke=\"black\" d=\"M1454.04,-99.8C1459.66,-91 1465.64,-81.63 1471.29,-72.76\"/>\n",
       "<polygon fill=\"black\" stroke=\"black\" points=\"1474.38,-74.43 1476.81,-64.12 1468.48,-70.66 1474.38,-74.43\"/>\n",
       "</g>\n",
       "<!-- 26 -->\n",
       "<g id=\"node27\" class=\"node\">\n",
       "<title>26</title>\n",
       "<polygon fill=\"none\" stroke=\"black\" points=\"1748.07,-178 1555.26,-178 1555.26,-100 1748.07,-100 1748.07,-178\"/>\n",
       "<text text-anchor=\"middle\" x=\"1651.67\" y=\"-162.8\" font-family=\"Times,serif\" font-size=\"14.00\">Minority Population % &lt;= 3.22</text>\n",
       "<text text-anchor=\"middle\" x=\"1651.67\" y=\"-148.8\" font-family=\"Times,serif\" font-size=\"14.00\">gini = 0.485</text>\n",
       "<text text-anchor=\"middle\" x=\"1651.67\" y=\"-134.8\" font-family=\"Times,serif\" font-size=\"14.00\">samples = 148</text>\n",
       "<text text-anchor=\"middle\" x=\"1651.67\" y=\"-120.8\" font-family=\"Times,serif\" font-size=\"14.00\">value = [61, 87]</text>\n",
       "<text text-anchor=\"middle\" x=\"1651.67\" y=\"-106.8\" font-family=\"Times,serif\" font-size=\"14.00\">class = Denied</text>\n",
       "</g>\n",
       "<!-- 25&#45;&gt;26 -->\n",
       "<g id=\"edge26\" class=\"edge\">\n",
       "<title>25&#45;&gt;26</title>\n",
       "<path fill=\"none\" stroke=\"black\" d=\"M1651.67,-213.77C1651.67,-205.57 1651.67,-196.8 1651.67,-188.28\"/>\n",
       "<polygon fill=\"black\" stroke=\"black\" points=\"1655.17,-188.06 1651.67,-178.06 1648.17,-188.06 1655.17,-188.06\"/>\n",
       "</g>\n",
       "<!-- 29 -->\n",
       "<g id=\"node30\" class=\"node\">\n",
       "<title>29</title>\n",
       "<polygon fill=\"none\" stroke=\"black\" points=\"1967.27,-178 1790.06,-178 1790.06,-100 1967.27,-100 1967.27,-178\"/>\n",
       "<text text-anchor=\"middle\" x=\"1878.67\" y=\"-162.8\" font-family=\"Times,serif\" font-size=\"14.00\">Applicant Age: 25&#45;34 &lt;= 0.5</text>\n",
       "<text text-anchor=\"middle\" x=\"1878.67\" y=\"-148.8\" font-family=\"Times,serif\" font-size=\"14.00\">gini = 0.426</text>\n",
       "<text text-anchor=\"middle\" x=\"1878.67\" y=\"-134.8\" font-family=\"Times,serif\" font-size=\"14.00\">samples = 1137</text>\n",
       "<text text-anchor=\"middle\" x=\"1878.67\" y=\"-120.8\" font-family=\"Times,serif\" font-size=\"14.00\">value = [787, 350]</text>\n",
       "<text text-anchor=\"middle\" x=\"1878.67\" y=\"-106.8\" font-family=\"Times,serif\" font-size=\"14.00\">class = Approved</text>\n",
       "</g>\n",
       "<!-- 25&#45;&gt;29 -->\n",
       "<g id=\"edge29\" class=\"edge\">\n",
       "<title>25&#45;&gt;29</title>\n",
       "<path fill=\"none\" stroke=\"black\" d=\"M1717.32,-219.6C1740.76,-208.04 1767.54,-194.83 1792.45,-182.54\"/>\n",
       "<polygon fill=\"black\" stroke=\"black\" points=\"1794.11,-185.62 1801.53,-178.06 1791.01,-179.34 1794.11,-185.62\"/>\n",
       "</g>\n",
       "<!-- 27 -->\n",
       "<g id=\"node28\" class=\"node\">\n",
       "<title>27</title>\n",
       "<polygon fill=\"none\" stroke=\"black\" points=\"1676.7,-64 1578.63,-64 1578.63,0 1676.7,0 1676.7,-64\"/>\n",
       "<text text-anchor=\"middle\" x=\"1627.67\" y=\"-48.8\" font-family=\"Times,serif\" font-size=\"14.00\">gini = 0.0</text>\n",
       "<text text-anchor=\"middle\" x=\"1627.67\" y=\"-34.8\" font-family=\"Times,serif\" font-size=\"14.00\">samples = 19</text>\n",
       "<text text-anchor=\"middle\" x=\"1627.67\" y=\"-20.8\" font-family=\"Times,serif\" font-size=\"14.00\">value = [0, 19]</text>\n",
       "<text text-anchor=\"middle\" x=\"1627.67\" y=\"-6.8\" font-family=\"Times,serif\" font-size=\"14.00\">class = Denied</text>\n",
       "</g>\n",
       "<!-- 26&#45;&gt;27 -->\n",
       "<g id=\"edge27\" class=\"edge\">\n",
       "<title>26&#45;&gt;27</title>\n",
       "<path fill=\"none\" stroke=\"black\" d=\"M1642.93,-99.8C1641.01,-91.37 1638.96,-82.41 1637.01,-73.88\"/>\n",
       "<polygon fill=\"black\" stroke=\"black\" points=\"1640.42,-73.09 1634.78,-64.12 1633.59,-74.65 1640.42,-73.09\"/>\n",
       "</g>\n",
       "<!-- 28 -->\n",
       "<g id=\"node29\" class=\"node\">\n",
       "<title>28</title>\n",
       "<polygon fill=\"none\" stroke=\"black\" points=\"1800.2,-64 1695.13,-64 1695.13,0 1800.2,0 1800.2,-64\"/>\n",
       "<text text-anchor=\"middle\" x=\"1747.67\" y=\"-48.8\" font-family=\"Times,serif\" font-size=\"14.00\">gini = 0.499</text>\n",
       "<text text-anchor=\"middle\" x=\"1747.67\" y=\"-34.8\" font-family=\"Times,serif\" font-size=\"14.00\">samples = 129</text>\n",
       "<text text-anchor=\"middle\" x=\"1747.67\" y=\"-20.8\" font-family=\"Times,serif\" font-size=\"14.00\">value = [61, 68]</text>\n",
       "<text text-anchor=\"middle\" x=\"1747.67\" y=\"-6.8\" font-family=\"Times,serif\" font-size=\"14.00\">class = Denied</text>\n",
       "</g>\n",
       "<!-- 26&#45;&gt;28 -->\n",
       "<g id=\"edge28\" class=\"edge\">\n",
       "<title>26&#45;&gt;28</title>\n",
       "<path fill=\"none\" stroke=\"black\" d=\"M1686.59,-99.8C1694.97,-90.63 1703.92,-80.84 1712.32,-71.66\"/>\n",
       "<polygon fill=\"black\" stroke=\"black\" points=\"1715.05,-73.86 1719.22,-64.12 1709.88,-69.14 1715.05,-73.86\"/>\n",
       "</g>\n",
       "<!-- 30 -->\n",
       "<g id=\"node31\" class=\"node\">\n",
       "<title>30</title>\n",
       "<polygon fill=\"none\" stroke=\"black\" points=\"1938.2,-64 1819.13,-64 1819.13,0 1938.2,0 1938.2,-64\"/>\n",
       "<text text-anchor=\"middle\" x=\"1878.67\" y=\"-48.8\" font-family=\"Times,serif\" font-size=\"14.00\">gini = 0.454</text>\n",
       "<text text-anchor=\"middle\" x=\"1878.67\" y=\"-34.8\" font-family=\"Times,serif\" font-size=\"14.00\">samples = 865</text>\n",
       "<text text-anchor=\"middle\" x=\"1878.67\" y=\"-20.8\" font-family=\"Times,serif\" font-size=\"14.00\">value = [564, 301]</text>\n",
       "<text text-anchor=\"middle\" x=\"1878.67\" y=\"-6.8\" font-family=\"Times,serif\" font-size=\"14.00\">class = Approved</text>\n",
       "</g>\n",
       "<!-- 29&#45;&gt;30 -->\n",
       "<g id=\"edge30\" class=\"edge\">\n",
       "<title>29&#45;&gt;30</title>\n",
       "<path fill=\"none\" stroke=\"black\" d=\"M1878.67,-99.8C1878.67,-91.46 1878.67,-82.6 1878.67,-74.15\"/>\n",
       "<polygon fill=\"black\" stroke=\"black\" points=\"1882.17,-74.12 1878.67,-64.12 1875.17,-74.12 1882.17,-74.12\"/>\n",
       "</g>\n",
       "<!-- 31 -->\n",
       "<g id=\"node32\" class=\"node\">\n",
       "<title>31</title>\n",
       "<polygon fill=\"none\" stroke=\"black\" points=\"2069.5,-64 1955.83,-64 1955.83,0 2069.5,0 2069.5,-64\"/>\n",
       "<text text-anchor=\"middle\" x=\"2012.67\" y=\"-48.8\" font-family=\"Times,serif\" font-size=\"14.00\">gini = 0.295</text>\n",
       "<text text-anchor=\"middle\" x=\"2012.67\" y=\"-34.8\" font-family=\"Times,serif\" font-size=\"14.00\">samples = 272</text>\n",
       "<text text-anchor=\"middle\" x=\"2012.67\" y=\"-20.8\" font-family=\"Times,serif\" font-size=\"14.00\">value = [223, 49]</text>\n",
       "<text text-anchor=\"middle\" x=\"2012.67\" y=\"-6.8\" font-family=\"Times,serif\" font-size=\"14.00\">class = Approved</text>\n",
       "</g>\n",
       "<!-- 29&#45;&gt;31 -->\n",
       "<g id=\"edge31\" class=\"edge\">\n",
       "<title>29&#45;&gt;31</title>\n",
       "<path fill=\"none\" stroke=\"black\" d=\"M1927.42,-99.8C1939.7,-90.18 1952.86,-79.86 1965.08,-70.29\"/>\n",
       "<polygon fill=\"black\" stroke=\"black\" points=\"1967.24,-73.04 1972.95,-64.12 1962.92,-67.53 1967.24,-73.04\"/>\n",
       "</g>\n",
       "<!-- 33 -->\n",
       "<g id=\"node34\" class=\"node\">\n",
       "<title>33</title>\n",
       "<polygon fill=\"none\" stroke=\"black\" points=\"2039.5,-399 1925.83,-399 1925.83,-335 2039.5,-335 2039.5,-399\"/>\n",
       "<text text-anchor=\"middle\" x=\"1982.67\" y=\"-383.8\" font-family=\"Times,serif\" font-size=\"14.00\">gini = 0.0</text>\n",
       "<text text-anchor=\"middle\" x=\"1982.67\" y=\"-369.8\" font-family=\"Times,serif\" font-size=\"14.00\">samples = 4</text>\n",
       "<text text-anchor=\"middle\" x=\"1982.67\" y=\"-355.8\" font-family=\"Times,serif\" font-size=\"14.00\">value = [4, 0]</text>\n",
       "<text text-anchor=\"middle\" x=\"1982.67\" y=\"-341.8\" font-family=\"Times,serif\" font-size=\"14.00\">class = Approved</text>\n",
       "</g>\n",
       "<!-- 32&#45;&gt;33 -->\n",
       "<g id=\"edge33\" class=\"edge\">\n",
       "<title>32&#45;&gt;33</title>\n",
       "<path fill=\"none\" stroke=\"black\" d=\"M1982.67,-441.77C1982.67,-431.31 1982.67,-419.94 1982.67,-409.32\"/>\n",
       "<polygon fill=\"black\" stroke=\"black\" points=\"1986.17,-409.01 1982.67,-399.01 1979.17,-409.01 1986.17,-409.01\"/>\n",
       "</g>\n",
       "<!-- 34 -->\n",
       "<g id=\"node35\" class=\"node\">\n",
       "<title>34</title>\n",
       "<polygon fill=\"none\" stroke=\"black\" points=\"2403.85,-406 2235.48,-406 2235.48,-328 2403.85,-328 2403.85,-406\"/>\n",
       "<text text-anchor=\"middle\" x=\"2319.67\" y=\"-390.8\" font-family=\"Times,serif\" font-size=\"14.00\">Loan Amount &lt;= 240000.0</text>\n",
       "<text text-anchor=\"middle\" x=\"2319.67\" y=\"-376.8\" font-family=\"Times,serif\" font-size=\"14.00\">gini = 0.154</text>\n",
       "<text text-anchor=\"middle\" x=\"2319.67\" y=\"-362.8\" font-family=\"Times,serif\" font-size=\"14.00\">samples = 1103</text>\n",
       "<text text-anchor=\"middle\" x=\"2319.67\" y=\"-348.8\" font-family=\"Times,serif\" font-size=\"14.00\">value = [93, 1010]</text>\n",
       "<text text-anchor=\"middle\" x=\"2319.67\" y=\"-334.8\" font-family=\"Times,serif\" font-size=\"14.00\">class = Denied</text>\n",
       "</g>\n",
       "<!-- 32&#45;&gt;34 -->\n",
       "<g id=\"edge34\" class=\"edge\">\n",
       "<title>32&#45;&gt;34</title>\n",
       "<path fill=\"none\" stroke=\"black\" d=\"M2044.87,-459.33C2095.58,-442.47 2168.01,-418.4 2225.78,-399.2\"/>\n",
       "<polygon fill=\"black\" stroke=\"black\" points=\"2226.89,-402.52 2235.28,-396.04 2224.69,-395.88 2226.89,-402.52\"/>\n",
       "</g>\n",
       "<!-- 35 -->\n",
       "<g id=\"node36\" class=\"node\">\n",
       "<title>35</title>\n",
       "<polygon fill=\"none\" stroke=\"black\" points=\"2385.32,-292 2254.01,-292 2254.01,-214 2385.32,-214 2385.32,-292\"/>\n",
       "<text text-anchor=\"middle\" x=\"2319.67\" y=\"-276.8\" font-family=\"Times,serif\" font-size=\"14.00\">Loan Term &lt;= 234.0</text>\n",
       "<text text-anchor=\"middle\" x=\"2319.67\" y=\"-262.8\" font-family=\"Times,serif\" font-size=\"14.00\">gini = 0.109</text>\n",
       "<text text-anchor=\"middle\" x=\"2319.67\" y=\"-248.8\" font-family=\"Times,serif\" font-size=\"14.00\">samples = 861</text>\n",
       "<text text-anchor=\"middle\" x=\"2319.67\" y=\"-234.8\" font-family=\"Times,serif\" font-size=\"14.00\">value = [50, 811]</text>\n",
       "<text text-anchor=\"middle\" x=\"2319.67\" y=\"-220.8\" font-family=\"Times,serif\" font-size=\"14.00\">class = Denied</text>\n",
       "</g>\n",
       "<!-- 34&#45;&gt;35 -->\n",
       "<g id=\"edge35\" class=\"edge\">\n",
       "<title>34&#45;&gt;35</title>\n",
       "<path fill=\"none\" stroke=\"black\" d=\"M2319.67,-327.77C2319.67,-319.57 2319.67,-310.8 2319.67,-302.28\"/>\n",
       "<polygon fill=\"black\" stroke=\"black\" points=\"2323.17,-302.06 2319.67,-292.06 2316.17,-302.06 2323.17,-302.06\"/>\n",
       "</g>\n",
       "<!-- 42 -->\n",
       "<g id=\"node43\" class=\"node\">\n",
       "<title>42</title>\n",
       "<polygon fill=\"none\" stroke=\"black\" points=\"2739.7,-292 2627.63,-292 2627.63,-214 2739.7,-214 2739.7,-292\"/>\n",
       "<text text-anchor=\"middle\" x=\"2683.67\" y=\"-276.8\" font-family=\"Times,serif\" font-size=\"14.00\">Sex: Joint &lt;= 0.5</text>\n",
       "<text text-anchor=\"middle\" x=\"2683.67\" y=\"-262.8\" font-family=\"Times,serif\" font-size=\"14.00\">gini = 0.292</text>\n",
       "<text text-anchor=\"middle\" x=\"2683.67\" y=\"-248.8\" font-family=\"Times,serif\" font-size=\"14.00\">samples = 242</text>\n",
       "<text text-anchor=\"middle\" x=\"2683.67\" y=\"-234.8\" font-family=\"Times,serif\" font-size=\"14.00\">value = [43, 199]</text>\n",
       "<text text-anchor=\"middle\" x=\"2683.67\" y=\"-220.8\" font-family=\"Times,serif\" font-size=\"14.00\">class = Denied</text>\n",
       "</g>\n",
       "<!-- 34&#45;&gt;42 -->\n",
       "<g id=\"edge42\" class=\"edge\">\n",
       "<title>34&#45;&gt;42</title>\n",
       "<path fill=\"none\" stroke=\"black\" d=\"M2404.09,-340.02C2469.14,-320.01 2557.81,-292.72 2617.71,-274.29\"/>\n",
       "<polygon fill=\"black\" stroke=\"black\" points=\"2618.91,-277.59 2627.44,-271.3 2616.85,-270.9 2618.91,-277.59\"/>\n",
       "</g>\n",
       "<!-- 36 -->\n",
       "<g id=\"node37\" class=\"node\">\n",
       "<title>36</title>\n",
       "<polygon fill=\"none\" stroke=\"black\" points=\"2310.7,-178 2198.63,-178 2198.63,-100 2310.7,-100 2310.7,-178\"/>\n",
       "<text text-anchor=\"middle\" x=\"2254.67\" y=\"-162.8\" font-family=\"Times,serif\" font-size=\"14.00\">Income &lt;= 72.5</text>\n",
       "<text text-anchor=\"middle\" x=\"2254.67\" y=\"-148.8\" font-family=\"Times,serif\" font-size=\"14.00\">gini = 0.253</text>\n",
       "<text text-anchor=\"middle\" x=\"2254.67\" y=\"-134.8\" font-family=\"Times,serif\" font-size=\"14.00\">samples = 121</text>\n",
       "<text text-anchor=\"middle\" x=\"2254.67\" y=\"-120.8\" font-family=\"Times,serif\" font-size=\"14.00\">value = [18, 103]</text>\n",
       "<text text-anchor=\"middle\" x=\"2254.67\" y=\"-106.8\" font-family=\"Times,serif\" font-size=\"14.00\">class = Denied</text>\n",
       "</g>\n",
       "<!-- 35&#45;&gt;36 -->\n",
       "<g id=\"edge36\" class=\"edge\">\n",
       "<title>35&#45;&gt;36</title>\n",
       "<path fill=\"none\" stroke=\"black\" d=\"M2297.48,-213.77C2292.46,-205.12 2287.07,-195.84 2281.87,-186.88\"/>\n",
       "<polygon fill=\"black\" stroke=\"black\" points=\"2284.8,-184.95 2276.75,-178.06 2278.74,-188.46 2284.8,-184.95\"/>\n",
       "</g>\n",
       "<!-- 39 -->\n",
       "<g id=\"node40\" class=\"node\">\n",
       "<title>39</title>\n",
       "<polygon fill=\"none\" stroke=\"black\" points=\"2442.9,-178 2328.43,-178 2328.43,-100 2442.9,-100 2442.9,-178\"/>\n",
       "<text text-anchor=\"middle\" x=\"2385.67\" y=\"-162.8\" font-family=\"Times,serif\" font-size=\"14.00\">State: WY &lt;= 0.5</text>\n",
       "<text text-anchor=\"middle\" x=\"2385.67\" y=\"-148.8\" font-family=\"Times,serif\" font-size=\"14.00\">gini = 0.083</text>\n",
       "<text text-anchor=\"middle\" x=\"2385.67\" y=\"-134.8\" font-family=\"Times,serif\" font-size=\"14.00\">samples = 740</text>\n",
       "<text text-anchor=\"middle\" x=\"2385.67\" y=\"-120.8\" font-family=\"Times,serif\" font-size=\"14.00\">value = [32, 708]</text>\n",
       "<text text-anchor=\"middle\" x=\"2385.67\" y=\"-106.8\" font-family=\"Times,serif\" font-size=\"14.00\">class = Denied</text>\n",
       "</g>\n",
       "<!-- 35&#45;&gt;39 -->\n",
       "<g id=\"edge39\" class=\"edge\">\n",
       "<title>35&#45;&gt;39</title>\n",
       "<path fill=\"none\" stroke=\"black\" d=\"M2342.19,-213.77C2347.29,-205.12 2352.76,-195.84 2358.04,-186.88\"/>\n",
       "<polygon fill=\"black\" stroke=\"black\" points=\"2361.18,-188.45 2363.24,-178.06 2355.15,-184.9 2361.18,-188.45\"/>\n",
       "</g>\n",
       "<!-- 37 -->\n",
       "<g id=\"node38\" class=\"node\">\n",
       "<title>37</title>\n",
       "<polygon fill=\"none\" stroke=\"black\" points=\"2185.7,-64 2087.63,-64 2087.63,0 2185.7,0 2185.7,-64\"/>\n",
       "<text text-anchor=\"middle\" x=\"2136.67\" y=\"-48.8\" font-family=\"Times,serif\" font-size=\"14.00\">gini = 0.121</text>\n",
       "<text text-anchor=\"middle\" x=\"2136.67\" y=\"-34.8\" font-family=\"Times,serif\" font-size=\"14.00\">samples = 93</text>\n",
       "<text text-anchor=\"middle\" x=\"2136.67\" y=\"-20.8\" font-family=\"Times,serif\" font-size=\"14.00\">value = [6, 87]</text>\n",
       "<text text-anchor=\"middle\" x=\"2136.67\" y=\"-6.8\" font-family=\"Times,serif\" font-size=\"14.00\">class = Denied</text>\n",
       "</g>\n",
       "<!-- 36&#45;&gt;37 -->\n",
       "<g id=\"edge37\" class=\"edge\">\n",
       "<title>36&#45;&gt;37</title>\n",
       "<path fill=\"none\" stroke=\"black\" d=\"M2211.73,-99.8C2201.13,-90.36 2189.77,-80.25 2179.18,-70.84\"/>\n",
       "<polygon fill=\"black\" stroke=\"black\" points=\"2181.43,-68.15 2171.63,-64.12 2176.78,-73.38 2181.43,-68.15\"/>\n",
       "</g>\n",
       "<!-- 38 -->\n",
       "<g id=\"node39\" class=\"node\">\n",
       "<title>38</title>\n",
       "<polygon fill=\"none\" stroke=\"black\" points=\"2309.2,-64 2204.13,-64 2204.13,0 2309.2,0 2309.2,-64\"/>\n",
       "<text text-anchor=\"middle\" x=\"2256.67\" y=\"-48.8\" font-family=\"Times,serif\" font-size=\"14.00\">gini = 0.49</text>\n",
       "<text text-anchor=\"middle\" x=\"2256.67\" y=\"-34.8\" font-family=\"Times,serif\" font-size=\"14.00\">samples = 28</text>\n",
       "<text text-anchor=\"middle\" x=\"2256.67\" y=\"-20.8\" font-family=\"Times,serif\" font-size=\"14.00\">value = [12, 16]</text>\n",
       "<text text-anchor=\"middle\" x=\"2256.67\" y=\"-6.8\" font-family=\"Times,serif\" font-size=\"14.00\">class = Denied</text>\n",
       "</g>\n",
       "<!-- 36&#45;&gt;38 -->\n",
       "<g id=\"edge38\" class=\"edge\">\n",
       "<title>36&#45;&gt;38</title>\n",
       "<path fill=\"none\" stroke=\"black\" d=\"M2255.39,-99.8C2255.55,-91.46 2255.72,-82.6 2255.88,-74.15\"/>\n",
       "<polygon fill=\"black\" stroke=\"black\" points=\"2259.38,-74.18 2256.07,-64.12 2252.38,-74.05 2259.38,-74.18\"/>\n",
       "</g>\n",
       "<!-- 40 -->\n",
       "<g id=\"node41\" class=\"node\">\n",
       "<title>40</title>\n",
       "<polygon fill=\"none\" stroke=\"black\" points=\"2439.7,-64 2327.63,-64 2327.63,0 2439.7,0 2439.7,-64\"/>\n",
       "<text text-anchor=\"middle\" x=\"2383.67\" y=\"-48.8\" font-family=\"Times,serif\" font-size=\"14.00\">gini = 0.08</text>\n",
       "<text text-anchor=\"middle\" x=\"2383.67\" y=\"-34.8\" font-family=\"Times,serif\" font-size=\"14.00\">samples = 739</text>\n",
       "<text text-anchor=\"middle\" x=\"2383.67\" y=\"-20.8\" font-family=\"Times,serif\" font-size=\"14.00\">value = [31, 708]</text>\n",
       "<text text-anchor=\"middle\" x=\"2383.67\" y=\"-6.8\" font-family=\"Times,serif\" font-size=\"14.00\">class = Denied</text>\n",
       "</g>\n",
       "<!-- 39&#45;&gt;40 -->\n",
       "<g id=\"edge40\" class=\"edge\">\n",
       "<title>39&#45;&gt;40</title>\n",
       "<path fill=\"none\" stroke=\"black\" d=\"M2384.94,-99.8C2384.78,-91.46 2384.61,-82.6 2384.45,-74.15\"/>\n",
       "<polygon fill=\"black\" stroke=\"black\" points=\"2387.95,-74.05 2384.26,-64.12 2380.95,-74.18 2387.95,-74.05\"/>\n",
       "</g>\n",
       "<!-- 41 -->\n",
       "<g id=\"node42\" class=\"node\">\n",
       "<title>41</title>\n",
       "<polygon fill=\"none\" stroke=\"black\" points=\"2571.5,-64 2457.83,-64 2457.83,0 2571.5,0 2571.5,-64\"/>\n",
       "<text text-anchor=\"middle\" x=\"2514.67\" y=\"-48.8\" font-family=\"Times,serif\" font-size=\"14.00\">gini = 0.0</text>\n",
       "<text text-anchor=\"middle\" x=\"2514.67\" y=\"-34.8\" font-family=\"Times,serif\" font-size=\"14.00\">samples = 1</text>\n",
       "<text text-anchor=\"middle\" x=\"2514.67\" y=\"-20.8\" font-family=\"Times,serif\" font-size=\"14.00\">value = [1, 0]</text>\n",
       "<text text-anchor=\"middle\" x=\"2514.67\" y=\"-6.8\" font-family=\"Times,serif\" font-size=\"14.00\">class = Approved</text>\n",
       "</g>\n",
       "<!-- 39&#45;&gt;41 -->\n",
       "<g id=\"edge41\" class=\"edge\">\n",
       "<title>39&#45;&gt;41</title>\n",
       "<path fill=\"none\" stroke=\"black\" d=\"M2432.6,-99.8C2444.31,-90.27 2456.85,-80.06 2468.52,-70.56\"/>\n",
       "<polygon fill=\"black\" stroke=\"black\" points=\"2470.89,-73.14 2476.44,-64.12 2466.47,-67.72 2470.89,-73.14\"/>\n",
       "</g>\n",
       "<!-- 43 -->\n",
       "<g id=\"node44\" class=\"node\">\n",
       "<title>43</title>\n",
       "<polygon fill=\"none\" stroke=\"black\" points=\"2739.7,-178 2627.63,-178 2627.63,-100 2739.7,-100 2739.7,-178\"/>\n",
       "<text text-anchor=\"middle\" x=\"2683.67\" y=\"-162.8\" font-family=\"Times,serif\" font-size=\"14.00\">State: KY &lt;= 0.5</text>\n",
       "<text text-anchor=\"middle\" x=\"2683.67\" y=\"-148.8\" font-family=\"Times,serif\" font-size=\"14.00\">gini = 0.2</text>\n",
       "<text text-anchor=\"middle\" x=\"2683.67\" y=\"-134.8\" font-family=\"Times,serif\" font-size=\"14.00\">samples = 142</text>\n",
       "<text text-anchor=\"middle\" x=\"2683.67\" y=\"-120.8\" font-family=\"Times,serif\" font-size=\"14.00\">value = [16, 126]</text>\n",
       "<text text-anchor=\"middle\" x=\"2683.67\" y=\"-106.8\" font-family=\"Times,serif\" font-size=\"14.00\">class = Denied</text>\n",
       "</g>\n",
       "<!-- 42&#45;&gt;43 -->\n",
       "<g id=\"edge43\" class=\"edge\">\n",
       "<title>42&#45;&gt;43</title>\n",
       "<path fill=\"none\" stroke=\"black\" d=\"M2683.67,-213.77C2683.67,-205.57 2683.67,-196.8 2683.67,-188.28\"/>\n",
       "<polygon fill=\"black\" stroke=\"black\" points=\"2687.17,-188.06 2683.67,-178.06 2680.17,-188.06 2687.17,-188.06\"/>\n",
       "</g>\n",
       "<!-- 46 -->\n",
       "<g id=\"node47\" class=\"node\">\n",
       "<title>46</title>\n",
       "<polygon fill=\"none\" stroke=\"black\" points=\"3011.37,-178 2795.96,-178 2795.96,-100 3011.37,-100 3011.37,-178\"/>\n",
       "<text text-anchor=\"middle\" x=\"2903.67\" y=\"-162.8\" font-family=\"Times,serif\" font-size=\"14.00\">Median Family Income &lt;= 67350.0</text>\n",
       "<text text-anchor=\"middle\" x=\"2903.67\" y=\"-148.8\" font-family=\"Times,serif\" font-size=\"14.00\">gini = 0.394</text>\n",
       "<text text-anchor=\"middle\" x=\"2903.67\" y=\"-134.8\" font-family=\"Times,serif\" font-size=\"14.00\">samples = 100</text>\n",
       "<text text-anchor=\"middle\" x=\"2903.67\" y=\"-120.8\" font-family=\"Times,serif\" font-size=\"14.00\">value = [27, 73]</text>\n",
       "<text text-anchor=\"middle\" x=\"2903.67\" y=\"-106.8\" font-family=\"Times,serif\" font-size=\"14.00\">class = Denied</text>\n",
       "</g>\n",
       "<!-- 42&#45;&gt;46 -->\n",
       "<g id=\"edge46\" class=\"edge\">\n",
       "<title>42&#45;&gt;46</title>\n",
       "<path fill=\"none\" stroke=\"black\" d=\"M2739.75,-223.45C2764.11,-211.05 2793.16,-196.26 2819.99,-182.6\"/>\n",
       "<polygon fill=\"black\" stroke=\"black\" points=\"2821.67,-185.67 2828.99,-178.01 2818.5,-179.43 2821.67,-185.67\"/>\n",
       "</g>\n",
       "<!-- 44 -->\n",
       "<g id=\"node45\" class=\"node\">\n",
       "<title>44</title>\n",
       "<polygon fill=\"none\" stroke=\"black\" points=\"2701.7,-64 2589.63,-64 2589.63,0 2701.7,0 2701.7,-64\"/>\n",
       "<text text-anchor=\"middle\" x=\"2645.67\" y=\"-48.8\" font-family=\"Times,serif\" font-size=\"14.00\">gini = 0.19</text>\n",
       "<text text-anchor=\"middle\" x=\"2645.67\" y=\"-34.8\" font-family=\"Times,serif\" font-size=\"14.00\">samples = 141</text>\n",
       "<text text-anchor=\"middle\" x=\"2645.67\" y=\"-20.8\" font-family=\"Times,serif\" font-size=\"14.00\">value = [15, 126]</text>\n",
       "<text text-anchor=\"middle\" x=\"2645.67\" y=\"-6.8\" font-family=\"Times,serif\" font-size=\"14.00\">class = Denied</text>\n",
       "</g>\n",
       "<!-- 43&#45;&gt;44 -->\n",
       "<g id=\"edge44\" class=\"edge\">\n",
       "<title>43&#45;&gt;44</title>\n",
       "<path fill=\"none\" stroke=\"black\" d=\"M2669.84,-99.8C2666.75,-91.27 2663.47,-82.21 2660.36,-73.6\"/>\n",
       "<polygon fill=\"black\" stroke=\"black\" points=\"2663.62,-72.33 2656.93,-64.12 2657.04,-74.71 2663.62,-72.33\"/>\n",
       "</g>\n",
       "<!-- 45 -->\n",
       "<g id=\"node46\" class=\"node\">\n",
       "<title>45</title>\n",
       "<polygon fill=\"none\" stroke=\"black\" points=\"2833.5,-64 2719.83,-64 2719.83,0 2833.5,0 2833.5,-64\"/>\n",
       "<text text-anchor=\"middle\" x=\"2776.67\" y=\"-48.8\" font-family=\"Times,serif\" font-size=\"14.00\">gini = 0.0</text>\n",
       "<text text-anchor=\"middle\" x=\"2776.67\" y=\"-34.8\" font-family=\"Times,serif\" font-size=\"14.00\">samples = 1</text>\n",
       "<text text-anchor=\"middle\" x=\"2776.67\" y=\"-20.8\" font-family=\"Times,serif\" font-size=\"14.00\">value = [1, 0]</text>\n",
       "<text text-anchor=\"middle\" x=\"2776.67\" y=\"-6.8\" font-family=\"Times,serif\" font-size=\"14.00\">class = Approved</text>\n",
       "</g>\n",
       "<!-- 43&#45;&gt;45 -->\n",
       "<g id=\"edge45\" class=\"edge\">\n",
       "<title>43&#45;&gt;45</title>\n",
       "<path fill=\"none\" stroke=\"black\" d=\"M2717.5,-99.8C2725.62,-90.63 2734.29,-80.84 2742.42,-71.66\"/>\n",
       "<polygon fill=\"black\" stroke=\"black\" points=\"2745.09,-73.92 2749.1,-64.12 2739.85,-69.28 2745.09,-73.92\"/>\n",
       "</g>\n",
       "<!-- 47 -->\n",
       "<g id=\"node48\" class=\"node\">\n",
       "<title>47</title>\n",
       "<polygon fill=\"none\" stroke=\"black\" points=\"2956.2,-64 2851.13,-64 2851.13,0 2956.2,0 2956.2,-64\"/>\n",
       "<text text-anchor=\"middle\" x=\"2903.67\" y=\"-48.8\" font-family=\"Times,serif\" font-size=\"14.00\">gini = 0.495</text>\n",
       "<text text-anchor=\"middle\" x=\"2903.67\" y=\"-34.8\" font-family=\"Times,serif\" font-size=\"14.00\">samples = 29</text>\n",
       "<text text-anchor=\"middle\" x=\"2903.67\" y=\"-20.8\" font-family=\"Times,serif\" font-size=\"14.00\">value = [13, 16]</text>\n",
       "<text text-anchor=\"middle\" x=\"2903.67\" y=\"-6.8\" font-family=\"Times,serif\" font-size=\"14.00\">class = Denied</text>\n",
       "</g>\n",
       "<!-- 46&#45;&gt;47 -->\n",
       "<g id=\"edge47\" class=\"edge\">\n",
       "<title>46&#45;&gt;47</title>\n",
       "<path fill=\"none\" stroke=\"black\" d=\"M2903.67,-99.8C2903.67,-91.46 2903.67,-82.6 2903.67,-74.15\"/>\n",
       "<polygon fill=\"black\" stroke=\"black\" points=\"2907.17,-74.12 2903.67,-64.12 2900.17,-74.12 2907.17,-74.12\"/>\n",
       "</g>\n",
       "<!-- 48 -->\n",
       "<g id=\"node49\" class=\"node\">\n",
       "<title>48</title>\n",
       "<polygon fill=\"none\" stroke=\"black\" points=\"3080.2,-64 2975.13,-64 2975.13,0 3080.2,0 3080.2,-64\"/>\n",
       "<text text-anchor=\"middle\" x=\"3027.67\" y=\"-48.8\" font-family=\"Times,serif\" font-size=\"14.00\">gini = 0.317</text>\n",
       "<text text-anchor=\"middle\" x=\"3027.67\" y=\"-34.8\" font-family=\"Times,serif\" font-size=\"14.00\">samples = 71</text>\n",
       "<text text-anchor=\"middle\" x=\"3027.67\" y=\"-20.8\" font-family=\"Times,serif\" font-size=\"14.00\">value = [14, 57]</text>\n",
       "<text text-anchor=\"middle\" x=\"3027.67\" y=\"-6.8\" font-family=\"Times,serif\" font-size=\"14.00\">class = Denied</text>\n",
       "</g>\n",
       "<!-- 46&#45;&gt;48 -->\n",
       "<g id=\"edge48\" class=\"edge\">\n",
       "<title>46&#45;&gt;48</title>\n",
       "<path fill=\"none\" stroke=\"black\" d=\"M2948.78,-99.8C2959.93,-90.36 2971.86,-80.25 2982.98,-70.84\"/>\n",
       "<polygon fill=\"black\" stroke=\"black\" points=\"2985.55,-73.25 2990.92,-64.12 2981.02,-67.91 2985.55,-73.25\"/>\n",
       "</g>\n",
       "</g>\n",
       "</svg>\n"
      ],
      "text/plain": [
       "<graphviz.files.Source at 0x11741a5c0>"
      ]
     },
     "execution_count": 35,
     "metadata": {},
     "output_type": "execute_result"
    }
   ],
   "source": [
    "# print decision tree and save to file\n",
    "tree_data = tree.export_graphviz(model, out_file=None,\n",
    "                               feature_names=X.columns,\n",
    "                               class_names=['Approved', 'Denied'])\n",
    "graph = graphviz.Source(tree_data)\n",
    "graph.render(\"hmda_tree\")\n",
    "graph"
   ]
  },
  {
   "cell_type": "markdown",
   "metadata": {},
   "source": [
    "# Visualizing Feature Importance"
   ]
  },
  {
   "cell_type": "code",
   "execution_count": 36,
   "metadata": {},
   "outputs": [
    {
     "data": {
      "application/vnd.plotly.v1+json": {
       "config": {
        "plotlyServerURL": "https://plot.ly"
       },
       "data": [
        {
         "alignmentgroup": "True",
         "hoverlabel": {
          "namelength": 0
         },
         "hovertemplate": "Proportion=%{x}<br>Variable=%{y}",
         "legendgroup": "",
         "marker": {
          "color": "#636efa"
         },
         "name": "",
         "offsetgroup": "",
         "orientation": "h",
         "showlegend": false,
         "textposition": "auto",
         "type": "bar",
         "x": [
          0.776,
          0.126,
          0.045,
          0.021,
          0.015
         ],
         "xaxis": "x",
         "y": [
          "Debt to Income Ratio",
          "Loan Amount",
          "Loan Term",
          "Median Family Income",
          "Minority Population %"
         ],
         "yaxis": "y"
        }
       ],
       "layout": {
        "barmode": "relative",
        "height": 1000,
        "legend": {
         "tracegroupgap": 0
        },
        "template": {
         "data": {
          "bar": [
           {
            "error_x": {
             "color": "#2a3f5f"
            },
            "error_y": {
             "color": "#2a3f5f"
            },
            "marker": {
             "line": {
              "color": "#E5ECF6",
              "width": 0.5
             }
            },
            "type": "bar"
           }
          ],
          "barpolar": [
           {
            "marker": {
             "line": {
              "color": "#E5ECF6",
              "width": 0.5
             }
            },
            "type": "barpolar"
           }
          ],
          "carpet": [
           {
            "aaxis": {
             "endlinecolor": "#2a3f5f",
             "gridcolor": "white",
             "linecolor": "white",
             "minorgridcolor": "white",
             "startlinecolor": "#2a3f5f"
            },
            "baxis": {
             "endlinecolor": "#2a3f5f",
             "gridcolor": "white",
             "linecolor": "white",
             "minorgridcolor": "white",
             "startlinecolor": "#2a3f5f"
            },
            "type": "carpet"
           }
          ],
          "choropleth": [
           {
            "colorbar": {
             "outlinewidth": 0,
             "ticks": ""
            },
            "type": "choropleth"
           }
          ],
          "contour": [
           {
            "colorbar": {
             "outlinewidth": 0,
             "ticks": ""
            },
            "colorscale": [
             [
              0,
              "#0d0887"
             ],
             [
              0.1111111111111111,
              "#46039f"
             ],
             [
              0.2222222222222222,
              "#7201a8"
             ],
             [
              0.3333333333333333,
              "#9c179e"
             ],
             [
              0.4444444444444444,
              "#bd3786"
             ],
             [
              0.5555555555555556,
              "#d8576b"
             ],
             [
              0.6666666666666666,
              "#ed7953"
             ],
             [
              0.7777777777777778,
              "#fb9f3a"
             ],
             [
              0.8888888888888888,
              "#fdca26"
             ],
             [
              1,
              "#f0f921"
             ]
            ],
            "type": "contour"
           }
          ],
          "contourcarpet": [
           {
            "colorbar": {
             "outlinewidth": 0,
             "ticks": ""
            },
            "type": "contourcarpet"
           }
          ],
          "heatmap": [
           {
            "colorbar": {
             "outlinewidth": 0,
             "ticks": ""
            },
            "colorscale": [
             [
              0,
              "#0d0887"
             ],
             [
              0.1111111111111111,
              "#46039f"
             ],
             [
              0.2222222222222222,
              "#7201a8"
             ],
             [
              0.3333333333333333,
              "#9c179e"
             ],
             [
              0.4444444444444444,
              "#bd3786"
             ],
             [
              0.5555555555555556,
              "#d8576b"
             ],
             [
              0.6666666666666666,
              "#ed7953"
             ],
             [
              0.7777777777777778,
              "#fb9f3a"
             ],
             [
              0.8888888888888888,
              "#fdca26"
             ],
             [
              1,
              "#f0f921"
             ]
            ],
            "type": "heatmap"
           }
          ],
          "heatmapgl": [
           {
            "colorbar": {
             "outlinewidth": 0,
             "ticks": ""
            },
            "colorscale": [
             [
              0,
              "#0d0887"
             ],
             [
              0.1111111111111111,
              "#46039f"
             ],
             [
              0.2222222222222222,
              "#7201a8"
             ],
             [
              0.3333333333333333,
              "#9c179e"
             ],
             [
              0.4444444444444444,
              "#bd3786"
             ],
             [
              0.5555555555555556,
              "#d8576b"
             ],
             [
              0.6666666666666666,
              "#ed7953"
             ],
             [
              0.7777777777777778,
              "#fb9f3a"
             ],
             [
              0.8888888888888888,
              "#fdca26"
             ],
             [
              1,
              "#f0f921"
             ]
            ],
            "type": "heatmapgl"
           }
          ],
          "histogram": [
           {
            "marker": {
             "colorbar": {
              "outlinewidth": 0,
              "ticks": ""
             }
            },
            "type": "histogram"
           }
          ],
          "histogram2d": [
           {
            "colorbar": {
             "outlinewidth": 0,
             "ticks": ""
            },
            "colorscale": [
             [
              0,
              "#0d0887"
             ],
             [
              0.1111111111111111,
              "#46039f"
             ],
             [
              0.2222222222222222,
              "#7201a8"
             ],
             [
              0.3333333333333333,
              "#9c179e"
             ],
             [
              0.4444444444444444,
              "#bd3786"
             ],
             [
              0.5555555555555556,
              "#d8576b"
             ],
             [
              0.6666666666666666,
              "#ed7953"
             ],
             [
              0.7777777777777778,
              "#fb9f3a"
             ],
             [
              0.8888888888888888,
              "#fdca26"
             ],
             [
              1,
              "#f0f921"
             ]
            ],
            "type": "histogram2d"
           }
          ],
          "histogram2dcontour": [
           {
            "colorbar": {
             "outlinewidth": 0,
             "ticks": ""
            },
            "colorscale": [
             [
              0,
              "#0d0887"
             ],
             [
              0.1111111111111111,
              "#46039f"
             ],
             [
              0.2222222222222222,
              "#7201a8"
             ],
             [
              0.3333333333333333,
              "#9c179e"
             ],
             [
              0.4444444444444444,
              "#bd3786"
             ],
             [
              0.5555555555555556,
              "#d8576b"
             ],
             [
              0.6666666666666666,
              "#ed7953"
             ],
             [
              0.7777777777777778,
              "#fb9f3a"
             ],
             [
              0.8888888888888888,
              "#fdca26"
             ],
             [
              1,
              "#f0f921"
             ]
            ],
            "type": "histogram2dcontour"
           }
          ],
          "mesh3d": [
           {
            "colorbar": {
             "outlinewidth": 0,
             "ticks": ""
            },
            "type": "mesh3d"
           }
          ],
          "parcoords": [
           {
            "line": {
             "colorbar": {
              "outlinewidth": 0,
              "ticks": ""
             }
            },
            "type": "parcoords"
           }
          ],
          "scatter": [
           {
            "marker": {
             "colorbar": {
              "outlinewidth": 0,
              "ticks": ""
             }
            },
            "type": "scatter"
           }
          ],
          "scatter3d": [
           {
            "line": {
             "colorbar": {
              "outlinewidth": 0,
              "ticks": ""
             }
            },
            "marker": {
             "colorbar": {
              "outlinewidth": 0,
              "ticks": ""
             }
            },
            "type": "scatter3d"
           }
          ],
          "scattercarpet": [
           {
            "marker": {
             "colorbar": {
              "outlinewidth": 0,
              "ticks": ""
             }
            },
            "type": "scattercarpet"
           }
          ],
          "scattergeo": [
           {
            "marker": {
             "colorbar": {
              "outlinewidth": 0,
              "ticks": ""
             }
            },
            "type": "scattergeo"
           }
          ],
          "scattergl": [
           {
            "marker": {
             "colorbar": {
              "outlinewidth": 0,
              "ticks": ""
             }
            },
            "type": "scattergl"
           }
          ],
          "scattermapbox": [
           {
            "marker": {
             "colorbar": {
              "outlinewidth": 0,
              "ticks": ""
             }
            },
            "type": "scattermapbox"
           }
          ],
          "scatterpolar": [
           {
            "marker": {
             "colorbar": {
              "outlinewidth": 0,
              "ticks": ""
             }
            },
            "type": "scatterpolar"
           }
          ],
          "scatterpolargl": [
           {
            "marker": {
             "colorbar": {
              "outlinewidth": 0,
              "ticks": ""
             }
            },
            "type": "scatterpolargl"
           }
          ],
          "scatterternary": [
           {
            "marker": {
             "colorbar": {
              "outlinewidth": 0,
              "ticks": ""
             }
            },
            "type": "scatterternary"
           }
          ],
          "surface": [
           {
            "colorbar": {
             "outlinewidth": 0,
             "ticks": ""
            },
            "colorscale": [
             [
              0,
              "#0d0887"
             ],
             [
              0.1111111111111111,
              "#46039f"
             ],
             [
              0.2222222222222222,
              "#7201a8"
             ],
             [
              0.3333333333333333,
              "#9c179e"
             ],
             [
              0.4444444444444444,
              "#bd3786"
             ],
             [
              0.5555555555555556,
              "#d8576b"
             ],
             [
              0.6666666666666666,
              "#ed7953"
             ],
             [
              0.7777777777777778,
              "#fb9f3a"
             ],
             [
              0.8888888888888888,
              "#fdca26"
             ],
             [
              1,
              "#f0f921"
             ]
            ],
            "type": "surface"
           }
          ],
          "table": [
           {
            "cells": {
             "fill": {
              "color": "#EBF0F8"
             },
             "line": {
              "color": "white"
             }
            },
            "header": {
             "fill": {
              "color": "#C8D4E3"
             },
             "line": {
              "color": "white"
             }
            },
            "type": "table"
           }
          ]
         },
         "layout": {
          "annotationdefaults": {
           "arrowcolor": "#2a3f5f",
           "arrowhead": 0,
           "arrowwidth": 1
          },
          "colorscale": {
           "diverging": [
            [
             0,
             "#8e0152"
            ],
            [
             0.1,
             "#c51b7d"
            ],
            [
             0.2,
             "#de77ae"
            ],
            [
             0.3,
             "#f1b6da"
            ],
            [
             0.4,
             "#fde0ef"
            ],
            [
             0.5,
             "#f7f7f7"
            ],
            [
             0.6,
             "#e6f5d0"
            ],
            [
             0.7,
             "#b8e186"
            ],
            [
             0.8,
             "#7fbc41"
            ],
            [
             0.9,
             "#4d9221"
            ],
            [
             1,
             "#276419"
            ]
           ],
           "sequential": [
            [
             0,
             "#0d0887"
            ],
            [
             0.1111111111111111,
             "#46039f"
            ],
            [
             0.2222222222222222,
             "#7201a8"
            ],
            [
             0.3333333333333333,
             "#9c179e"
            ],
            [
             0.4444444444444444,
             "#bd3786"
            ],
            [
             0.5555555555555556,
             "#d8576b"
            ],
            [
             0.6666666666666666,
             "#ed7953"
            ],
            [
             0.7777777777777778,
             "#fb9f3a"
            ],
            [
             0.8888888888888888,
             "#fdca26"
            ],
            [
             1,
             "#f0f921"
            ]
           ],
           "sequentialminus": [
            [
             0,
             "#0d0887"
            ],
            [
             0.1111111111111111,
             "#46039f"
            ],
            [
             0.2222222222222222,
             "#7201a8"
            ],
            [
             0.3333333333333333,
             "#9c179e"
            ],
            [
             0.4444444444444444,
             "#bd3786"
            ],
            [
             0.5555555555555556,
             "#d8576b"
            ],
            [
             0.6666666666666666,
             "#ed7953"
            ],
            [
             0.7777777777777778,
             "#fb9f3a"
            ],
            [
             0.8888888888888888,
             "#fdca26"
            ],
            [
             1,
             "#f0f921"
            ]
           ]
          },
          "colorway": [
           "#636efa",
           "#EF553B",
           "#00cc96",
           "#ab63fa",
           "#FFA15A",
           "#19d3f3",
           "#FF6692",
           "#B6E880",
           "#FF97FF",
           "#FECB52"
          ],
          "font": {
           "color": "#2a3f5f"
          },
          "geo": {
           "bgcolor": "white",
           "lakecolor": "white",
           "landcolor": "#E5ECF6",
           "showlakes": true,
           "showland": true,
           "subunitcolor": "white"
          },
          "hoverlabel": {
           "align": "left"
          },
          "hovermode": "closest",
          "mapbox": {
           "style": "light"
          },
          "paper_bgcolor": "white",
          "plot_bgcolor": "#E5ECF6",
          "polar": {
           "angularaxis": {
            "gridcolor": "white",
            "linecolor": "white",
            "ticks": ""
           },
           "bgcolor": "#E5ECF6",
           "radialaxis": {
            "gridcolor": "white",
            "linecolor": "white",
            "ticks": ""
           }
          },
          "scene": {
           "xaxis": {
            "backgroundcolor": "#E5ECF6",
            "gridcolor": "white",
            "gridwidth": 2,
            "linecolor": "white",
            "showbackground": true,
            "ticks": "",
            "zerolinecolor": "white"
           },
           "yaxis": {
            "backgroundcolor": "#E5ECF6",
            "gridcolor": "white",
            "gridwidth": 2,
            "linecolor": "white",
            "showbackground": true,
            "ticks": "",
            "zerolinecolor": "white"
           },
           "zaxis": {
            "backgroundcolor": "#E5ECF6",
            "gridcolor": "white",
            "gridwidth": 2,
            "linecolor": "white",
            "showbackground": true,
            "ticks": "",
            "zerolinecolor": "white"
           }
          },
          "shapedefaults": {
           "line": {
            "color": "#2a3f5f"
           }
          },
          "ternary": {
           "aaxis": {
            "gridcolor": "white",
            "linecolor": "white",
            "ticks": ""
           },
           "baxis": {
            "gridcolor": "white",
            "linecolor": "white",
            "ticks": ""
           },
           "bgcolor": "#E5ECF6",
           "caxis": {
            "gridcolor": "white",
            "linecolor": "white",
            "ticks": ""
           }
          },
          "title": {
           "x": 0.05
          },
          "xaxis": {
           "automargin": true,
           "gridcolor": "white",
           "linecolor": "white",
           "ticks": "",
           "zerolinecolor": "white",
           "zerolinewidth": 2
          },
          "yaxis": {
           "automargin": true,
           "gridcolor": "white",
           "linecolor": "white",
           "ticks": "",
           "zerolinecolor": "white",
           "zerolinewidth": 2
          }
         }
        },
        "title": {
         "text": "Variable Importance"
        },
        "xaxis": {
         "anchor": "y",
         "domain": [
          0,
          0.98
         ],
         "title": {
          "text": "Proportion"
         }
        },
        "yaxis": {
         "anchor": "x",
         "categoryorder": "total ascending",
         "domain": [
          0,
          1
         ],
         "title": {
          "text": "Variable"
         }
        }
       }
      },
      "text/html": [
       "<div>\n",
       "        \n",
       "        \n",
       "            <div id=\"ca410825-de54-4158-819b-201c4ab4ed07\" class=\"plotly-graph-div\" style=\"height:1000px; width:100%;\"></div>\n",
       "            <script type=\"text/javascript\">\n",
       "                require([\"plotly\"], function(Plotly) {\n",
       "                    window.PLOTLYENV=window.PLOTLYENV || {};\n",
       "                    \n",
       "                if (document.getElementById(\"ca410825-de54-4158-819b-201c4ab4ed07\")) {\n",
       "                    Plotly.newPlot(\n",
       "                        'ca410825-de54-4158-819b-201c4ab4ed07',\n",
       "                        [{\"alignmentgroup\": \"True\", \"hoverlabel\": {\"namelength\": 0}, \"hovertemplate\": \"Proportion=%{x}<br>Variable=%{y}\", \"legendgroup\": \"\", \"marker\": {\"color\": \"#636efa\"}, \"name\": \"\", \"offsetgroup\": \"\", \"orientation\": \"h\", \"showlegend\": false, \"textposition\": \"auto\", \"type\": \"bar\", \"x\": [0.776, 0.126, 0.045, 0.021, 0.015], \"xaxis\": \"x\", \"y\": [\"Debt to Income Ratio\", \"Loan Amount\", \"Loan Term\", \"Median Family Income\", \"Minority Population %\"], \"yaxis\": \"y\"}],\n",
       "                        {\"barmode\": \"relative\", \"height\": 1000, \"legend\": {\"tracegroupgap\": 0}, \"template\": {\"data\": {\"bar\": [{\"error_x\": {\"color\": \"#2a3f5f\"}, \"error_y\": {\"color\": \"#2a3f5f\"}, \"marker\": {\"line\": {\"color\": \"#E5ECF6\", \"width\": 0.5}}, \"type\": \"bar\"}], \"barpolar\": [{\"marker\": {\"line\": {\"color\": \"#E5ECF6\", \"width\": 0.5}}, \"type\": \"barpolar\"}], \"carpet\": [{\"aaxis\": {\"endlinecolor\": \"#2a3f5f\", \"gridcolor\": \"white\", \"linecolor\": \"white\", \"minorgridcolor\": \"white\", \"startlinecolor\": \"#2a3f5f\"}, \"baxis\": {\"endlinecolor\": \"#2a3f5f\", \"gridcolor\": \"white\", \"linecolor\": \"white\", \"minorgridcolor\": \"white\", \"startlinecolor\": \"#2a3f5f\"}, \"type\": \"carpet\"}], \"choropleth\": [{\"colorbar\": {\"outlinewidth\": 0, \"ticks\": \"\"}, \"type\": \"choropleth\"}], \"contour\": [{\"colorbar\": {\"outlinewidth\": 0, \"ticks\": \"\"}, \"colorscale\": [[0.0, \"#0d0887\"], [0.1111111111111111, \"#46039f\"], [0.2222222222222222, \"#7201a8\"], [0.3333333333333333, \"#9c179e\"], [0.4444444444444444, \"#bd3786\"], [0.5555555555555556, \"#d8576b\"], [0.6666666666666666, \"#ed7953\"], [0.7777777777777778, \"#fb9f3a\"], [0.8888888888888888, \"#fdca26\"], [1.0, \"#f0f921\"]], \"type\": \"contour\"}], \"contourcarpet\": [{\"colorbar\": {\"outlinewidth\": 0, \"ticks\": \"\"}, \"type\": \"contourcarpet\"}], \"heatmap\": [{\"colorbar\": {\"outlinewidth\": 0, \"ticks\": \"\"}, \"colorscale\": [[0.0, \"#0d0887\"], [0.1111111111111111, \"#46039f\"], [0.2222222222222222, \"#7201a8\"], [0.3333333333333333, \"#9c179e\"], [0.4444444444444444, \"#bd3786\"], [0.5555555555555556, \"#d8576b\"], [0.6666666666666666, \"#ed7953\"], [0.7777777777777778, \"#fb9f3a\"], [0.8888888888888888, \"#fdca26\"], [1.0, \"#f0f921\"]], \"type\": \"heatmap\"}], \"heatmapgl\": [{\"colorbar\": {\"outlinewidth\": 0, \"ticks\": \"\"}, \"colorscale\": [[0.0, \"#0d0887\"], [0.1111111111111111, \"#46039f\"], [0.2222222222222222, \"#7201a8\"], [0.3333333333333333, \"#9c179e\"], [0.4444444444444444, \"#bd3786\"], [0.5555555555555556, \"#d8576b\"], [0.6666666666666666, \"#ed7953\"], [0.7777777777777778, \"#fb9f3a\"], [0.8888888888888888, \"#fdca26\"], [1.0, \"#f0f921\"]], \"type\": \"heatmapgl\"}], \"histogram\": [{\"marker\": {\"colorbar\": {\"outlinewidth\": 0, \"ticks\": \"\"}}, \"type\": \"histogram\"}], \"histogram2d\": [{\"colorbar\": {\"outlinewidth\": 0, \"ticks\": \"\"}, \"colorscale\": [[0.0, \"#0d0887\"], [0.1111111111111111, \"#46039f\"], [0.2222222222222222, \"#7201a8\"], [0.3333333333333333, \"#9c179e\"], [0.4444444444444444, \"#bd3786\"], [0.5555555555555556, \"#d8576b\"], [0.6666666666666666, \"#ed7953\"], [0.7777777777777778, \"#fb9f3a\"], [0.8888888888888888, \"#fdca26\"], [1.0, \"#f0f921\"]], \"type\": \"histogram2d\"}], \"histogram2dcontour\": [{\"colorbar\": {\"outlinewidth\": 0, \"ticks\": \"\"}, \"colorscale\": [[0.0, \"#0d0887\"], [0.1111111111111111, \"#46039f\"], [0.2222222222222222, \"#7201a8\"], [0.3333333333333333, \"#9c179e\"], [0.4444444444444444, \"#bd3786\"], [0.5555555555555556, \"#d8576b\"], [0.6666666666666666, \"#ed7953\"], [0.7777777777777778, \"#fb9f3a\"], [0.8888888888888888, \"#fdca26\"], [1.0, \"#f0f921\"]], \"type\": \"histogram2dcontour\"}], \"mesh3d\": [{\"colorbar\": {\"outlinewidth\": 0, \"ticks\": \"\"}, \"type\": \"mesh3d\"}], \"parcoords\": [{\"line\": {\"colorbar\": {\"outlinewidth\": 0, \"ticks\": \"\"}}, \"type\": \"parcoords\"}], \"scatter\": [{\"marker\": {\"colorbar\": {\"outlinewidth\": 0, \"ticks\": \"\"}}, \"type\": \"scatter\"}], \"scatter3d\": [{\"line\": {\"colorbar\": {\"outlinewidth\": 0, \"ticks\": \"\"}}, \"marker\": {\"colorbar\": {\"outlinewidth\": 0, \"ticks\": \"\"}}, \"type\": \"scatter3d\"}], \"scattercarpet\": [{\"marker\": {\"colorbar\": {\"outlinewidth\": 0, \"ticks\": \"\"}}, \"type\": \"scattercarpet\"}], \"scattergeo\": [{\"marker\": {\"colorbar\": {\"outlinewidth\": 0, \"ticks\": \"\"}}, \"type\": \"scattergeo\"}], \"scattergl\": [{\"marker\": {\"colorbar\": {\"outlinewidth\": 0, \"ticks\": \"\"}}, \"type\": \"scattergl\"}], \"scattermapbox\": [{\"marker\": {\"colorbar\": {\"outlinewidth\": 0, \"ticks\": \"\"}}, \"type\": \"scattermapbox\"}], \"scatterpolar\": [{\"marker\": {\"colorbar\": {\"outlinewidth\": 0, \"ticks\": \"\"}}, \"type\": \"scatterpolar\"}], \"scatterpolargl\": [{\"marker\": {\"colorbar\": {\"outlinewidth\": 0, \"ticks\": \"\"}}, \"type\": \"scatterpolargl\"}], \"scatterternary\": [{\"marker\": {\"colorbar\": {\"outlinewidth\": 0, \"ticks\": \"\"}}, \"type\": \"scatterternary\"}], \"surface\": [{\"colorbar\": {\"outlinewidth\": 0, \"ticks\": \"\"}, \"colorscale\": [[0.0, \"#0d0887\"], [0.1111111111111111, \"#46039f\"], [0.2222222222222222, \"#7201a8\"], [0.3333333333333333, \"#9c179e\"], [0.4444444444444444, \"#bd3786\"], [0.5555555555555556, \"#d8576b\"], [0.6666666666666666, \"#ed7953\"], [0.7777777777777778, \"#fb9f3a\"], [0.8888888888888888, \"#fdca26\"], [1.0, \"#f0f921\"]], \"type\": \"surface\"}], \"table\": [{\"cells\": {\"fill\": {\"color\": \"#EBF0F8\"}, \"line\": {\"color\": \"white\"}}, \"header\": {\"fill\": {\"color\": \"#C8D4E3\"}, \"line\": {\"color\": \"white\"}}, \"type\": \"table\"}]}, \"layout\": {\"annotationdefaults\": {\"arrowcolor\": \"#2a3f5f\", \"arrowhead\": 0, \"arrowwidth\": 1}, \"colorscale\": {\"diverging\": [[0, \"#8e0152\"], [0.1, \"#c51b7d\"], [0.2, \"#de77ae\"], [0.3, \"#f1b6da\"], [0.4, \"#fde0ef\"], [0.5, \"#f7f7f7\"], [0.6, \"#e6f5d0\"], [0.7, \"#b8e186\"], [0.8, \"#7fbc41\"], [0.9, \"#4d9221\"], [1, \"#276419\"]], \"sequential\": [[0.0, \"#0d0887\"], [0.1111111111111111, \"#46039f\"], [0.2222222222222222, \"#7201a8\"], [0.3333333333333333, \"#9c179e\"], [0.4444444444444444, \"#bd3786\"], [0.5555555555555556, \"#d8576b\"], [0.6666666666666666, \"#ed7953\"], [0.7777777777777778, \"#fb9f3a\"], [0.8888888888888888, \"#fdca26\"], [1.0, \"#f0f921\"]], \"sequentialminus\": [[0.0, \"#0d0887\"], [0.1111111111111111, \"#46039f\"], [0.2222222222222222, \"#7201a8\"], [0.3333333333333333, \"#9c179e\"], [0.4444444444444444, \"#bd3786\"], [0.5555555555555556, \"#d8576b\"], [0.6666666666666666, \"#ed7953\"], [0.7777777777777778, \"#fb9f3a\"], [0.8888888888888888, \"#fdca26\"], [1.0, \"#f0f921\"]]}, \"colorway\": [\"#636efa\", \"#EF553B\", \"#00cc96\", \"#ab63fa\", \"#FFA15A\", \"#19d3f3\", \"#FF6692\", \"#B6E880\", \"#FF97FF\", \"#FECB52\"], \"font\": {\"color\": \"#2a3f5f\"}, \"geo\": {\"bgcolor\": \"white\", \"lakecolor\": \"white\", \"landcolor\": \"#E5ECF6\", \"showlakes\": true, \"showland\": true, \"subunitcolor\": \"white\"}, \"hoverlabel\": {\"align\": \"left\"}, \"hovermode\": \"closest\", \"mapbox\": {\"style\": \"light\"}, \"paper_bgcolor\": \"white\", \"plot_bgcolor\": \"#E5ECF6\", \"polar\": {\"angularaxis\": {\"gridcolor\": \"white\", \"linecolor\": \"white\", \"ticks\": \"\"}, \"bgcolor\": \"#E5ECF6\", \"radialaxis\": {\"gridcolor\": \"white\", \"linecolor\": \"white\", \"ticks\": \"\"}}, \"scene\": {\"xaxis\": {\"backgroundcolor\": \"#E5ECF6\", \"gridcolor\": \"white\", \"gridwidth\": 2, \"linecolor\": \"white\", \"showbackground\": true, \"ticks\": \"\", \"zerolinecolor\": \"white\"}, \"yaxis\": {\"backgroundcolor\": \"#E5ECF6\", \"gridcolor\": \"white\", \"gridwidth\": 2, \"linecolor\": \"white\", \"showbackground\": true, \"ticks\": \"\", \"zerolinecolor\": \"white\"}, \"zaxis\": {\"backgroundcolor\": \"#E5ECF6\", \"gridcolor\": \"white\", \"gridwidth\": 2, \"linecolor\": \"white\", \"showbackground\": true, \"ticks\": \"\", \"zerolinecolor\": \"white\"}}, \"shapedefaults\": {\"line\": {\"color\": \"#2a3f5f\"}}, \"ternary\": {\"aaxis\": {\"gridcolor\": \"white\", \"linecolor\": \"white\", \"ticks\": \"\"}, \"baxis\": {\"gridcolor\": \"white\", \"linecolor\": \"white\", \"ticks\": \"\"}, \"bgcolor\": \"#E5ECF6\", \"caxis\": {\"gridcolor\": \"white\", \"linecolor\": \"white\", \"ticks\": \"\"}}, \"title\": {\"x\": 0.05}, \"xaxis\": {\"automargin\": true, \"gridcolor\": \"white\", \"linecolor\": \"white\", \"ticks\": \"\", \"zerolinecolor\": \"white\", \"zerolinewidth\": 2}, \"yaxis\": {\"automargin\": true, \"gridcolor\": \"white\", \"linecolor\": \"white\", \"ticks\": \"\", \"zerolinecolor\": \"white\", \"zerolinewidth\": 2}}}, \"title\": {\"text\": \"Variable Importance\"}, \"xaxis\": {\"anchor\": \"y\", \"domain\": [0.0, 0.98], \"title\": {\"text\": \"Proportion\"}}, \"yaxis\": {\"anchor\": \"x\", \"categoryorder\": \"total ascending\", \"domain\": [0.0, 1.0], \"title\": {\"text\": \"Variable\"}}},\n",
       "                        {\"responsive\": true}\n",
       "                    ).then(function(){\n",
       "                            \n",
       "var gd = document.getElementById('ca410825-de54-4158-819b-201c4ab4ed07');\n",
       "var x = new MutationObserver(function (mutations, observer) {{\n",
       "        var display = window.getComputedStyle(gd).display;\n",
       "        if (!display || display === 'none') {{\n",
       "            console.log([gd, 'removed!']);\n",
       "            Plotly.purge(gd);\n",
       "            observer.disconnect();\n",
       "        }}\n",
       "}});\n",
       "\n",
       "// Listen for the removal of the full notebook cells\n",
       "var notebookContainer = gd.closest('#notebook-container');\n",
       "if (notebookContainer) {{\n",
       "    x.observe(notebookContainer, {childList: true});\n",
       "}}\n",
       "\n",
       "// Listen for the clearing of the current output cell\n",
       "var outputEl = gd.closest('.output');\n",
       "if (outputEl) {{\n",
       "    x.observe(outputEl, {childList: true});\n",
       "}}\n",
       "\n",
       "                        })\n",
       "                };\n",
       "                });\n",
       "            </script>\n",
       "        </div>"
      ]
     },
     "metadata": {},
     "output_type": "display_data"
    }
   ],
   "source": [
    "import plotly.express as px\n",
    "fig = px.bar(coef, x=\"Proportion\", y=\"Variable\", orientation='h', height=1000,\n",
    "            title='Variable Importance').update_yaxes(categoryorder=\"total ascending\")\n",
    "\n",
    "fig.show()"
   ]
  },
  {
   "cell_type": "markdown",
   "metadata": {},
   "source": [
    "# Validating Model Score"
   ]
  },
  {
   "cell_type": "code",
   "execution_count": 37,
   "metadata": {},
   "outputs": [
    {
     "data": {
      "text/plain": [
       "0.827"
      ]
     },
     "execution_count": 37,
     "metadata": {},
     "output_type": "execute_result"
    }
   ],
   "source": [
    "round(np.mean(cross_val_score(model, X_test, y_test,cv=5)),3)"
   ]
  },
  {
   "cell_type": "markdown",
   "metadata": {},
   "source": [
    "# Confusion Matrix for Decision Tree"
   ]
  },
  {
   "cell_type": "code",
   "execution_count": 38,
   "metadata": {},
   "outputs": [
    {
     "data": {
      "text/plain": [
       "array([[19351,   348],\n",
       "       [ 3898,  1943]])"
      ]
     },
     "execution_count": 38,
     "metadata": {},
     "output_type": "execute_result"
    }
   ],
   "source": [
    "confusion_matrix(y, model.predict(X))"
   ]
  },
  {
   "cell_type": "code",
   "execution_count": 39,
   "metadata": {},
   "outputs": [
    {
     "name": "stdout",
     "output_type": "stream",
     "text": [
      "              precision    recall  f1-score   support\n",
      "\n",
      "           0       0.83      0.98      0.90     19699\n",
      "           1       0.85      0.33      0.48      5841\n",
      "\n",
      "    accuracy                           0.83     25540\n",
      "   macro avg       0.84      0.66      0.69     25540\n",
      "weighted avg       0.84      0.83      0.80     25540\n",
      "\n"
     ]
    }
   ],
   "source": [
    "print(classification_report(y, model.predict(X)))"
   ]
  }
 ],
 "metadata": {
  "kernelspec": {
   "display_name": "Python 3",
   "language": "python",
   "name": "python3"
  },
  "language_info": {
   "codemirror_mode": {
    "name": "ipython",
    "version": 3
   },
   "file_extension": ".py",
   "mimetype": "text/x-python",
   "name": "python",
   "nbconvert_exporter": "python",
   "pygments_lexer": "ipython3",
   "version": "3.7.1"
  }
 },
 "nbformat": 4,
 "nbformat_minor": 2
}
