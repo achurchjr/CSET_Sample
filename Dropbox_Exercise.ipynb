{
 "cells": [
  {
   "cell_type": "markdown",
   "metadata": {},
   "source": [
    "# Allen Church: Dropbox Data Science Take Home Assessment\n",
    "## May 25, 2022\n",
    "### Customer Experience Team"
   ]
  },
  {
   "cell_type": "code",
   "execution_count": 1,
   "metadata": {},
   "outputs": [],
   "source": [
    "# Data wrangling and viz\n",
    "import pandas as pd\n",
    "import numpy as np\n",
    "import seaborn as sns\n",
    "import matplotlib.pyplot as plt\n",
    "import seaborn as sns\n",
    "\n",
    "# sklearn libraries\n",
    "from sklearn.preprocessing import MinMaxScaler\n",
    "from sklearn.ensemble import RandomForestClassifier\n",
    "from sklearn import model_selection\n",
    "from sklearn.linear_model import LogisticRegression, LinearRegression\n",
    "from sklearn.tree import DecisionTreeClassifier\n",
    "from sklearn.neighbors import KNeighborsClassifier\n",
    "from sklearn.discriminant_analysis import LinearDiscriminantAnalysis\n",
    "from sklearn.naive_bayes import GaussianNB\n",
    "from sklearn.svm import SVC\n",
    "from sklearn.metrics import classification_report, confusion_matrix\n",
    "from sklearn.model_selection import train_test_split\n",
    "\n",
    "# Neural net\n",
    "from keras.models import Sequential\n",
    "from keras.layers import Dense"
   ]
  },
  {
   "cell_type": "markdown",
   "metadata": {},
   "source": [
    "## 1. Patterns Associated with Low-Scoring Tickets"
   ]
  },
  {
   "cell_type": "markdown",
   "metadata": {},
   "source": [
    "### Data cleaning and ingestion"
   ]
  },
  {
   "cell_type": "code",
   "execution_count": 2,
   "metadata": {},
   "outputs": [
    {
     "data": {
      "text/html": [
       "<div>\n",
       "<style scoped>\n",
       "    .dataframe tbody tr th:only-of-type {\n",
       "        vertical-align: middle;\n",
       "    }\n",
       "\n",
       "    .dataframe tbody tr th {\n",
       "        vertical-align: top;\n",
       "    }\n",
       "\n",
       "    .dataframe thead th {\n",
       "        text-align: right;\n",
       "    }\n",
       "</style>\n",
       "<table border=\"1\" class=\"dataframe\">\n",
       "  <thead>\n",
       "    <tr style=\"text-align: right;\">\n",
       "      <th></th>\n",
       "      <th>SUPPORT_CHANNEL</th>\n",
       "      <th>user_type</th>\n",
       "      <th>COUNTRY</th>\n",
       "      <th>ISSUE_TYPE_CATEGORY</th>\n",
       "      <th>TICKET_REPLIES</th>\n",
       "      <th>CALL_LENGTH_MIN</th>\n",
       "      <th>CHAT_DURATION_MIN</th>\n",
       "      <th>FULL_RESOLUTION_TIME</th>\n",
       "      <th>SURVEY_SCORE</th>\n",
       "      <th>high_score</th>\n",
       "    </tr>\n",
       "  </thead>\n",
       "  <tbody>\n",
       "    <tr>\n",
       "      <th>0</th>\n",
       "      <td>chat</td>\n",
       "      <td>business</td>\n",
       "      <td>jp</td>\n",
       "      <td>desktop app</td>\n",
       "      <td>1.0</td>\n",
       "      <td>0.0</td>\n",
       "      <td>12.716667</td>\n",
       "      <td>4.766667</td>\n",
       "      <td>5</td>\n",
       "      <td>1</td>\n",
       "    </tr>\n",
       "    <tr>\n",
       "      <th>1</th>\n",
       "      <td>chat</td>\n",
       "      <td>business</td>\n",
       "      <td>jp</td>\n",
       "      <td>admin console</td>\n",
       "      <td>2.0</td>\n",
       "      <td>0.0</td>\n",
       "      <td>31.116667</td>\n",
       "      <td>37.700000</td>\n",
       "      <td>4</td>\n",
       "      <td>1</td>\n",
       "    </tr>\n",
       "    <tr>\n",
       "      <th>2</th>\n",
       "      <td>chat</td>\n",
       "      <td>business</td>\n",
       "      <td>es</td>\n",
       "      <td>payments</td>\n",
       "      <td>1.0</td>\n",
       "      <td>0.0</td>\n",
       "      <td>21.250000</td>\n",
       "      <td>0.283333</td>\n",
       "      <td>5</td>\n",
       "      <td>1</td>\n",
       "    </tr>\n",
       "    <tr>\n",
       "      <th>3</th>\n",
       "      <td>chat</td>\n",
       "      <td>business</td>\n",
       "      <td>jp</td>\n",
       "      <td>restorations</td>\n",
       "      <td>1.0</td>\n",
       "      <td>0.0</td>\n",
       "      <td>8.166667</td>\n",
       "      <td>1.916667</td>\n",
       "      <td>5</td>\n",
       "      <td>1</td>\n",
       "    </tr>\n",
       "    <tr>\n",
       "      <th>4</th>\n",
       "      <td>chat</td>\n",
       "      <td>business</td>\n",
       "      <td>se</td>\n",
       "      <td>admin console</td>\n",
       "      <td>1.0</td>\n",
       "      <td>0.0</td>\n",
       "      <td>8.166667</td>\n",
       "      <td>4.283333</td>\n",
       "      <td>5</td>\n",
       "      <td>1</td>\n",
       "    </tr>\n",
       "  </tbody>\n",
       "</table>\n",
       "</div>"
      ],
      "text/plain": [
       "  SUPPORT_CHANNEL user_type COUNTRY ISSUE_TYPE_CATEGORY  TICKET_REPLIES  \\\n",
       "0            chat  business      jp         desktop app             1.0   \n",
       "1            chat  business      jp       admin console             2.0   \n",
       "2            chat  business      es            payments             1.0   \n",
       "3            chat  business      jp        restorations             1.0   \n",
       "4            chat  business      se       admin console             1.0   \n",
       "\n",
       "   CALL_LENGTH_MIN  CHAT_DURATION_MIN  FULL_RESOLUTION_TIME  SURVEY_SCORE  \\\n",
       "0              0.0          12.716667              4.766667             5   \n",
       "1              0.0          31.116667             37.700000             4   \n",
       "2              0.0          21.250000              0.283333             5   \n",
       "3              0.0           8.166667              1.916667             5   \n",
       "4              0.0           8.166667              4.283333             5   \n",
       "\n",
       "   high_score  \n",
       "0           1  \n",
       "1           1  \n",
       "2           1  \n",
       "3           1  \n",
       "4           1  "
      ]
     },
     "execution_count": 2,
     "metadata": {},
     "output_type": "execute_result"
    }
   ],
   "source": [
    "# Filter out missing SURVEY_SCORE since this is the variable of interest, drop columns\n",
    "df = pd.read_csv('/Users/allenchurch/Downloads/ca_takehome_assessment.csv')\n",
    "\n",
    "df = df.dropna(subset=['SURVEY_SCORE']).reset_index(drop=True).drop(\n",
    "    columns=['ticket_id','CREATED_DAY','CLOSED_DAY','CREATED_TIME']).reset_index(drop=True)\n",
    "\n",
    "# Convert column to int and dropna for user_type and ticket replies\n",
    "df['SURVEY_SCORE'] = df['SURVEY_SCORE'].astype(int)\n",
    "df = df.dropna(subset=['user_type','TICKET_REPLIES'])\n",
    "\n",
    "# Fill other support channels with 0 for call_length_min and chat_duration otherwise these get dropped\n",
    "df[['CALL_LENGTH_MIN','CHAT_DURATION_MIN','FULL_RESOLUTION_TIME']] = df[['CALL_LENGTH_MIN','CHAT_DURATION_MIN','FULL_RESOLUTION_TIME']].fillna(0)\n",
    "\n",
    "df = df[(df['CALL_LENGTH_MIN'] >= 0) & (df['CALL_LENGTH_MIN'] < 100000) ]\n",
    "\n",
    "# Remove ISSUE_TYPE_CATEGORY 'agent do not use' since this looks like an internal label for unusable data\n",
    "df = df[df['ISSUE_TYPE_CATEGORY'] != 'agent do not use'].reset_index(drop=True)\n",
    "\n",
    "# Create binary variable representing a high score\n",
    "df['high_score'] = np.where((df['SURVEY_SCORE'] == 4) | (df['SURVEY_SCORE'] == 5),1, 0)\n",
    "\n",
    "df.head()"
   ]
  },
  {
   "cell_type": "markdown",
   "metadata": {},
   "source": [
    "### Random Forest Classifier to reveal feature importance"
   ]
  },
  {
   "cell_type": "code",
   "execution_count": 3,
   "metadata": {},
   "outputs": [],
   "source": [
    "# Select target variable\n",
    "y = df['high_score']\n",
    "\n",
    "\n",
    "# One hot encode categorical variables\n",
    "X = pd.get_dummies(df,\n",
    "               columns=['SUPPORT_CHANNEL','user_type','COUNTRY','ISSUE_TYPE_CATEGORY']\n",
    "                   ).drop(\n",
    "    columns=['SURVEY_SCORE', 'high_score'])"
   ]
  },
  {
   "cell_type": "markdown",
   "metadata": {},
   "source": [
    "### `FULL_RESOLUTION_TIME`,  `CHAT_DURATION_MIN`, and `TICKET_REPLIES` are associated with high-scoring tickets\n",
    "<br>\n",
    "Select a random forest classifier since it makes no assumptions about the underlying distribution of the data. Also, since random forest is an ensemble method, we can leverage multiple decision trees to calculate feature importance."
   ]
  },
  {
   "cell_type": "code",
   "execution_count": 4,
   "metadata": {},
   "outputs": [
    {
     "data": {
      "image/png": "[encoded data removed]",
      "text/plain": [
       "<Figure size 432x288 with 1 Axes>"
      ]
     },
     "metadata": {
      "needs_background": "light"
     },
     "output_type": "display_data"
    }
   ],
   "source": [
    "# Select a random forest classifier\n",
    "forest=RandomForestClassifier()\n",
    "forest.fit(X, y)\n",
    "\n",
    "features = X.columns\n",
    "importances = forest.feature_importances_\n",
    "indices = np.argsort(importances)\n",
    "\n",
    "# customized number \n",
    "num_features = 3\n",
    "\n",
    "#plt.figure(figsize=(10,100))\n",
    "plt.title('Feature Importances for High Scoring Tickets:'\n",
    "         \"\\n\"\n",
    "         'Random Forest Model')\n",
    "\n",
    "# only plot the customized number of features\n",
    "plt.barh(range(num_features), importances[indices[-num_features:]], color='b', align='center')\n",
    "plt.yticks(range(num_features), [features[i] for i in indices[-num_features:]])\n",
    "plt.xlabel('Relative Importance')\n",
    "plt.show()"
   ]
  },
  {
   "cell_type": "code",
   "execution_count": 5,
   "metadata": {},
   "outputs": [
    {
     "data": {
      "text/html": [
       "<div>\n",
       "<style scoped>\n",
       "    .dataframe tbody tr th:only-of-type {\n",
       "        vertical-align: middle;\n",
       "    }\n",
       "\n",
       "    .dataframe tbody tr th {\n",
       "        vertical-align: top;\n",
       "    }\n",
       "\n",
       "    .dataframe thead th {\n",
       "        text-align: right;\n",
       "    }\n",
       "</style>\n",
       "<table border=\"1\" class=\"dataframe\">\n",
       "  <thead>\n",
       "    <tr style=\"text-align: right;\">\n",
       "      <th></th>\n",
       "      <th>coef</th>\n",
       "    </tr>\n",
       "  </thead>\n",
       "  <tbody>\n",
       "    <tr>\n",
       "      <th>TICKET_REPLIES</th>\n",
       "      <td>0.011</td>\n",
       "    </tr>\n",
       "    <tr>\n",
       "      <th>CHAT_DURATION_MIN</th>\n",
       "      <td>-0.001</td>\n",
       "    </tr>\n",
       "    <tr>\n",
       "      <th>FULL_RESOLUTION_TIME</th>\n",
       "      <td>-0.001</td>\n",
       "    </tr>\n",
       "  </tbody>\n",
       "</table>\n",
       "</div>"
      ],
      "text/plain": [
       "                       coef\n",
       "TICKET_REPLIES        0.011\n",
       "CHAT_DURATION_MIN    -0.001\n",
       "FULL_RESOLUTION_TIME -0.001"
      ]
     },
     "execution_count": 5,
     "metadata": {},
     "output_type": "execute_result"
    }
   ],
   "source": [
    "# Only use the top 3 input variables and print coefficients\n",
    "X1 = X[['FULL_RESOLUTION_TIME','CHAT_DURATION_MIN','TICKET_REPLIES']]\n",
    "\n",
    "# Fit linear model for coefficients\n",
    "linreg = LinearRegression()\n",
    "linreg.fit(X1, y)\n",
    "linreg.coef_\n",
    "\n",
    "pd.DataFrame(linreg.coef_, \n",
    "             X1.columns, \n",
    "             columns=['coef'])\\\n",
    "            .sort_values(by='coef', ascending=False).round(3)"
   ]
  },
  {
   "cell_type": "markdown",
   "metadata": {},
   "source": [
    "### Email support channel has an average resolution time of 3x other channels"
   ]
  },
  {
   "cell_type": "code",
   "execution_count": 6,
   "metadata": {},
   "outputs": [
    {
     "data": {
      "text/plain": [
       "Text(0.5, 1.0, 'Average Resolution Time per Support Channel')"
      ]
     },
     "execution_count": 6,
     "metadata": {},
     "output_type": "execute_result"
    },
    {
     "data": {
      "image/png": "[encoded data removed]",
      "text/plain": [
       "<Figure size 432x288 with 1 Axes>"
      ]
     },
     "metadata": {
      "needs_background": "light"
     },
     "output_type": "display_data"
    }
   ],
   "source": [
    "df.groupby('SUPPORT_CHANNEL')['FULL_RESOLUTION_TIME'].mean().plot(kind = \"bar\")\n",
    "plt.ylabel('Minutes')\n",
    "plt.title('Average Resolution Time per Support Channel')"
   ]
  },
  {
   "cell_type": "markdown",
   "metadata": {},
   "source": [
    "## 2. Business Recommendations\n",
    "\n",
    "Based on the above analysis, I recommend focusing on three aspects of the customer support journey:\n",
    "\n",
    "1. **Email support interactions**: The average email support resolution time was over 3 times greater than chat or phone, leading to lower customer satisfication on surveys. This could imply a resource shortage for this support channel.\n",
    "\n",
    "2. **Chat support satisfaction**: Longer support chats are associated with decreased customer satisfaction. Although chat and phone resolution time are roughly equal, I recommend looking into surveys on chat support. We could use NLP methods such as topic modeling to reveal common themes in this customer journey.\n",
    "\n",
    "3. **Ticket replies**: Ticket replies was the only positively associated value with higher satisfaction. It would be interesting to examine the length between ticket replies, and whether this also increases satisfaction."
   ]
  },
  {
   "cell_type": "markdown",
   "metadata": {},
   "source": [
    "## 3. Predictive Modeling\n",
    "\n",
    "**Feature Selection**: Using the Random Forest Classifier above, I use the top 3 variables (`FULL_RESOLUTION_TIME`,`CHAT_DURATION_MIN`,`TICKET_REPLIES`) as input for the below models to predict high survey scores. Focusing on predictive power, I fit a series of models and evaluate their performances using 10- fold cross validation.\n",
    "<br>\n",
    "\n",
    "**Model Selection**: After evaluating LogisticRegression, LinearDiscriminantAnalysis, KNeighborsClassifier, DecisionTreeClassifier, GaussianNB, SVC, and Keras Neural Network classifiers, I choose the SVC due to its raw accuracy score. After using GridSearch to find optimal hyperparameters, it did not significantly out-perform the default hyperparameters.\n",
    "<br>\n",
    "\n",
    "**Model Performance**: Using 10-fold cross validation, I assess model performance with the mean of these reuslts. I use a classification result (compiled from a confusion matrix) to check the specific SVC classifier performance. Precision reveals that the SVC model identified positive predictions 89% of the time. Recall reveals the model correctly identified all positive instances of high survey scores."
   ]
  },
  {
   "cell_type": "code",
   "execution_count": 7,
   "metadata": {},
   "outputs": [
    {
     "data": {
      "text/plain": [
       "<AxesSubplot:>"
      ]
     },
     "execution_count": 7,
     "metadata": {},
     "output_type": "execute_result"
    },
    {
     "data": {
      "image/png": "[encoded data removed]",
      "text/plain": [
       "<Figure size 432x288 with 1 Axes>"
      ]
     },
     "metadata": {
      "needs_background": "light"
     },
     "output_type": "display_data"
    }
   ],
   "source": [
    "X.FULL_RESOLUTION_TIME.hist()"
   ]
  },
  {
   "cell_type": "code",
   "execution_count": 8,
   "metadata": {},
   "outputs": [
    {
     "data": {
      "text/plain": [
       "<AxesSubplot:>"
      ]
     },
     "execution_count": 8,
     "metadata": {},
     "output_type": "execute_result"
    },
    {
     "data": {
      "image/png": "[encoded data removed]",
      "text/plain": [
       "<Figure size 432x288 with 1 Axes>"
      ]
     },
     "metadata": {
      "needs_background": "light"
     },
     "output_type": "display_data"
    }
   ],
   "source": [
    "X.CHAT_DURATION_MIN.hist()"
   ]
  },
  {
   "cell_type": "code",
   "execution_count": 9,
   "metadata": {},
   "outputs": [
    {
     "data": {
      "text/plain": [
       "<AxesSubplot:>"
      ]
     },
     "execution_count": 9,
     "metadata": {},
     "output_type": "execute_result"
    },
    {
     "data": {
      "image/png": "[encoded data removed]",
      "text/plain": [
       "<Figure size 432x288 with 1 Axes>"
      ]
     },
     "metadata": {
      "needs_background": "light"
     },
     "output_type": "display_data"
    }
   ],
   "source": [
    "X.TICKET_REPLIES.hist()"
   ]
  },
  {
   "cell_type": "code",
   "execution_count": 10,
   "metadata": {},
   "outputs": [],
   "source": [
    "# Normalize features since they do not have Gaussian distribution\n",
    "X_subset = X[['FULL_RESOLUTION_TIME','CHAT_DURATION_MIN', 'TICKET_REPLIES']]\n",
    "# create scaler\n",
    "scaler = MinMaxScaler()\n",
    "# fit and transform in one step\n",
    "normalized_X = scaler.fit_transform(X_subset)"
   ]
  },
  {
   "cell_type": "code",
   "execution_count": 11,
   "metadata": {},
   "outputs": [],
   "source": [
    "# splitting training vs. testing data\n",
    "X_train, X_test, y_train, y_test = train_test_split(\n",
    "                        normalized_X, y,\n",
    "                test_size = 0.30, random_state = 101)"
   ]
  },
  {
   "cell_type": "markdown",
   "metadata": {},
   "source": [
    "### Fitting 6 popular classifiers and plotting model performance"
   ]
  },
  {
   "cell_type": "code",
   "execution_count": 12,
   "metadata": {},
   "outputs": [
    {
     "name": "stdout",
     "output_type": "stream",
     "text": [
      "LR: 0.885387 (0.009730)\n",
      "LDA: 0.881328 (0.010056)\n",
      "KNN: 0.873637 (0.013033)\n",
      "CART: 0.815850 (0.014080)\n",
      "NB: 0.858257 (0.009186)\n",
      "SVM: 0.886669 (0.010968)\n"
     ]
    },
    {
     "data": {
      "image/png": "[encoded data removed]",
      "text/plain": [
       "<Figure size 432x288 with 1 Axes>"
      ]
     },
     "metadata": {
      "needs_background": "light"
     },
     "output_type": "display_data"
    }
   ],
   "source": [
    "# initialize classifiers\n",
    "models = []\n",
    "models.append(('LR', LogisticRegression()))\n",
    "models.append(('LDA', LinearDiscriminantAnalysis()))\n",
    "models.append(('KNN', KNeighborsClassifier()))\n",
    "models.append(('CART', DecisionTreeClassifier()))\n",
    "models.append(('NB', GaussianNB()))\n",
    "models.append(('SVM', SVC()))\n",
    "\n",
    "# evaluate each model\n",
    "results = []\n",
    "names = []\n",
    "scoring = 'accuracy'\n",
    "for name, model in models:\n",
    "    kfold = model_selection.KFold(n_splits=10, random_state=7, shuffle=True)\n",
    "    cv_results = model_selection.cross_val_score(model, X_train, y_train, cv=kfold, scoring=scoring)\n",
    "    results.append(cv_results)\n",
    "    names.append(name)\n",
    "    msg = \"%s: %f (%f)\" % (name, cv_results.mean(), cv_results.std())\n",
    "    print(msg)\n",
    "\n",
    "# plot classifier comparison\n",
    "fig = plt.figure()\n",
    "fig.suptitle('Classifier Comparison')\n",
    "ax = fig.add_subplot(111)\n",
    "plt.boxplot(results)\n",
    "ax.set_xticklabels(names)\n",
    "plt.ylabel('Mean Model Accuracy')\n",
    "plt.show()"
   ]
  },
  {
   "cell_type": "markdown",
   "metadata": {},
   "source": [
    "### Fitting a neural network to compare against previous classifiers"
   ]
  },
  {
   "cell_type": "code",
   "execution_count": 13,
   "metadata": {},
   "outputs": [
    {
     "name": "stdout",
     "output_type": "stream",
     "text": [
      "Epoch 1/15\n",
      "937/937 - 2s - loss: 0.3903 - accuracy: 0.8851 - 2s/epoch - 2ms/step\n",
      "Epoch 2/15\n",
      "937/937 - 1s - loss: 0.3464 - accuracy: 0.8859 - 1s/epoch - 1ms/step\n",
      "Epoch 3/15\n",
      "937/937 - 1s - loss: 0.3425 - accuracy: 0.8857 - 1s/epoch - 1ms/step\n",
      "Epoch 4/15\n",
      "937/937 - 1s - loss: 0.3404 - accuracy: 0.8855 - 1s/epoch - 1ms/step\n",
      "Epoch 5/15\n",
      "937/937 - 1s - loss: 0.3396 - accuracy: 0.8852 - 1s/epoch - 1ms/step\n",
      "Epoch 6/15\n",
      "937/937 - 1s - loss: 0.3390 - accuracy: 0.8856 - 1s/epoch - 1ms/step\n",
      "Epoch 7/15\n",
      "937/937 - 1s - loss: 0.3386 - accuracy: 0.8853 - 1s/epoch - 1ms/step\n",
      "Epoch 8/15\n",
      "937/937 - 1s - loss: 0.3377 - accuracy: 0.8854 - 1s/epoch - 1ms/step\n",
      "Epoch 9/15\n",
      "937/937 - 1s - loss: 0.3372 - accuracy: 0.8855 - 1s/epoch - 1ms/step\n",
      "Epoch 10/15\n",
      "937/937 - 1s - loss: 0.3368 - accuracy: 0.8859 - 1s/epoch - 1ms/step\n",
      "Epoch 11/15\n",
      "937/937 - 1s - loss: 0.3364 - accuracy: 0.8857 - 1s/epoch - 1ms/step\n",
      "Epoch 12/15\n",
      "937/937 - 1s - loss: 0.3360 - accuracy: 0.8859 - 1s/epoch - 1ms/step\n",
      "Epoch 13/15\n",
      "937/937 - 1s - loss: 0.3352 - accuracy: 0.8859 - 1s/epoch - 2ms/step\n",
      "Epoch 14/15\n",
      "937/937 - 1s - loss: 0.3352 - accuracy: 0.8861 - 1s/epoch - 1ms/step\n",
      "Epoch 15/15\n",
      "937/937 - 1s - loss: 0.3341 - accuracy: 0.8861 - 1s/epoch - 1ms/step\n"
     ]
    },
    {
     "data": {
      "text/plain": [
       "<keras.callbacks.History at 0x7f93abb0c588>"
      ]
     },
     "execution_count": 13,
     "metadata": {},
     "output_type": "execute_result"
    }
   ],
   "source": [
    "model = Sequential()\n",
    "# 3 input variables for input_dim\n",
    "model.add(Dense(12, input_dim=3, activation='relu'))\n",
    "model.add(Dense(8, activation='relu'))\n",
    "model.add(Dense(1, activation='sigmoid'))\n",
    "\n",
    "# Loss function is binary_crossentropy for binary classification\n",
    "model.compile(loss='binary_crossentropy', optimizer='adam', metrics=['accuracy'])\n",
    "\n",
    "model.fit(X_train, y_train, epochs=15, batch_size=10, verbose=2)\n"
   ]
  },
  {
   "cell_type": "markdown",
   "metadata": {},
   "source": [
    "### Choosing final model and assessing performance"
   ]
  },
  {
   "cell_type": "code",
   "execution_count": 14,
   "metadata": {},
   "outputs": [
    {
     "name": "stdout",
     "output_type": "stream",
     "text": [
      "              precision    recall  f1-score   support\n",
      "\n",
      "           0       0.40      0.01      0.02       434\n",
      "           1       0.89      1.00      0.94      3579\n",
      "\n",
      "    accuracy                           0.89      4013\n",
      "   macro avg       0.65      0.50      0.48      4013\n",
      "weighted avg       0.84      0.89      0.84      4013\n",
      "\n"
     ]
    }
   ],
   "source": [
    "\n",
    "model = SVC()\n",
    "model.fit(X_train, y_train)\n",
    " \n",
    "# print prediction results\n",
    "predictions = model.predict(X_test)\n",
    "print(classification_report(y_test, predictions))\n"
   ]
  },
  {
   "cell_type": "markdown",
   "metadata": {},
   "source": [
    "## 4. Data Cleaning for questions 1-3\n",
    "<br>\n",
    "Data cleaning included:\n",
    "**Question 1:**\n",
    "\n",
    "- Dropping columns (`ticket_id`, `CREATED_DAY`,`CLOSED_DAY`,`CREATED_TIME`) since these did not reveal much about the underlying data trends.\n",
    "- Assessing missing data per variable. As seen in the visualization below, `SURVEY_SCORE`, `CALL_LENGTH_MIN`, and `CHAT_DURATION_MIN` had relatively high missing values. I dropped the missing `SURVEY_SCORE`, since that was the target variable, and filled the missing `CALL_LENGTH_MIN` and `CHAT_DURATION_MIN` with 0's since dropping these values entirely would remove all other support channels. \n",
    "- Dropped `CALL_LENGTH_MIN` rows with negative numbers or $100,000$ min as this looked like an error.\n",
    "- Dropped `ISSUE_TYPE_CATEGORY` with value 'agent do not use' as this looked like an internal label for unusable data.\n",
    "\n",
    "**Question 2:**\n",
    "- Normalizing input variables `FULL_RESOLUTION_TIME`,`CHAT_DURATION_MIN`, `TICKET_REPLIES` since they did not have a Gaussian distribution. Failure to normalize these input variables would have affected the accuracy of our classifiers."
   ]
  },
  {
   "cell_type": "code",
   "execution_count": 15,
   "metadata": {},
   "outputs": [
    {
     "data": {
      "text/plain": [
       "<seaborn.axisgrid.FacetGrid at 0x7f93ac8c77f0>"
      ]
     },
     "execution_count": 15,
     "metadata": {},
     "output_type": "execute_result"
    },
    {
     "data": {
      "text/plain": [
       "<Figure size 720x432 with 0 Axes>"
      ]
     },
     "metadata": {},
     "output_type": "display_data"
    },
    {
     "data": {
      "image/png": "[encoded data removed]",
      "text/plain": [
       "<Figure size 511.25x360 with 1 Axes>"
      ]
     },
     "metadata": {
      "needs_background": "light"
     },
     "output_type": "display_data"
    }
   ],
   "source": [
    "df_original = pd.read_csv('/Users/allenchurch/Downloads/ca_takehome_assessment.csv')\n",
    "\n",
    "# Visualize missing values across variables\n",
    "plt.figure(figsize=(10,6))\n",
    "sns.displot(\n",
    "    data=df_original.isna().melt(value_name=\"missing\"),\n",
    "    y=\"variable\",\n",
    "    hue=\"missing\",\n",
    "    multiple=\"fill\",\n",
    "    aspect=1.25\n",
    ").set(\n",
    "    xlabel='Proportion', ylabel='Variable', title='Missng Data per Variable'\n",
    ")"
   ]
  },
  {
   "cell_type": "markdown",
   "metadata": {},
   "source": [
    "## 5. Ideas for Follow Up:\n",
    "\n",
    "The following data points and metrics would be interesting to try given more time and data, focusing on customer-specific vs. support specific aspects. How do the following variables interact with quality of customer support:\n",
    "\n",
    "\n",
    "**Customer Specific**\n",
    "- Length of time as customer\n",
    "- Returning customer\n",
    "- Active customer, if not, date of attrition    \n",
    "- Customer Health Metric: how often do they use Dropbox?\n",
    "- Qualitative/survey feedback: NLP sentinment analysis and topic modeling\n",
    "\n",
    "**Support Specific**\n",
    "- First contact resolution rate: % of tickets resolved after first contact\n",
    "- Time spent waiting for support\n",
    "- Number of unique interactions with customer support\n",
    "- Is this a re-opened support ticket?\n",
    "- Size of customer organization (if applicable)\n",
    "- Call center agent ID and location ID for micro and macro level support trends"
   ]
  }
 ],
 "metadata": {
  "kernelspec": {
   "display_name": "Python 3",
   "language": "python",
   "name": "python3"
  },
  "language_info": {
   "codemirror_mode": {
    "name": "ipython",
    "version": 3
   },
   "file_extension": ".py",
   "mimetype": "text/x-python",
   "name": "python",
   "nbconvert_exporter": "python",
   "pygments_lexer": "ipython3",
   "version": "3.7.1"
  }
 },
 "nbformat": 4,
 "nbformat_minor": 2
}
