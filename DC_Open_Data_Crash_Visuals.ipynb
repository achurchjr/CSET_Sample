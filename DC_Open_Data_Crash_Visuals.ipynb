{
 "cells": [
  {
   "cell_type": "markdown",
   "metadata": {},
   "source": [
    "# Visualizing DC Bicycle Crashes: 2012-2019\n",
    "Source from [Open Data DC](https://opendata.dc.gov/datasets/crashes-in-dc) - contains hundreds of up to date and local datasets! Maintained by the DC Government."
   ]
  },
  {
   "cell_type": "markdown",
   "metadata": {},
   "source": [
    "Importing necessary packages"
   ]
  },
  {
   "cell_type": "code",
   "execution_count": 1,
   "metadata": {},
   "outputs": [],
   "source": [
    "import pandas as pd\n",
    "import numpy as np\n",
    "import datetime\n",
    "import seaborn as sns\n",
    "import matplotlib.pyplot as plt"
   ]
  },
  {
   "cell_type": "markdown",
   "metadata": {},
   "source": [
    "Importing the CSV as a Pandas dataframe."
   ]
  },
  {
   "cell_type": "code",
   "execution_count": 2,
   "metadata": {},
   "outputs": [
    {
     "name": "stderr",
     "output_type": "stream",
     "text": [
      "/Library/Frameworks/Python.framework/Versions/3.7/lib/python3.7/site-packages/IPython/core/interactiveshell.py:3058: DtypeWarning: Columns (4,54,55) have mixed types. Specify dtype option on import or set low_memory=False.\n",
      "  interactivity=interactivity, compiler=compiler, result=result)\n"
     ]
    },
    {
     "data": {
      "text/html": [
       "<div>\n",
       "<style scoped>\n",
       "    .dataframe tbody tr th:only-of-type {\n",
       "        vertical-align: middle;\n",
       "    }\n",
       "\n",
       "    .dataframe tbody tr th {\n",
       "        vertical-align: top;\n",
       "    }\n",
       "\n",
       "    .dataframe thead th {\n",
       "        text-align: right;\n",
       "    }\n",
       "</style>\n",
       "<table border=\"1\" class=\"dataframe\">\n",
       "  <thead>\n",
       "    <tr style=\"text-align: right;\">\n",
       "      <th></th>\n",
       "      <th>X</th>\n",
       "      <th>Y</th>\n",
       "      <th>OBJECTID</th>\n",
       "      <th>CRIMEID</th>\n",
       "      <th>CCN</th>\n",
       "      <th>REPORTDATE</th>\n",
       "      <th>ROUTEID</th>\n",
       "      <th>MEASURE</th>\n",
       "      <th>OFFSET</th>\n",
       "      <th>STREETSEGID</th>\n",
       "      <th>...</th>\n",
       "      <th>OFFINTERSECTION</th>\n",
       "      <th>INTAPPROACHDIRECTION</th>\n",
       "      <th>LOCATIONERROR</th>\n",
       "      <th>LASTUPDATEDATE</th>\n",
       "      <th>MPDLATITUDE</th>\n",
       "      <th>MPDLONGITUDE</th>\n",
       "      <th>MPDGEOX</th>\n",
       "      <th>MPDGEOY</th>\n",
       "      <th>BLOCKKEY</th>\n",
       "      <th>SUBBLOCKKEY</th>\n",
       "    </tr>\n",
       "  </thead>\n",
       "  <tbody>\n",
       "    <tr>\n",
       "      <th>0</th>\n",
       "      <td>-76.961871</td>\n",
       "      <td>38.851937</td>\n",
       "      <td>113416996</td>\n",
       "      <td>27109720</td>\n",
       "      <td>16184327</td>\n",
       "      <td>2016-10-29T18:22:43.000Z</td>\n",
       "      <td>13063502</td>\n",
       "      <td>2896.514</td>\n",
       "      <td>0.0000</td>\n",
       "      <td>6415.0</td>\n",
       "      <td>...</td>\n",
       "      <td>10.779332</td>\n",
       "      <td>East</td>\n",
       "      <td>NaN</td>\n",
       "      <td>NaN</td>\n",
       "      <td>38.851868</td>\n",
       "      <td>-76.961865</td>\n",
       "      <td>NaN</td>\n",
       "      <td>NaN</td>\n",
       "      <td>NaN</td>\n",
       "      <td>NaN</td>\n",
       "    </tr>\n",
       "    <tr>\n",
       "      <th>1</th>\n",
       "      <td>-76.983181</td>\n",
       "      <td>38.853100</td>\n",
       "      <td>113416997</td>\n",
       "      <td>25052900</td>\n",
       "      <td>14101663</td>\n",
       "      <td>2014-07-10T05:00:00.000Z</td>\n",
       "      <td>13082352</td>\n",
       "      <td>25.242</td>\n",
       "      <td>0.0000</td>\n",
       "      <td>5493.0</td>\n",
       "      <td>...</td>\n",
       "      <td>26.065704</td>\n",
       "      <td>South</td>\n",
       "      <td>NaN</td>\n",
       "      <td>NaN</td>\n",
       "      <td>NaN</td>\n",
       "      <td>NaN</td>\n",
       "      <td>NaN</td>\n",
       "      <td>NaN</td>\n",
       "      <td>NaN</td>\n",
       "      <td>NaN</td>\n",
       "    </tr>\n",
       "    <tr>\n",
       "      <th>2</th>\n",
       "      <td>-77.032413</td>\n",
       "      <td>38.901990</td>\n",
       "      <td>113416998</td>\n",
       "      <td>25012574</td>\n",
       "      <td>13172581</td>\n",
       "      <td>2013-12-02T05:00:00.000Z</td>\n",
       "      <td>47072652</td>\n",
       "      <td>2.134</td>\n",
       "      <td>0.0000</td>\n",
       "      <td>-9.0</td>\n",
       "      <td>...</td>\n",
       "      <td>-999.000000</td>\n",
       "      <td>NaN</td>\n",
       "      <td>NaN</td>\n",
       "      <td>NaN</td>\n",
       "      <td>38.902167</td>\n",
       "      <td>-77.032409</td>\n",
       "      <td>NaN</td>\n",
       "      <td>NaN</td>\n",
       "      <td>NaN</td>\n",
       "      <td>NaN</td>\n",
       "    </tr>\n",
       "    <tr>\n",
       "      <th>3</th>\n",
       "      <td>-76.990864</td>\n",
       "      <td>38.920732</td>\n",
       "      <td>113416999</td>\n",
       "      <td>27109729</td>\n",
       "      <td>16184337</td>\n",
       "      <td>2016-10-29T18:41:24.000Z</td>\n",
       "      <td>12017612</td>\n",
       "      <td>670.255</td>\n",
       "      <td>78.0288</td>\n",
       "      <td>12819.0</td>\n",
       "      <td>...</td>\n",
       "      <td>145.147178</td>\n",
       "      <td>Southwest</td>\n",
       "      <td>NaN</td>\n",
       "      <td>NaN</td>\n",
       "      <td>38.920725</td>\n",
       "      <td>-76.990862</td>\n",
       "      <td>400796.12</td>\n",
       "      <td>139221.00</td>\n",
       "      <td>NaN</td>\n",
       "      <td>NaN</td>\n",
       "    </tr>\n",
       "    <tr>\n",
       "      <th>4</th>\n",
       "      <td>-77.032926</td>\n",
       "      <td>38.946477</td>\n",
       "      <td>113417000</td>\n",
       "      <td>27109732</td>\n",
       "      <td>16184334</td>\n",
       "      <td>2016-10-29T18:55:28.000Z</td>\n",
       "      <td>47039402</td>\n",
       "      <td>17.069</td>\n",
       "      <td>0.0000</td>\n",
       "      <td>-9.0</td>\n",
       "      <td>...</td>\n",
       "      <td>20.613891</td>\n",
       "      <td>West</td>\n",
       "      <td>NaN</td>\n",
       "      <td>NaN</td>\n",
       "      <td>38.946572</td>\n",
       "      <td>-77.032923</td>\n",
       "      <td>397140.53</td>\n",
       "      <td>142092.98</td>\n",
       "      <td>NaN</td>\n",
       "      <td>NaN</td>\n",
       "    </tr>\n",
       "  </tbody>\n",
       "</table>\n",
       "<p>5 rows × 56 columns</p>\n",
       "</div>"
      ],
      "text/plain": [
       "           X          Y   OBJECTID   CRIMEID       CCN  \\\n",
       "0 -76.961871  38.851937  113416996  27109720  16184327   \n",
       "1 -76.983181  38.853100  113416997  25052900  14101663   \n",
       "2 -77.032413  38.901990  113416998  25012574  13172581   \n",
       "3 -76.990864  38.920732  113416999  27109729  16184337   \n",
       "4 -77.032926  38.946477  113417000  27109732  16184334   \n",
       "\n",
       "                 REPORTDATE   ROUTEID   MEASURE   OFFSET  STREETSEGID  \\\n",
       "0  2016-10-29T18:22:43.000Z  13063502  2896.514   0.0000       6415.0   \n",
       "1  2014-07-10T05:00:00.000Z  13082352    25.242   0.0000       5493.0   \n",
       "2  2013-12-02T05:00:00.000Z  47072652     2.134   0.0000         -9.0   \n",
       "3  2016-10-29T18:41:24.000Z  12017612   670.255  78.0288      12819.0   \n",
       "4  2016-10-29T18:55:28.000Z  47039402    17.069   0.0000         -9.0   \n",
       "\n",
       "      ...      OFFINTERSECTION INTAPPROACHDIRECTION  LOCATIONERROR  \\\n",
       "0     ...            10.779332                 East            NaN   \n",
       "1     ...            26.065704                South            NaN   \n",
       "2     ...          -999.000000                  NaN            NaN   \n",
       "3     ...           145.147178            Southwest            NaN   \n",
       "4     ...            20.613891                 West            NaN   \n",
       "\n",
       "   LASTUPDATEDATE MPDLATITUDE  MPDLONGITUDE    MPDGEOX    MPDGEOY  BLOCKKEY  \\\n",
       "0             NaN   38.851868    -76.961865        NaN        NaN       NaN   \n",
       "1             NaN         NaN           NaN        NaN        NaN       NaN   \n",
       "2             NaN   38.902167    -77.032409        NaN        NaN       NaN   \n",
       "3             NaN   38.920725    -76.990862  400796.12  139221.00       NaN   \n",
       "4             NaN   38.946572    -77.032923  397140.53  142092.98       NaN   \n",
       "\n",
       "  SUBBLOCKKEY  \n",
       "0         NaN  \n",
       "1         NaN  \n",
       "2         NaN  \n",
       "3         NaN  \n",
       "4         NaN  \n",
       "\n",
       "[5 rows x 56 columns]"
      ]
     },
     "execution_count": 2,
     "metadata": {},
     "output_type": "execute_result"
    }
   ],
   "source": [
    "crashes_df = pd.read_csv(\"Crashes_in_DC.csv\")\n",
    "crashes_df.head()"
   ]
  },
  {
   "cell_type": "markdown",
   "metadata": {},
   "source": [
    "Subset the crashes_df by columns of interest - Report Date, Address, Ward, and Major Injuries to Bicyclist. In this case, Major Injuries to Bicyclist is a dummy variable with 1 indicating there was an injury."
   ]
  },
  {
   "cell_type": "code",
   "execution_count": 3,
   "metadata": {},
   "outputs": [
    {
     "data": {
      "text/html": [
       "<div>\n",
       "<style scoped>\n",
       "    .dataframe tbody tr th:only-of-type {\n",
       "        vertical-align: middle;\n",
       "    }\n",
       "\n",
       "    .dataframe tbody tr th {\n",
       "        vertical-align: top;\n",
       "    }\n",
       "\n",
       "    .dataframe thead th {\n",
       "        text-align: right;\n",
       "    }\n",
       "</style>\n",
       "<table border=\"1\" class=\"dataframe\">\n",
       "  <thead>\n",
       "    <tr style=\"text-align: right;\">\n",
       "      <th></th>\n",
       "      <th>REPORTDATE</th>\n",
       "      <th>ADDRESS</th>\n",
       "      <th>WARD</th>\n",
       "      <th>MAJORINJURIES_BICYCLIST</th>\n",
       "    </tr>\n",
       "  </thead>\n",
       "  <tbody>\n",
       "    <tr>\n",
       "      <th>0</th>\n",
       "      <td>2016-10-29T18:22:43.000Z</td>\n",
       "      <td>2600 SOUTHERN AVE SE</td>\n",
       "      <td>Ward 7</td>\n",
       "      <td>0</td>\n",
       "    </tr>\n",
       "    <tr>\n",
       "      <th>1</th>\n",
       "      <td>2014-07-10T05:00:00.000Z</td>\n",
       "      <td>STANTON RD SE and  SUITLAND PKWY SE</td>\n",
       "      <td>Ward 8</td>\n",
       "      <td>0</td>\n",
       "    </tr>\n",
       "    <tr>\n",
       "      <th>2</th>\n",
       "      <td>2013-12-02T05:00:00.000Z</td>\n",
       "      <td>1400 K STREET NW</td>\n",
       "      <td>Ward 2</td>\n",
       "      <td>0</td>\n",
       "    </tr>\n",
       "    <tr>\n",
       "      <th>3</th>\n",
       "      <td>2016-10-29T18:41:24.000Z</td>\n",
       "      <td>901 RHODE ISLAND AVENUE NE</td>\n",
       "      <td>Ward 5</td>\n",
       "      <td>0</td>\n",
       "    </tr>\n",
       "    <tr>\n",
       "      <th>4</th>\n",
       "      <td>2016-10-29T18:55:28.000Z</td>\n",
       "      <td>4618 14TH STREET NW</td>\n",
       "      <td>Ward 4</td>\n",
       "      <td>0</td>\n",
       "    </tr>\n",
       "  </tbody>\n",
       "</table>\n",
       "</div>"
      ],
      "text/plain": [
       "                 REPORTDATE                              ADDRESS    WARD  \\\n",
       "0  2016-10-29T18:22:43.000Z                 2600 SOUTHERN AVE SE  Ward 7   \n",
       "1  2014-07-10T05:00:00.000Z  STANTON RD SE and  SUITLAND PKWY SE  Ward 8   \n",
       "2  2013-12-02T05:00:00.000Z                     1400 K STREET NW  Ward 2   \n",
       "3  2016-10-29T18:41:24.000Z           901 RHODE ISLAND AVENUE NE  Ward 5   \n",
       "4  2016-10-29T18:55:28.000Z                  4618 14TH STREET NW  Ward 4   \n",
       "\n",
       "   MAJORINJURIES_BICYCLIST  \n",
       "0                        0  \n",
       "1                        0  \n",
       "2                        0  \n",
       "3                        0  \n",
       "4                        0  "
      ]
     },
     "execution_count": 3,
     "metadata": {},
     "output_type": "execute_result"
    }
   ],
   "source": [
    "df = crashes_df[[\"REPORTDATE\", \"ADDRESS\", \"WARD\", \"MAJORINJURIES_BICYCLIST\"]]\n",
    "df.dropna()\n",
    "df.head()"
   ]
  },
  {
   "cell_type": "markdown",
   "metadata": {},
   "source": [
    "Convert REPORTDATE column to datetime and create a separate year column. Note: the conversion to year will have difficulty if there are NaN values in the dataframe. Because of this, I dropna."
   ]
  },
  {
   "cell_type": "code",
   "execution_count": 4,
   "metadata": {},
   "outputs": [
    {
     "name": "stderr",
     "output_type": "stream",
     "text": [
      "/Library/Frameworks/Python.framework/Versions/3.7/lib/python3.7/site-packages/ipykernel_launcher.py:1: SettingWithCopyWarning: \n",
      "A value is trying to be set on a copy of a slice from a DataFrame.\n",
      "Try using .loc[row_indexer,col_indexer] = value instead\n",
      "\n",
      "See the caveats in the documentation: http://pandas.pydata.org/pandas-docs/stable/indexing.html#indexing-view-versus-copy\n",
      "  \"\"\"Entry point for launching an IPython kernel.\n",
      "/Library/Frameworks/Python.framework/Versions/3.7/lib/python3.7/site-packages/ipykernel_launcher.py:2: SettingWithCopyWarning: \n",
      "A value is trying to be set on a copy of a slice from a DataFrame\n",
      "\n",
      "See the caveats in the documentation: http://pandas.pydata.org/pandas-docs/stable/indexing.html#indexing-view-versus-copy\n",
      "  \n",
      "/Library/Frameworks/Python.framework/Versions/3.7/lib/python3.7/site-packages/ipykernel_launcher.py:3: SettingWithCopyWarning: \n",
      "A value is trying to be set on a copy of a slice from a DataFrame.\n",
      "Try using .loc[row_indexer,col_indexer] = value instead\n",
      "\n",
      "See the caveats in the documentation: http://pandas.pydata.org/pandas-docs/stable/indexing.html#indexing-view-versus-copy\n",
      "  This is separate from the ipykernel package so we can avoid doing imports until\n"
     ]
    },
    {
     "data": {
      "text/html": [
       "<div>\n",
       "<style scoped>\n",
       "    .dataframe tbody tr th:only-of-type {\n",
       "        vertical-align: middle;\n",
       "    }\n",
       "\n",
       "    .dataframe tbody tr th {\n",
       "        vertical-align: top;\n",
       "    }\n",
       "\n",
       "    .dataframe thead th {\n",
       "        text-align: right;\n",
       "    }\n",
       "</style>\n",
       "<table border=\"1\" class=\"dataframe\">\n",
       "  <thead>\n",
       "    <tr style=\"text-align: right;\">\n",
       "      <th></th>\n",
       "      <th>REPORTDATE</th>\n",
       "      <th>ADDRESS</th>\n",
       "      <th>WARD</th>\n",
       "      <th>MAJORINJURIES_BICYCLIST</th>\n",
       "      <th>year</th>\n",
       "    </tr>\n",
       "  </thead>\n",
       "  <tbody>\n",
       "    <tr>\n",
       "      <th>0</th>\n",
       "      <td>2016-10-29 18:22:43</td>\n",
       "      <td>2600 SOUTHERN AVE SE</td>\n",
       "      <td>Ward 7</td>\n",
       "      <td>0</td>\n",
       "      <td>2016</td>\n",
       "    </tr>\n",
       "    <tr>\n",
       "      <th>1</th>\n",
       "      <td>2014-07-10 05:00:00</td>\n",
       "      <td>STANTON RD SE and  SUITLAND PKWY SE</td>\n",
       "      <td>Ward 8</td>\n",
       "      <td>0</td>\n",
       "      <td>2014</td>\n",
       "    </tr>\n",
       "    <tr>\n",
       "      <th>2</th>\n",
       "      <td>2013-12-02 05:00:00</td>\n",
       "      <td>1400 K STREET NW</td>\n",
       "      <td>Ward 2</td>\n",
       "      <td>0</td>\n",
       "      <td>2013</td>\n",
       "    </tr>\n",
       "    <tr>\n",
       "      <th>3</th>\n",
       "      <td>2016-10-29 18:41:24</td>\n",
       "      <td>901 RHODE ISLAND AVENUE NE</td>\n",
       "      <td>Ward 5</td>\n",
       "      <td>0</td>\n",
       "      <td>2016</td>\n",
       "    </tr>\n",
       "    <tr>\n",
       "      <th>4</th>\n",
       "      <td>2016-10-29 18:55:28</td>\n",
       "      <td>4618 14TH STREET NW</td>\n",
       "      <td>Ward 4</td>\n",
       "      <td>0</td>\n",
       "      <td>2016</td>\n",
       "    </tr>\n",
       "  </tbody>\n",
       "</table>\n",
       "</div>"
      ],
      "text/plain": [
       "           REPORTDATE                              ADDRESS    WARD  \\\n",
       "0 2016-10-29 18:22:43                 2600 SOUTHERN AVE SE  Ward 7   \n",
       "1 2014-07-10 05:00:00  STANTON RD SE and  SUITLAND PKWY SE  Ward 8   \n",
       "2 2013-12-02 05:00:00                     1400 K STREET NW  Ward 2   \n",
       "3 2016-10-29 18:41:24           901 RHODE ISLAND AVENUE NE  Ward 5   \n",
       "4 2016-10-29 18:55:28                  4618 14TH STREET NW  Ward 4   \n",
       "\n",
       "   MAJORINJURIES_BICYCLIST  year  \n",
       "0                        0  2016  \n",
       "1                        0  2014  \n",
       "2                        0  2013  \n",
       "3                        0  2016  \n",
       "4                        0  2016  "
      ]
     },
     "execution_count": 4,
     "metadata": {},
     "output_type": "execute_result"
    }
   ],
   "source": [
    "df['REPORTDATE'] = pd.to_datetime(df['REPORTDATE'])\n",
    "df.dropna(inplace=True)\n",
    "df['year'] = df['REPORTDATE'].dt.year\n",
    "df.head()"
   ]
  },
  {
   "cell_type": "markdown",
   "metadata": {},
   "source": [
    "Below, I specify that I only want to return values where Major Injuries to Bicyclist equal 1, indicating a serious injury."
   ]
  },
  {
   "cell_type": "code",
   "execution_count": 5,
   "metadata": {},
   "outputs": [
    {
     "data": {
      "text/html": [
       "<div>\n",
       "<style scoped>\n",
       "    .dataframe tbody tr th:only-of-type {\n",
       "        vertical-align: middle;\n",
       "    }\n",
       "\n",
       "    .dataframe tbody tr th {\n",
       "        vertical-align: top;\n",
       "    }\n",
       "\n",
       "    .dataframe thead th {\n",
       "        text-align: right;\n",
       "    }\n",
       "</style>\n",
       "<table border=\"1\" class=\"dataframe\">\n",
       "  <thead>\n",
       "    <tr style=\"text-align: right;\">\n",
       "      <th></th>\n",
       "      <th>REPORTDATE</th>\n",
       "      <th>ADDRESS</th>\n",
       "      <th>WARD</th>\n",
       "      <th>MAJORINJURIES_BICYCLIST</th>\n",
       "      <th>year</th>\n",
       "    </tr>\n",
       "  </thead>\n",
       "  <tbody>\n",
       "    <tr>\n",
       "      <th>1282</th>\n",
       "      <td>2014-04-26 05:00:00</td>\n",
       "      <td>14TH ST NW / QUINCY ST NW</td>\n",
       "      <td>Ward 4</td>\n",
       "      <td>1</td>\n",
       "      <td>2014</td>\n",
       "    </tr>\n",
       "    <tr>\n",
       "      <th>1817</th>\n",
       "      <td>2014-06-06 05:00:00</td>\n",
       "      <td>GEORGIA AVE NW / KENYON ST NW</td>\n",
       "      <td>Ward 1</td>\n",
       "      <td>1</td>\n",
       "      <td>2014</td>\n",
       "    </tr>\n",
       "    <tr>\n",
       "      <th>1974</th>\n",
       "      <td>2016-10-29 15:43:42</td>\n",
       "      <td>PENNSYLVANIA AVE SE &amp; 3RD STREET SE\\r\\n</td>\n",
       "      <td>Ward 6</td>\n",
       "      <td>1</td>\n",
       "      <td>2016</td>\n",
       "    </tr>\n",
       "    <tr>\n",
       "      <th>2230</th>\n",
       "      <td>2017-12-06 15:02:09</td>\n",
       "      <td>800 BLOCK OF E STREET NW</td>\n",
       "      <td>Ward 6</td>\n",
       "      <td>1</td>\n",
       "      <td>2017</td>\n",
       "    </tr>\n",
       "    <tr>\n",
       "      <th>2363</th>\n",
       "      <td>2016-07-03 01:51:48</td>\n",
       "      <td>4201 18TH STREET NE</td>\n",
       "      <td>Ward 5</td>\n",
       "      <td>1</td>\n",
       "      <td>2016</td>\n",
       "    </tr>\n",
       "  </tbody>\n",
       "</table>\n",
       "</div>"
      ],
      "text/plain": [
       "              REPORTDATE                                  ADDRESS    WARD  \\\n",
       "1282 2014-04-26 05:00:00                14TH ST NW / QUINCY ST NW  Ward 4   \n",
       "1817 2014-06-06 05:00:00            GEORGIA AVE NW / KENYON ST NW  Ward 1   \n",
       "1974 2016-10-29 15:43:42  PENNSYLVANIA AVE SE & 3RD STREET SE\\r\\n  Ward 6   \n",
       "2230 2017-12-06 15:02:09                 800 BLOCK OF E STREET NW  Ward 6   \n",
       "2363 2016-07-03 01:51:48                      4201 18TH STREET NE  Ward 5   \n",
       "\n",
       "      MAJORINJURIES_BICYCLIST  year  \n",
       "1282                        1  2014  \n",
       "1817                        1  2014  \n",
       "1974                        1  2016  \n",
       "2230                        1  2017  \n",
       "2363                        1  2016  "
      ]
     },
     "execution_count": 5,
     "metadata": {},
     "output_type": "execute_result"
    }
   ],
   "source": [
    "df2 = df[df.MAJORINJURIES_BICYCLIST == 1]\n",
    "df2.head()"
   ]
  },
  {
   "cell_type": "markdown",
   "metadata": {},
   "source": [
    "Create another dataframe, grouping by year and summing instances of major injuries."
   ]
  },
  {
   "cell_type": "code",
   "execution_count": 6,
   "metadata": {},
   "outputs": [
    {
     "data": {
      "text/html": [
       "<div>\n",
       "<style scoped>\n",
       "    .dataframe tbody tr th:only-of-type {\n",
       "        vertical-align: middle;\n",
       "    }\n",
       "\n",
       "    .dataframe tbody tr th {\n",
       "        vertical-align: top;\n",
       "    }\n",
       "\n",
       "    .dataframe thead th {\n",
       "        text-align: right;\n",
       "    }\n",
       "</style>\n",
       "<table border=\"1\" class=\"dataframe\">\n",
       "  <thead>\n",
       "    <tr style=\"text-align: right;\">\n",
       "      <th></th>\n",
       "      <th>MAJORINJURIES_BICYCLIST</th>\n",
       "    </tr>\n",
       "    <tr>\n",
       "      <th>year</th>\n",
       "      <th></th>\n",
       "    </tr>\n",
       "  </thead>\n",
       "  <tbody>\n",
       "    <tr>\n",
       "      <th>2012</th>\n",
       "      <td>20</td>\n",
       "    </tr>\n",
       "    <tr>\n",
       "      <th>2013</th>\n",
       "      <td>19</td>\n",
       "    </tr>\n",
       "    <tr>\n",
       "      <th>2014</th>\n",
       "      <td>51</td>\n",
       "    </tr>\n",
       "    <tr>\n",
       "      <th>2015</th>\n",
       "      <td>10</td>\n",
       "    </tr>\n",
       "    <tr>\n",
       "      <th>2016</th>\n",
       "      <td>51</td>\n",
       "    </tr>\n",
       "    <tr>\n",
       "      <th>2017</th>\n",
       "      <td>57</td>\n",
       "    </tr>\n",
       "    <tr>\n",
       "      <th>2018</th>\n",
       "      <td>45</td>\n",
       "    </tr>\n",
       "    <tr>\n",
       "      <th>2019</th>\n",
       "      <td>47</td>\n",
       "    </tr>\n",
       "  </tbody>\n",
       "</table>\n",
       "</div>"
      ],
      "text/plain": [
       "      MAJORINJURIES_BICYCLIST\n",
       "year                         \n",
       "2012                       20\n",
       "2013                       19\n",
       "2014                       51\n",
       "2015                       10\n",
       "2016                       51\n",
       "2017                       57\n",
       "2018                       45\n",
       "2019                       47"
      ]
     },
     "execution_count": 6,
     "metadata": {},
     "output_type": "execute_result"
    }
   ],
   "source": [
    "df3 = df2.groupby(['year'])[['MAJORINJURIES_BICYCLIST']].sum()\n",
    "df3"
   ]
  },
  {
   "cell_type": "markdown",
   "metadata": {},
   "source": [
    "## First visualization - Time Series for DC"
   ]
  },
  {
   "cell_type": "code",
   "execution_count": 7,
   "metadata": {},
   "outputs": [
    {
     "data": {
      "text/plain": [
       "<matplotlib.axes._subplots.AxesSubplot at 0x7fe60c48c278>"
      ]
     },
     "execution_count": 7,
     "metadata": {},
     "output_type": "execute_result"
    },
    {
     "data": {
      "image/png": "[encoded data removed]",
      "text/plain": [
       "<Figure size 432x288 with 1 Axes>"
      ]
     },
     "metadata": {
      "needs_background": "light"
     },
     "output_type": "display_data"
    }
   ],
   "source": [
    "df3.plot.line(title='Major Injuries to Cyclists in Washington, DC: 2012-2019')"
   ]
  },
  {
   "cell_type": "markdown",
   "metadata": {},
   "source": [
    "## Second visualization - Time Series by Ward in DC"
   ]
  },
  {
   "cell_type": "code",
   "execution_count": 8,
   "metadata": {
    "scrolled": true
   },
   "outputs": [
    {
     "data": {
      "image/png": "[encoded data removed]",
      "text/plain": [
       "<Figure size 1080x576 with 1 Axes>"
      ]
     },
     "metadata": {
      "needs_background": "light"
     },
     "output_type": "display_data"
    }
   ],
   "source": [
    "plt.figure(figsize=(15,8))\n",
    "g = sns.countplot(x=\"year\",hue=\"WARD\", data=df2, palette=\"Set1\").set_title('Bicycle Injuries in DC: 2012-2019')"
   ]
  },
  {
   "cell_type": "markdown",
   "metadata": {},
   "source": [
    "## Andy Green Response 11/3:\n",
    "\n",
    "This is super cool! Based on the last graph, it looks like ward 2 leads the other wards in crashes. Just to visualize this more clearly, I've created a new plot that has ward on the x axis, shown below both with and without year added in as a secondary grouping."
   ]
  },
  {
   "cell_type": "code",
   "execution_count": 9,
   "metadata": {},
   "outputs": [
    {
     "data": {
      "text/plain": [
       "Text(0.5, 1.0, 'Bicycle Injuries in DC by Ward: 2012-2019')"
      ]
     },
     "execution_count": 9,
     "metadata": {},
     "output_type": "execute_result"
    },
    {
     "data": {
      "image/png": "[encoded data removed]",
      "text/plain": [
       "<Figure size 1080x576 with 1 Axes>"
      ]
     },
     "metadata": {
      "needs_background": "light"
     },
     "output_type": "display_data"
    }
   ],
   "source": [
    "plt.figure(figsize=(15,8))\n",
    "sns.countplot(x=\"WARD\", data=df2, palette=\"Set1\").set_title('Bicycle Injuries in DC by Ward: 2012-2019')"
   ]
  },
  {
   "cell_type": "code",
   "execution_count": 10,
   "metadata": {},
   "outputs": [
    {
     "data": {
      "image/png": "[encoded data removed]",
      "text/plain": [
       "<Figure size 1080x576 with 1 Axes>"
      ]
     },
     "metadata": {
      "needs_background": "light"
     },
     "output_type": "display_data"
    }
   ],
   "source": [
    "plt.figure(figsize=(15,8))\n",
    "plot = sns.countplot(x=\"WARD\",hue=\"year\", data=df2, palette=\"Set1\").set_title('Bicycle Injuries in DC by Ward and Year: 2012-2019')"
   ]
  }
 ],
 "metadata": {
  "kernelspec": {
   "display_name": "Python 3",
   "language": "python",
   "name": "python3"
  },
  "language_info": {
   "codemirror_mode": {
    "name": "ipython",
    "version": 3
   },
   "file_extension": ".py",
   "mimetype": "text/x-python",
   "name": "python",
   "nbconvert_exporter": "python",
   "pygments_lexer": "ipython3",
   "version": "3.7.1"
  }
 },
 "nbformat": 4,
 "nbformat_minor": 2
}
