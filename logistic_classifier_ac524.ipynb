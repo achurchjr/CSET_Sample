{
 "cells": [
  {
   "cell_type": "markdown",
   "metadata": {},
   "source": [
    "# HMDA Logistic Classifier\n",
    "## Allen Church\n",
    "### PPOL 565\n",
    "#### May 4, 2020"
   ]
  },
  {
   "cell_type": "code",
   "execution_count": 4,
   "metadata": {},
   "outputs": [],
   "source": [
    "import pandas as pd\n",
    "import numpy as np\n",
    "from sklearn.preprocessing import LabelEncoder\n",
    "from sklearn import preprocessing\n",
    "from sklearn.model_selection import cross_val_score, train_test_split\n",
    "from sklearn.metrics import classification_report, confusion_matrix, accuracy_score\n",
    "from sklearn.linear_model import LogisticRegression"
   ]
  },
  {
   "cell_type": "code",
   "execution_count": 5,
   "metadata": {},
   "outputs": [
    {
     "data": {
      "text/plain": [
       "state_code                             727\n",
       "derived_race                             0\n",
       "derived_sex                              0\n",
       "action_taken                             0\n",
       "loan_amount                              0\n",
       "loan_term                              736\n",
       "income                                5852\n",
       "debt_to_income_ratio                 16815\n",
       "applicant_age                            0\n",
       "tract_minority_population_percent        0\n",
       "ffiec_msa_md_median_family_income        0\n",
       "dtype: int64"
      ]
     },
     "execution_count": 5,
     "metadata": {},
     "output_type": "execute_result"
    }
   ],
   "source": [
    "df = pd.read_csv(\"hmda_2018_subset.csv\", usecols=['action_taken','state_code', 'derived_race', 'derived_sex', 'loan_amount', \n",
    "                                                 'loan_term', 'income', 'debt_to_income_ratio', 'applicant_age', 'tract_minority_population_percent', 'ffiec_msa_md_median_family_income'])\n",
    "df.isnull().sum()"
   ]
  },
  {
   "cell_type": "markdown",
   "metadata": {},
   "source": [
    "# Data Cleaning"
   ]
  },
  {
   "cell_type": "code",
   "execution_count": 6,
   "metadata": {},
   "outputs": [],
   "source": [
    "df = df.dropna()"
   ]
  },
  {
   "cell_type": "code",
   "execution_count": 7,
   "metadata": {},
   "outputs": [],
   "source": [
    "# action_taken equals 3 (denied) or 1 (approved)\n",
    "df_apr_deny = df.loc[(df.action_taken==3) | (df.action_taken==1)]\n",
    "\n",
    "# only selecting values for African American or White\n",
    "df_apr_deny = df_apr_deny.loc[(df_apr_deny.derived_race=='White') | (df_apr_deny.derived_race=='Black or African American')]\n",
    "\n",
    "# removing exempt value from debt_income ratio and loan_term, as these are esentially NAs\n",
    "df_apr_deny = df_apr_deny[df_apr_deny[\"debt_to_income_ratio\"].str.contains('Exempt')==False]\n",
    "df_apr_deny = df_apr_deny[df_apr_deny[\"loan_term\"].str.contains('Exempt')==False]"
   ]
  },
  {
   "cell_type": "markdown",
   "metadata": {},
   "source": [
    "# Label Encoding so that $0$ == Approved, $1$ == Denied"
   ]
  },
  {
   "cell_type": "code",
   "execution_count": 8,
   "metadata": {},
   "outputs": [
    {
     "name": "stdout",
     "output_type": "stream",
     "text": [
      "[1 3]\n"
     ]
    }
   ],
   "source": [
    "y = df_apr_deny['action_taken']\n",
    "lb = LabelEncoder()\n",
    "lb.fit(y)\n",
    "print(lb.classes_)\n",
    "y = lb.transform(y)"
   ]
  },
  {
   "cell_type": "markdown",
   "metadata": {},
   "source": [
    "## Creating Feature Matrix"
   ]
  },
  {
   "cell_type": "code",
   "execution_count": 9,
   "metadata": {},
   "outputs": [],
   "source": [
    "X = df_apr_deny.drop(['action_taken'], axis=1)"
   ]
  },
  {
   "cell_type": "code",
   "execution_count": 10,
   "metadata": {},
   "outputs": [
    {
     "data": {
      "text/html": [
       "<div>\n",
       "<style scoped>\n",
       "    .dataframe tbody tr th:only-of-type {\n",
       "        vertical-align: middle;\n",
       "    }\n",
       "\n",
       "    .dataframe tbody tr th {\n",
       "        vertical-align: top;\n",
       "    }\n",
       "\n",
       "    .dataframe thead th {\n",
       "        text-align: right;\n",
       "    }\n",
       "</style>\n",
       "<table border=\"1\" class=\"dataframe\">\n",
       "  <thead>\n",
       "    <tr style=\"text-align: right;\">\n",
       "      <th></th>\n",
       "      <th>derived_race</th>\n",
       "      <th>loan_amount</th>\n",
       "      <th>loan_term</th>\n",
       "      <th>income</th>\n",
       "      <th>debt_to_income_ratio</th>\n",
       "      <th>tract_minority_population_percent</th>\n",
       "      <th>ffiec_msa_md_median_family_income</th>\n",
       "      <th>state_code_AK</th>\n",
       "      <th>state_code_AL</th>\n",
       "      <th>state_code_AR</th>\n",
       "      <th>...</th>\n",
       "      <th>derived_sex_Male</th>\n",
       "      <th>derived_sex_Sex Not Available</th>\n",
       "      <th>applicant_age_25-34</th>\n",
       "      <th>applicant_age_35-44</th>\n",
       "      <th>applicant_age_45-54</th>\n",
       "      <th>applicant_age_55-64</th>\n",
       "      <th>applicant_age_65-74</th>\n",
       "      <th>applicant_age_8888</th>\n",
       "      <th>applicant_age_&lt;25</th>\n",
       "      <th>applicant_age_&gt;74</th>\n",
       "    </tr>\n",
       "  </thead>\n",
       "  <tbody>\n",
       "    <tr>\n",
       "      <th>0</th>\n",
       "      <td>1</td>\n",
       "      <td>195000</td>\n",
       "      <td>360</td>\n",
       "      <td>78.0</td>\n",
       "      <td>60</td>\n",
       "      <td>14.04</td>\n",
       "      <td>82400</td>\n",
       "      <td>0</td>\n",
       "      <td>0</td>\n",
       "      <td>0</td>\n",
       "      <td>...</td>\n",
       "      <td>1</td>\n",
       "      <td>0</td>\n",
       "      <td>0</td>\n",
       "      <td>0</td>\n",
       "      <td>1</td>\n",
       "      <td>0</td>\n",
       "      <td>0</td>\n",
       "      <td>0</td>\n",
       "      <td>0</td>\n",
       "      <td>0</td>\n",
       "    </tr>\n",
       "    <tr>\n",
       "      <th>1</th>\n",
       "      <td>1</td>\n",
       "      <td>205000</td>\n",
       "      <td>360</td>\n",
       "      <td>64.0</td>\n",
       "      <td>45</td>\n",
       "      <td>11.80</td>\n",
       "      <td>76600</td>\n",
       "      <td>0</td>\n",
       "      <td>0</td>\n",
       "      <td>0</td>\n",
       "      <td>...</td>\n",
       "      <td>1</td>\n",
       "      <td>0</td>\n",
       "      <td>1</td>\n",
       "      <td>0</td>\n",
       "      <td>0</td>\n",
       "      <td>0</td>\n",
       "      <td>0</td>\n",
       "      <td>0</td>\n",
       "      <td>0</td>\n",
       "      <td>0</td>\n",
       "    </tr>\n",
       "    <tr>\n",
       "      <th>2</th>\n",
       "      <td>1</td>\n",
       "      <td>105000</td>\n",
       "      <td>361</td>\n",
       "      <td>41.0</td>\n",
       "      <td>55</td>\n",
       "      <td>8.64</td>\n",
       "      <td>74800</td>\n",
       "      <td>0</td>\n",
       "      <td>0</td>\n",
       "      <td>0</td>\n",
       "      <td>...</td>\n",
       "      <td>0</td>\n",
       "      <td>0</td>\n",
       "      <td>0</td>\n",
       "      <td>0</td>\n",
       "      <td>0</td>\n",
       "      <td>0</td>\n",
       "      <td>0</td>\n",
       "      <td>0</td>\n",
       "      <td>0</td>\n",
       "      <td>1</td>\n",
       "    </tr>\n",
       "    <tr>\n",
       "      <th>3</th>\n",
       "      <td>1</td>\n",
       "      <td>125000</td>\n",
       "      <td>20</td>\n",
       "      <td>142.0</td>\n",
       "      <td>37</td>\n",
       "      <td>7.71</td>\n",
       "      <td>60500</td>\n",
       "      <td>0</td>\n",
       "      <td>0</td>\n",
       "      <td>0</td>\n",
       "      <td>...</td>\n",
       "      <td>1</td>\n",
       "      <td>0</td>\n",
       "      <td>0</td>\n",
       "      <td>1</td>\n",
       "      <td>0</td>\n",
       "      <td>0</td>\n",
       "      <td>0</td>\n",
       "      <td>0</td>\n",
       "      <td>0</td>\n",
       "      <td>0</td>\n",
       "    </tr>\n",
       "    <tr>\n",
       "      <th>4</th>\n",
       "      <td>0</td>\n",
       "      <td>275000</td>\n",
       "      <td>360</td>\n",
       "      <td>85.0</td>\n",
       "      <td>41</td>\n",
       "      <td>77.77</td>\n",
       "      <td>75600</td>\n",
       "      <td>0</td>\n",
       "      <td>0</td>\n",
       "      <td>0</td>\n",
       "      <td>...</td>\n",
       "      <td>0</td>\n",
       "      <td>0</td>\n",
       "      <td>0</td>\n",
       "      <td>0</td>\n",
       "      <td>1</td>\n",
       "      <td>0</td>\n",
       "      <td>0</td>\n",
       "      <td>0</td>\n",
       "      <td>0</td>\n",
       "      <td>0</td>\n",
       "    </tr>\n",
       "  </tbody>\n",
       "</table>\n",
       "<p>5 rows × 71 columns</p>\n",
       "</div>"
      ],
      "text/plain": [
       "   derived_race  loan_amount loan_term  income debt_to_income_ratio  \\\n",
       "0             1       195000       360    78.0                   60   \n",
       "1             1       205000       360    64.0                   45   \n",
       "2             1       105000       361    41.0                   55   \n",
       "3             1       125000        20   142.0                   37   \n",
       "4             0       275000       360    85.0                   41   \n",
       "\n",
       "   tract_minority_population_percent  ffiec_msa_md_median_family_income  \\\n",
       "0                              14.04                              82400   \n",
       "1                              11.80                              76600   \n",
       "2                               8.64                              74800   \n",
       "3                               7.71                              60500   \n",
       "4                              77.77                              75600   \n",
       "\n",
       "   state_code_AK  state_code_AL  state_code_AR        ...          \\\n",
       "0              0              0              0        ...           \n",
       "1              0              0              0        ...           \n",
       "2              0              0              0        ...           \n",
       "3              0              0              0        ...           \n",
       "4              0              0              0        ...           \n",
       "\n",
       "   derived_sex_Male  derived_sex_Sex Not Available  applicant_age_25-34  \\\n",
       "0                 1                              0                    0   \n",
       "1                 1                              0                    1   \n",
       "2                 0                              0                    0   \n",
       "3                 1                              0                    0   \n",
       "4                 0                              0                    0   \n",
       "\n",
       "   applicant_age_35-44  applicant_age_45-54  applicant_age_55-64  \\\n",
       "0                    0                    1                    0   \n",
       "1                    0                    0                    0   \n",
       "2                    0                    0                    0   \n",
       "3                    1                    0                    0   \n",
       "4                    0                    1                    0   \n",
       "\n",
       "   applicant_age_65-74  applicant_age_8888  applicant_age_<25  \\\n",
       "0                    0                   0                  0   \n",
       "1                    0                   0                  0   \n",
       "2                    0                   0                  0   \n",
       "3                    0                   0                  0   \n",
       "4                    0                   0                  0   \n",
       "\n",
       "   applicant_age_>74  \n",
       "0                  0  \n",
       "1                  0  \n",
       "2                  1  \n",
       "3                  0  \n",
       "4                  0  \n",
       "\n",
       "[5 rows x 71 columns]"
      ]
     },
     "execution_count": 10,
     "metadata": {},
     "output_type": "execute_result"
    }
   ],
   "source": [
    "# below transforms derived_race so that white = 1 and African American = 0\n",
    "lb.fit(X[\"derived_race\"])\n",
    "X[\"derived_race\"] = lb.transform(X[\"derived_race\"])\n",
    "\n",
    "# encoding multiple class variables into dummy variables\n",
    "X = pd.get_dummies(X, columns=[\"state_code\",\"derived_sex\",\"applicant_age\"])\n",
    "X.head()"
   ]
  },
  {
   "cell_type": "markdown",
   "metadata": {},
   "source": [
    "# Logistic Regression"
   ]
  },
  {
   "cell_type": "code",
   "execution_count": 11,
   "metadata": {},
   "outputs": [],
   "source": [
    "# specified max_iter due to warning message, default is 100\n",
    "log_reg = LogisticRegression(max_iter=1000, solver='lbfgs')"
   ]
  },
  {
   "cell_type": "code",
   "execution_count": 12,
   "metadata": {},
   "outputs": [
    {
     "data": {
      "text/plain": [
       "LogisticRegression(C=1.0, class_weight=None, dual=False, fit_intercept=True,\n",
       "                   intercept_scaling=1, l1_ratio=None, max_iter=1000,\n",
       "                   multi_class='warn', n_jobs=None, penalty='l2',\n",
       "                   random_state=None, solver='lbfgs', tol=0.0001, verbose=0,\n",
       "                   warm_start=False)"
      ]
     },
     "execution_count": 12,
     "metadata": {},
     "output_type": "execute_result"
    }
   ],
   "source": [
    "log_reg.fit(X, y)"
   ]
  },
  {
   "cell_type": "code",
   "execution_count": 13,
   "metadata": {},
   "outputs": [],
   "source": [
    "X_train, X_test, y_train, y_test = train_test_split(X, y, test_size=0.3, random_state=1) # 70% training and 30% test"
   ]
  },
  {
   "cell_type": "code",
   "execution_count": 14,
   "metadata": {},
   "outputs": [
    {
     "data": {
      "text/plain": [
       "array([0.79373952, 0.79541643, 0.79362416, 0.79474273, 0.799217  ,\n",
       "       0.7852349 , 0.80246223, 0.77224398, 0.79798545, 0.80246223])"
      ]
     },
     "execution_count": 14,
     "metadata": {},
     "output_type": "execute_result"
    }
   ],
   "source": [
    "cross_val_score(log_reg, X_train, y_train, cv=10)"
   ]
  },
  {
   "cell_type": "markdown",
   "metadata": {},
   "source": [
    "# Feature Importance and Coefficient Estimates"
   ]
  },
  {
   "cell_type": "code",
   "execution_count": 15,
   "metadata": {},
   "outputs": [
    {
     "data": {
      "text/html": [
       "<div>\n",
       "<style scoped>\n",
       "    .dataframe tbody tr th:only-of-type {\n",
       "        vertical-align: middle;\n",
       "    }\n",
       "\n",
       "    .dataframe tbody tr th {\n",
       "        vertical-align: top;\n",
       "    }\n",
       "\n",
       "    .dataframe thead th {\n",
       "        text-align: right;\n",
       "    }\n",
       "</style>\n",
       "<table border=\"1\" class=\"dataframe\">\n",
       "  <thead>\n",
       "    <tr style=\"text-align: right;\">\n",
       "      <th></th>\n",
       "      <th>var</th>\n",
       "      <th>estimate</th>\n",
       "    </tr>\n",
       "  </thead>\n",
       "  <tbody>\n",
       "    <tr>\n",
       "      <th>4</th>\n",
       "      <td>debt_to_income_ratio</td>\n",
       "      <td>0.046198</td>\n",
       "    </tr>\n",
       "    <tr>\n",
       "      <th>5</th>\n",
       "      <td>tract_minority_population_percent</td>\n",
       "      <td>0.003107</td>\n",
       "    </tr>\n",
       "    <tr>\n",
       "      <th>66</th>\n",
       "      <td>applicant_age_55-64</td>\n",
       "      <td>0.000227</td>\n",
       "    </tr>\n",
       "    <tr>\n",
       "      <th>59</th>\n",
       "      <td>derived_sex_Female</td>\n",
       "      <td>0.000213</td>\n",
       "    </tr>\n",
       "    <tr>\n",
       "      <th>11</th>\n",
       "      <td>state_code_CA</td>\n",
       "      <td>0.000208</td>\n",
       "    </tr>\n",
       "    <tr>\n",
       "      <th>61</th>\n",
       "      <td>derived_sex_Male</td>\n",
       "      <td>0.000196</td>\n",
       "    </tr>\n",
       "    <tr>\n",
       "      <th>70</th>\n",
       "      <td>applicant_age_&gt;74</td>\n",
       "      <td>0.000185</td>\n",
       "    </tr>\n",
       "    <tr>\n",
       "      <th>65</th>\n",
       "      <td>applicant_age_45-54</td>\n",
       "      <td>0.000179</td>\n",
       "    </tr>\n",
       "    <tr>\n",
       "      <th>67</th>\n",
       "      <td>applicant_age_65-74</td>\n",
       "      <td>0.000174</td>\n",
       "    </tr>\n",
       "    <tr>\n",
       "      <th>16</th>\n",
       "      <td>state_code_FL</td>\n",
       "      <td>0.000130</td>\n",
       "    </tr>\n",
       "  </tbody>\n",
       "</table>\n",
       "</div>"
      ],
      "text/plain": [
       "                                  var  estimate\n",
       "4                debt_to_income_ratio  0.046198\n",
       "5   tract_minority_population_percent  0.003107\n",
       "66                applicant_age_55-64  0.000227\n",
       "59                 derived_sex_Female  0.000213\n",
       "11                      state_code_CA  0.000208\n",
       "61                   derived_sex_Male  0.000196\n",
       "70                  applicant_age_>74  0.000185\n",
       "65                applicant_age_45-54  0.000179\n",
       "67                applicant_age_65-74  0.000174\n",
       "16                      state_code_FL  0.000130"
      ]
     },
     "execution_count": 15,
     "metadata": {},
     "output_type": "execute_result"
    }
   ],
   "source": [
    "coef = pd.concat([pd.DataFrame(X.columns),pd.DataFrame(np.transpose(log_reg.coef_))], axis = 1)\n",
    "coef.columns = ['var', 'estimate']\n",
    "coef.nlargest(10, 'estimate')"
   ]
  },
  {
   "cell_type": "markdown",
   "metadata": {},
   "source": [
    "# Validation"
   ]
  },
  {
   "cell_type": "code",
   "execution_count": 16,
   "metadata": {},
   "outputs": [
    {
     "data": {
      "text/plain": [
       "0.792"
      ]
     },
     "execution_count": 16,
     "metadata": {},
     "output_type": "execute_result"
    }
   ],
   "source": [
    "round(log_reg.score(X, y),3)"
   ]
  },
  {
   "cell_type": "code",
   "execution_count": 17,
   "metadata": {},
   "outputs": [
    {
     "data": {
      "text/plain": [
       "array([[19253,   446],\n",
       "       [ 4864,   977]])"
      ]
     },
     "execution_count": 17,
     "metadata": {},
     "output_type": "execute_result"
    }
   ],
   "source": [
    "confusion_matrix(y, log_reg.predict(X))"
   ]
  },
  {
   "cell_type": "code",
   "execution_count": 18,
   "metadata": {},
   "outputs": [
    {
     "name": "stdout",
     "output_type": "stream",
     "text": [
      "              precision    recall  f1-score   support\n",
      "\n",
      "           0       0.80      0.98      0.88     19699\n",
      "           1       0.69      0.17      0.27      5841\n",
      "\n",
      "    accuracy                           0.79     25540\n",
      "   macro avg       0.74      0.57      0.57     25540\n",
      "weighted avg       0.77      0.79      0.74     25540\n",
      "\n"
     ]
    }
   ],
   "source": [
    "print(classification_report(y, log_reg.predict(X)))"
   ]
  },
  {
   "cell_type": "markdown",
   "metadata": {},
   "source": [
    "The confusion matrix displays results from the regression where one class was confused for another. On the diagonals of the confusion matrix are the True Positive and True Negative counts, respectively. All other rows are misclassification counts. In this case, the overall fraction of correct predictions is given by the sum of correct predictions over the sum of all predictions, or $0.69\\%$. The confusion matrix above displays $19253$ True Negatives, $4864$ False Negatives,  $446$ False Positives, $977$ True Postives. The results above indicate that the logistic regression model is most likely to make a True Negative classification."
   ]
  }
 ],
 "metadata": {
  "kernelspec": {
   "display_name": "Python 3",
   "language": "python",
   "name": "python3"
  },
  "language_info": {
   "codemirror_mode": {
    "name": "ipython",
    "version": 3
   },
   "file_extension": ".py",
   "mimetype": "text/x-python",
   "name": "python",
   "nbconvert_exporter": "python",
   "pygments_lexer": "ipython3",
   "version": "3.7.1"
  }
 },
 "nbformat": 4,
 "nbformat_minor": 2
}
